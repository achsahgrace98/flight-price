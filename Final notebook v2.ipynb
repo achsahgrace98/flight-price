{
 "cells": [
  {
   "cell_type": "markdown",
   "id": "b0b16c6b-f174-4d02-8593-9d472fa71a41",
   "metadata": {},
   "source": [
    "    INTRODUCTION\n",
    "The objective of the study is to analyse the flight booking dataset obtained from “Ease My Trip” website and to conduct various statistical hypothesis tests in order to get meaningful information from it. The 'Linear Regression' statistical algorithm would be used to train the dataset and predict a continuous target variable. 'Easemytrip' is an internet platform for booking flight tickets, and hence a platform that potential passengers use to buy tickets. A thorough study of the data will aid in the discovery of valuable insights that will be of enormous value to passengers."
   ]
  },
  {
   "cell_type": "markdown",
   "id": "6f5e587d-229d-45c6-a270-709f5c3a82fc",
   "metadata": {},
   "source": [
    "The various features of the cleaned dataset are explained below:\n",
    "1) Airline: The name of the airline company is stored in the airline column. It is a categorical feature having 6 different airlines.\n",
    "2) from: City from which the flight takes off. It is a categorical feature having 6 unique cities.\n",
    "3) dep_time: This is a derived categorical feature obtained created by grouping time periods into bins. It stores information about the departure time and have 6 unique time labels.\n",
    "4) Stop: A categorical feature with 3 distinct values that stores the number of stops between the source and destination cities.\n",
    "5) arr_time: This is a derived categorical feature created by grouping time intervals into bins. It has six distinct time labels and keeps information about the arrival time.\n",
    "6) to: City where the flight will land. It is a categorical feature having 6 unique cities.\n",
    "7) time_taken: A continuous feature that displays the overall amount of time it takes to travel between cities in hours."
   ]
  },
  {
   "cell_type": "raw",
   "id": "4d0f02bd-99a6-441e-ba97-8f2777925d8a",
   "metadata": {},
   "source": [
    "'ch_code' - description:\n",
    "AI: Air India\n",
    "    -AI is the airline code for Air India, the flag carrier airline of India.\n",
    "UK: Vistara (UK)\n",
    "    -UK is the airline code for Vistara, a full-service airline in India, a joint venture between Tata Sons and Singapore Airlines.\n",
    "SG: SpiceJet\n",
    "    -SG is the airline code for SpiceJet, a low-cost airline in India.\n",
    "I5: AirAsia India\n",
    "    -I5 is the airline code for AirAsia India, a low-cost carrier in India, part of the larger AirAsia group.\n",
    "G8: GoAir (now rebranded as Go First)\n",
    "    -G8 is the airline code for GoAir, a low-cost carrier in India that has now rebranded as Go First.\n",
    "6E: IndiGo\n",
    "    -6E is the airline code for IndiGo, one of the largest low-cost airlines in India.\n",
    "2T: Trujet\n",
    "    -2T is the airline code for Trujet, a regional carrier based in India.\n",
    "S5: Sundair\n",
    "    -S5 is the airline code for Sundair, a German airline, but this could also represent another carrier depending on context."
   ]
  },
  {
   "cell_type": "code",
   "execution_count": 3,
   "id": "2ac89538-f4c0-4a41-9b7c-8f3a27582cc3",
   "metadata": {},
   "outputs": [],
   "source": [
    "import numpy as np\n",
    "import pandas as pd\n",
    "import matplotlib.pyplot as plt\n",
    "import seaborn as sns"
   ]
  },
  {
   "cell_type": "markdown",
   "id": "d4077c17-b32b-45ee-a0b8-a9642268541a",
   "metadata": {},
   "source": [
    "## Load the dataset:"
   ]
  },
  {
   "cell_type": "code",
   "execution_count": 5,
   "id": "5f197d6e-ac69-4554-a8c1-fb78cec5c573",
   "metadata": {},
   "outputs": [
    {
     "data": {
      "text/html": [
       "<div>\n",
       "<style scoped>\n",
       "    .dataframe tbody tr th:only-of-type {\n",
       "        vertical-align: middle;\n",
       "    }\n",
       "\n",
       "    .dataframe tbody tr th {\n",
       "        vertical-align: top;\n",
       "    }\n",
       "\n",
       "    .dataframe thead th {\n",
       "        text-align: right;\n",
       "    }\n",
       "</style>\n",
       "<table border=\"1\" class=\"dataframe\">\n",
       "  <thead>\n",
       "    <tr style=\"text-align: right;\">\n",
       "      <th></th>\n",
       "      <th>date</th>\n",
       "      <th>airline</th>\n",
       "      <th>ch_code</th>\n",
       "      <th>num_code</th>\n",
       "      <th>dep_time</th>\n",
       "      <th>from</th>\n",
       "      <th>time_taken</th>\n",
       "      <th>stop</th>\n",
       "      <th>arr_time</th>\n",
       "      <th>to</th>\n",
       "      <th>price</th>\n",
       "      <th>class</th>\n",
       "    </tr>\n",
       "  </thead>\n",
       "  <tbody>\n",
       "    <tr>\n",
       "      <th>0</th>\n",
       "      <td>11-02-2022</td>\n",
       "      <td>SpiceJet</td>\n",
       "      <td>SG</td>\n",
       "      <td>8709</td>\n",
       "      <td>18:55</td>\n",
       "      <td>Delhi</td>\n",
       "      <td>02h 10m</td>\n",
       "      <td>non-stop</td>\n",
       "      <td>21:05</td>\n",
       "      <td>Mumbai</td>\n",
       "      <td>5,953</td>\n",
       "      <td>economy</td>\n",
       "    </tr>\n",
       "    <tr>\n",
       "      <th>1</th>\n",
       "      <td>11-02-2022</td>\n",
       "      <td>SpiceJet</td>\n",
       "      <td>SG</td>\n",
       "      <td>8157</td>\n",
       "      <td>06:20</td>\n",
       "      <td>Delhi</td>\n",
       "      <td>02h 20m</td>\n",
       "      <td>non-stop</td>\n",
       "      <td>08:40</td>\n",
       "      <td>Mumbai</td>\n",
       "      <td>5,953</td>\n",
       "      <td>economy</td>\n",
       "    </tr>\n",
       "    <tr>\n",
       "      <th>2</th>\n",
       "      <td>11-02-2022</td>\n",
       "      <td>AirAsia</td>\n",
       "      <td>I5</td>\n",
       "      <td>764</td>\n",
       "      <td>04:25</td>\n",
       "      <td>Delhi</td>\n",
       "      <td>02h 10m</td>\n",
       "      <td>non-stop</td>\n",
       "      <td>06:35</td>\n",
       "      <td>Mumbai</td>\n",
       "      <td>5,956</td>\n",
       "      <td>economy</td>\n",
       "    </tr>\n",
       "    <tr>\n",
       "      <th>3</th>\n",
       "      <td>11-02-2022</td>\n",
       "      <td>Vistara</td>\n",
       "      <td>UK</td>\n",
       "      <td>995</td>\n",
       "      <td>10:20</td>\n",
       "      <td>Delhi</td>\n",
       "      <td>02h 15m</td>\n",
       "      <td>non-stop</td>\n",
       "      <td>12:35</td>\n",
       "      <td>Mumbai</td>\n",
       "      <td>5,955</td>\n",
       "      <td>economy</td>\n",
       "    </tr>\n",
       "    <tr>\n",
       "      <th>4</th>\n",
       "      <td>11-02-2022</td>\n",
       "      <td>Vistara</td>\n",
       "      <td>UK</td>\n",
       "      <td>963</td>\n",
       "      <td>08:50</td>\n",
       "      <td>Delhi</td>\n",
       "      <td>02h 20m</td>\n",
       "      <td>non-stop</td>\n",
       "      <td>11:10</td>\n",
       "      <td>Mumbai</td>\n",
       "      <td>5,955</td>\n",
       "      <td>economy</td>\n",
       "    </tr>\n",
       "  </tbody>\n",
       "</table>\n",
       "</div>"
      ],
      "text/plain": [
       "         date   airline ch_code  num_code dep_time   from time_taken  \\\n",
       "0  11-02-2022  SpiceJet      SG      8709    18:55  Delhi    02h 10m   \n",
       "1  11-02-2022  SpiceJet      SG      8157    06:20  Delhi    02h 20m   \n",
       "2  11-02-2022   AirAsia      I5       764    04:25  Delhi    02h 10m   \n",
       "3  11-02-2022   Vistara      UK       995    10:20  Delhi    02h 15m   \n",
       "4  11-02-2022   Vistara      UK       963    08:50  Delhi    02h 20m   \n",
       "\n",
       "        stop arr_time      to  price    class  \n",
       "0  non-stop     21:05  Mumbai  5,953  economy  \n",
       "1  non-stop     08:40  Mumbai  5,953  economy  \n",
       "2  non-stop     06:35  Mumbai  5,956  economy  \n",
       "3  non-stop     12:35  Mumbai  5,955  economy  \n",
       "4  non-stop     11:10  Mumbai  5,955  economy  "
      ]
     },
     "execution_count": 5,
     "metadata": {},
     "output_type": "execute_result"
    }
   ],
   "source": [
    "df_bus = pd.read_csv('business.csv')\n",
    "df_bus['class'] = 'business'\n",
    "df_eco = pd.read_csv('economy.csv')\n",
    "df_eco['class'] = 'economy'\n",
    "df = pd.concat([df_eco,df_bus], axis = 0)\n",
    "df.head()"
   ]
  },
  {
   "cell_type": "markdown",
   "id": "c8e16dbe-68b7-424f-ad6c-0cdfa0a79ca8",
   "metadata": {},
   "source": [
    "### Checking the basic informations of the datasets:"
   ]
  },
  {
   "cell_type": "code",
   "execution_count": 7,
   "id": "8f0f9a4e-d394-403f-b140-7f96989c2973",
   "metadata": {},
   "outputs": [
    {
     "name": "stdout",
     "output_type": "stream",
     "text": [
      "<class 'pandas.core.frame.DataFrame'>\n",
      "Index: 300261 entries, 0 to 93486\n",
      "Data columns (total 12 columns):\n",
      " #   Column      Non-Null Count   Dtype \n",
      "---  ------      --------------   ----- \n",
      " 0   date        300261 non-null  object\n",
      " 1   airline     300261 non-null  object\n",
      " 2   ch_code     300261 non-null  object\n",
      " 3   num_code    300261 non-null  int64 \n",
      " 4   dep_time    300261 non-null  object\n",
      " 5   from        300261 non-null  object\n",
      " 6   time_taken  300261 non-null  object\n",
      " 7   stop        300261 non-null  object\n",
      " 8   arr_time    300261 non-null  object\n",
      " 9   to          300261 non-null  object\n",
      " 10  price       300261 non-null  object\n",
      " 11  class       300261 non-null  object\n",
      "dtypes: int64(1), object(11)\n",
      "memory usage: 29.8+ MB\n"
     ]
    }
   ],
   "source": [
    "df.info()"
   ]
  },
  {
   "cell_type": "code",
   "execution_count": 8,
   "id": "7561254e-cebb-4767-9995-0d4e16003723",
   "metadata": {},
   "outputs": [
    {
     "data": {
      "text/plain": [
       "(300261, 12)"
      ]
     },
     "execution_count": 8,
     "metadata": {},
     "output_type": "execute_result"
    }
   ],
   "source": [
    "df.shape"
   ]
  },
  {
   "cell_type": "code",
   "execution_count": 9,
   "id": "a3f6c06c-8361-410a-917e-f031cdd2cafd",
   "metadata": {},
   "outputs": [
    {
     "data": {
      "text/plain": [
       "date          0\n",
       "airline       0\n",
       "ch_code       0\n",
       "num_code      0\n",
       "dep_time      0\n",
       "from          0\n",
       "time_taken    0\n",
       "stop          0\n",
       "arr_time      0\n",
       "to            0\n",
       "price         0\n",
       "class         0\n",
       "dtype: int64"
      ]
     },
     "execution_count": 9,
     "metadata": {},
     "output_type": "execute_result"
    }
   ],
   "source": [
    "df.isnull().sum()"
   ]
  },
  {
   "cell_type": "code",
   "execution_count": 10,
   "id": "1033917f-67a2-4603-a231-ab29eead28c7",
   "metadata": {},
   "outputs": [
    {
     "data": {
      "text/html": [
       "<div>\n",
       "<style scoped>\n",
       "    .dataframe tbody tr th:only-of-type {\n",
       "        vertical-align: middle;\n",
       "    }\n",
       "\n",
       "    .dataframe tbody tr th {\n",
       "        vertical-align: top;\n",
       "    }\n",
       "\n",
       "    .dataframe thead th {\n",
       "        text-align: right;\n",
       "    }\n",
       "</style>\n",
       "<table border=\"1\" class=\"dataframe\">\n",
       "  <thead>\n",
       "    <tr style=\"text-align: right;\">\n",
       "      <th></th>\n",
       "      <th>date</th>\n",
       "      <th>airline</th>\n",
       "      <th>ch_code</th>\n",
       "      <th>num_code</th>\n",
       "      <th>dep_time</th>\n",
       "      <th>from</th>\n",
       "      <th>time_taken</th>\n",
       "      <th>stop</th>\n",
       "      <th>arr_time</th>\n",
       "      <th>to</th>\n",
       "      <th>price</th>\n",
       "      <th>class</th>\n",
       "    </tr>\n",
       "  </thead>\n",
       "  <tbody>\n",
       "    <tr>\n",
       "      <th>563</th>\n",
       "      <td>14-02-2022</td>\n",
       "      <td>Air India</td>\n",
       "      <td>AI</td>\n",
       "      <td>807</td>\n",
       "      <td>17:20</td>\n",
       "      <td>Delhi</td>\n",
       "      <td>15h 15m</td>\n",
       "      <td>1-stop\\n\\t\\t\\t\\t\\t\\t\\t\\t\\t\\t\\t\\t\\n\\t\\t\\t\\t\\t\\t...</td>\n",
       "      <td>08:35</td>\n",
       "      <td>Mumbai</td>\n",
       "      <td>12,150</td>\n",
       "      <td>economy</td>\n",
       "    </tr>\n",
       "    <tr>\n",
       "      <th>6181</th>\n",
       "      <td>13-03-2022</td>\n",
       "      <td>Air India</td>\n",
       "      <td>AI</td>\n",
       "      <td>475</td>\n",
       "      <td>13:00</td>\n",
       "      <td>Delhi</td>\n",
       "      <td>24h 35m</td>\n",
       "      <td>1-stop\\n\\t\\t\\t\\t\\t\\t\\t\\t\\t\\t\\t\\t\\n\\t\\t\\t\\t\\t\\t...</td>\n",
       "      <td>13:35</td>\n",
       "      <td>Mumbai</td>\n",
       "      <td>4,780</td>\n",
       "      <td>economy</td>\n",
       "    </tr>\n",
       "  </tbody>\n",
       "</table>\n",
       "</div>"
      ],
      "text/plain": [
       "            date    airline ch_code  num_code dep_time   from time_taken  \\\n",
       "563   14-02-2022  Air India      AI       807    17:20  Delhi    15h 15m   \n",
       "6181  13-03-2022  Air India      AI       475    13:00  Delhi    24h 35m   \n",
       "\n",
       "                                                   stop arr_time      to  \\\n",
       "563   1-stop\\n\\t\\t\\t\\t\\t\\t\\t\\t\\t\\t\\t\\t\\n\\t\\t\\t\\t\\t\\t...    08:35  Mumbai   \n",
       "6181  1-stop\\n\\t\\t\\t\\t\\t\\t\\t\\t\\t\\t\\t\\t\\n\\t\\t\\t\\t\\t\\t...    13:35  Mumbai   \n",
       "\n",
       "       price    class  \n",
       "563   12,150  economy  \n",
       "6181   4,780  economy  "
      ]
     },
     "execution_count": 10,
     "metadata": {},
     "output_type": "execute_result"
    }
   ],
   "source": [
    "df[df.duplicated()]"
   ]
  },
  {
   "cell_type": "markdown",
   "id": "0e7e3ba8-ed16-499c-929d-e91498194a5a",
   "metadata": {},
   "source": [
    "### Checking for the anomolies:"
   ]
  },
  {
   "cell_type": "code",
   "execution_count": 12,
   "id": "eaf2edaf-86b8-4060-bdb9-ff0f65f5a427",
   "metadata": {},
   "outputs": [
    {
     "data": {
      "text/plain": [
       "['date',\n",
       " 'airline',\n",
       " 'ch_code',\n",
       " 'num_code',\n",
       " 'dep_time',\n",
       " 'from',\n",
       " 'time_taken',\n",
       " 'stop',\n",
       " 'arr_time',\n",
       " 'to',\n",
       " 'price',\n",
       " 'class']"
      ]
     },
     "execution_count": 12,
     "metadata": {},
     "output_type": "execute_result"
    }
   ],
   "source": [
    "# taking the columns as a list:\n",
    "columns = df.columns.to_list()\n",
    "columns"
   ]
  },
  {
   "cell_type": "code",
   "execution_count": 13,
   "id": "ed0b81bd-111e-4246-8ba3-706157ab2826",
   "metadata": {},
   "outputs": [],
   "source": [
    "sep_col = ['airline', 'ch_code', 'num_code', 'from', 'stop', 'to']"
   ]
  },
  {
   "cell_type": "code",
   "execution_count": 14,
   "id": "1385dd3b-ec63-424c-bf12-be4be29af865",
   "metadata": {},
   "outputs": [
    {
     "name": "stdout",
     "output_type": "stream",
     "text": [
      "airline\n",
      "Vistara      42.582620\n",
      "Air India    26.941228\n",
      "Indigo       14.360839\n",
      "GO FIRST      7.718951\n",
      "AirAsia       5.361336\n",
      "SpiceJet      3.001056\n",
      "StarAir       0.020316\n",
      "Trujet        0.013655\n",
      "Name: proportion, dtype: float64\n",
      "--------------------\n",
      "ch_code\n",
      "UK    42.582620\n",
      "AI    26.941228\n",
      "6E    14.360839\n",
      "G8     7.718951\n",
      "I5     5.361336\n",
      "SG     3.001056\n",
      "S5     0.020316\n",
      "2T     0.013655\n",
      "Name: proportion, dtype: float64\n",
      "--------------------\n",
      "num_code\n",
      "808     1.103373\n",
      "706     1.077396\n",
      "772     0.952505\n",
      "774     0.935186\n",
      "720     0.882566\n",
      "          ...   \n",
      "9991    0.000333\n",
      "150     0.000333\n",
      "5003    0.000333\n",
      "6613    0.000333\n",
      "9923    0.000333\n",
      "Name: proportion, Length: 1255, dtype: float64\n",
      "--------------------\n",
      "from\n",
      "Delhi        20.430559\n",
      "Mumbai       20.283353\n",
      "Bangalore    17.353569\n",
      "Kolkata      15.435571\n",
      "Hyderabad    13.608161\n",
      "Chennai      12.888787\n",
      "Name: proportion, dtype: float64\n",
      "--------------------\n",
      "stop\n",
      "1-stop\\n\\t\\t\\t\\t\\t\\t\\t\\t\\t\\t\\t\\t\\n\\t\\t\\t\\t\\t\\t\\t\\t\\t\\t\\t\\t                      81.130417\n",
      "non-stop                                                                        12.004223\n",
      "2+-stop                                                                          4.425483\n",
      "1-stop\\n\\t\\t\\t\\t\\t\\t\\t\\t\\t\\t\\t\\tVia IXU\\n\\t\\t\\t\\t\\t\\t\\t\\t\\t\\t\\t\\t                0.612467\n",
      "1-stop\\n\\t\\t\\t\\t\\t\\t\\t\\t\\t\\t\\t\\tVia IDR\\n\\t\\t\\t\\t\\t\\t\\t\\t\\t\\t\\t\\t                0.465595\n",
      "1-stop\\n\\t\\t\\t\\t\\t\\t\\t\\t\\t\\t\\t\\tVia Patna\\n\\t\\t\\t\\t\\t\\t\\t\\t\\t\\t\\t\\t              0.224471\n",
      "1-stop\\n\\t\\t\\t\\t\\t\\t\\t\\t\\t\\t\\t\\tVia Indore\\n\\t\\t\\t\\t\\t\\t\\t\\t\\t\\t\\t\\t             0.126890\n",
      "1-stop\\n\\t\\t\\t\\t\\t\\t\\t\\t\\t\\t\\t\\tVia PAT\\n\\t\\t\\t\\t\\t\\t\\t\\t\\t\\t\\t\\t                0.117897\n",
      "1-stop\\n\\t\\t\\t\\t\\t\\t\\t\\t\\t\\t\\t\\tVia MYQ\\n\\t\\t\\t\\t\\t\\t\\t\\t\\t\\t\\t\\t                0.106907\n",
      "1-stop\\n\\t\\t\\t\\t\\t\\t\\t\\t\\t\\t\\t\\tVia Bhubaneswar\\n\\t\\t\\t\\t\\t\\t\\t\\t\\t\\t\\t\\t        0.100246\n",
      "1-stop\\n\\t\\t\\t\\t\\t\\t\\t\\t\\t\\t\\t\\tVia KLH\\n\\t\\t\\t\\t\\t\\t\\t\\t\\t\\t\\t\\t                0.094584\n",
      "1-stop\\n\\t\\t\\t\\t\\t\\t\\t\\t\\t\\t\\t\\tVia JGB\\n\\t\\t\\t\\t\\t\\t\\t\\t\\t\\t\\t\\t                0.064277\n",
      "1-stop\\n\\t\\t\\t\\t\\t\\t\\t\\t\\t\\t\\t\\tVia JRG\\n\\t\\t\\t\\t\\t\\t\\t\\t\\t\\t\\t\\t                0.058283\n",
      "1-stop\\n\\t\\t\\t\\t\\t\\t\\t\\t\\t\\t\\t\\tVia STV\\n\\t\\t\\t\\t\\t\\t\\t\\t\\t\\t\\t\\t                0.056284\n",
      "1-stop\\n\\t\\t\\t\\t\\t\\t\\t\\t\\t\\t\\t\\tVia BBI\\n\\t\\t\\t\\t\\t\\t\\t\\t\\t\\t\\t\\t                0.052621\n",
      "1-stop\\n\\t\\t\\t\\t\\t\\t\\t\\t\\t\\t\\t\\tVia Delhi\\n\\t\\t\\t\\t\\t\\t\\t\\t\\t\\t\\t\\t              0.050956\n",
      "1-stop\\n\\t\\t\\t\\t\\t\\t\\t\\t\\t\\t\\t\\tVia Hyderabad\\n\\t\\t\\t\\t\\t\\t\\t\\t\\t\\t\\t\\t          0.047625\n",
      "1-stop\\n\\t\\t\\t\\t\\t\\t\\t\\t\\t\\t\\t\\tVia IXE\\n\\t\\t\\t\\t\\t\\t\\t\\t\\t\\t\\t\\t                0.039965\n",
      "1-stop\\n\\t\\t\\t\\t\\t\\t\\t\\t\\t\\t\\t\\tVia Ranchi\\n\\t\\t\\t\\t\\t\\t\\t\\t\\t\\t\\t\\t             0.037967\n",
      "1-stop\\n\\t\\t\\t\\t\\t\\t\\t\\t\\t\\t\\t\\tVia Raipur\\n\\t\\t\\t\\t\\t\\t\\t\\t\\t\\t\\t\\t             0.033970\n",
      "1-stop\\n\\t\\t\\t\\t\\t\\t\\t\\t\\t\\t\\t\\tVia Chennai\\n\\t\\t\\t\\t\\t\\t\\t\\t\\t\\t\\t\\t            0.025644\n",
      "1-stop\\n\\t\\t\\t\\t\\t\\t\\t\\t\\t\\t\\t\\tVia Guwahati\\n\\t\\t\\t\\t\\t\\t\\t\\t\\t\\t\\t\\t           0.018317\n",
      "1-stop\\n\\t\\t\\t\\t\\t\\t\\t\\t\\t\\t\\t\\tVia Mysore\\n\\t\\t\\t\\t\\t\\t\\t\\t\\t\\t\\t\\t             0.014987\n",
      "1-stop\\n\\t\\t\\t\\t\\t\\t\\t\\t\\t\\t\\t\\tVia Mangalore\\n\\t\\t\\t\\t\\t\\t\\t\\t\\t\\t\\t\\t          0.012989\n",
      "1-stop\\n\\t\\t\\t\\t\\t\\t\\t\\t\\t\\t\\t\\tVia Mumbai\\n\\t\\t\\t\\t\\t\\t\\t\\t\\t\\t\\t\\t             0.010324\n",
      "1-stop\\n\\t\\t\\t\\t\\t\\t\\t\\t\\t\\t\\t\\tVia Kolkata\\n\\t\\t\\t\\t\\t\\t\\t\\t\\t\\t\\t\\t            0.009325\n",
      "1-stop\\n\\t\\t\\t\\t\\t\\t\\t\\t\\t\\t\\t\\tVia VTZ\\n\\t\\t\\t\\t\\t\\t\\t\\t\\t\\t\\t\\t                0.008992\n",
      "1-stop\\n\\t\\t\\t\\t\\t\\t\\t\\t\\t\\t\\t\\tVia Nagpur\\n\\t\\t\\t\\t\\t\\t\\t\\t\\t\\t\\t\\t             0.008326\n",
      "1-stop\\n\\t\\t\\t\\t\\t\\t\\t\\t\\t\\t\\t\\tVia NDC\\n\\t\\t\\t\\t\\t\\t\\t\\t\\t\\t\\t\\t                0.007327\n",
      "1-stop\\n\\t\\t\\t\\t\\t\\t\\t\\t\\t\\t\\t\\tVia RPR\\n\\t\\t\\t\\t\\t\\t\\t\\t\\t\\t\\t\\t                0.007327\n",
      "1-stop\\n\\t\\t\\t\\t\\t\\t\\t\\t\\t\\t\\t\\tVia GOP\\n\\t\\t\\t\\t\\t\\t\\t\\t\\t\\t\\t\\t                0.005329\n",
      "1-stop\\n\\t\\t\\t\\t\\t\\t\\t\\t\\t\\t\\t\\tVia Surat\\n\\t\\t\\t\\t\\t\\t\\t\\t\\t\\t\\t\\t              0.004663\n",
      "1-stop\\n\\t\\t\\t\\t\\t\\t\\t\\t\\t\\t\\t\\tVia Lucknow\\n\\t\\t\\t\\t\\t\\t\\t\\t\\t\\t\\t\\t            0.004330\n",
      "1-stop\\n\\t\\t\\t\\t\\t\\t\\t\\t\\t\\t\\t\\tVia NAG\\n\\t\\t\\t\\t\\t\\t\\t\\t\\t\\t\\t\\t                0.002997\n",
      "1-stop\\n\\t\\t\\t\\t\\t\\t\\t\\t\\t\\t\\t\\tVia Vishakhapatnam\\n\\t\\t\\t\\t\\t\\t\\t\\t\\t\\t\\t\\t     0.002664\n",
      "1-stop\\n\\t\\t\\t\\t\\t\\t\\t\\t\\t\\t\\t\\tVia Kolhapur\\n\\t\\t\\t\\t\\t\\t\\t\\t\\t\\t\\t\\t           0.001665\n",
      "1-stop\\n\\t\\t\\t\\t\\t\\t\\t\\t\\t\\t\\t\\tVia IXR\\n\\t\\t\\t\\t\\t\\t\\t\\t\\t\\t\\t\\t                0.001332\n",
      "1-stop\\n\\t\\t\\t\\t\\t\\t\\t\\t\\t\\t\\t\\tVia GAY\\n\\t\\t\\t\\t\\t\\t\\t\\t\\t\\t\\t\\t                0.000999\n",
      "1-stop\\n\\t\\t\\t\\t\\t\\t\\t\\t\\t\\t\\t\\tVia GAU\\n\\t\\t\\t\\t\\t\\t\\t\\t\\t\\t\\t\\t                0.000999\n",
      "1-stop\\n\\t\\t\\t\\t\\t\\t\\t\\t\\t\\t\\t\\tVia HYD\\n\\t\\t\\t\\t\\t\\t\\t\\t\\t\\t\\t\\t                0.000333\n",
      "Name: proportion, dtype: float64\n",
      "--------------------\n",
      "to\n",
      "Mumbai       19.685873\n",
      "Delhi        19.103713\n",
      "Bangalore    17.022524\n",
      "Kolkata      16.497314\n",
      "Hyderabad    14.246272\n",
      "Chennai      13.444303\n",
      "Name: proportion, dtype: float64\n",
      "--------------------\n"
     ]
    }
   ],
   "source": [
    "# check the value distribution in the above separated columns:\n",
    "for i in sep_col:\n",
    "    print((df[i].value_counts(normalize=True))*100)\n",
    "    print('--------------------')"
   ]
  },
  {
   "cell_type": "markdown",
   "id": "92c61fb8-fff9-4dea-a7ef-fd4a9a2c9a0f",
   "metadata": {},
   "source": [
    "### Treating the anomolies and duplicates:"
   ]
  },
  {
   "cell_type": "code",
   "execution_count": 16,
   "id": "a2f9a13c-5576-4b26-a2cf-816c008f676b",
   "metadata": {},
   "outputs": [],
   "source": [
    "df.drop_duplicates(inplace = True)"
   ]
  },
  {
   "cell_type": "code",
   "execution_count": 17,
   "id": "8390c6c8-4c52-4877-8bfd-c26062d1348c",
   "metadata": {},
   "outputs": [
    {
     "data": {
      "text/html": [
       "<div>\n",
       "<style scoped>\n",
       "    .dataframe tbody tr th:only-of-type {\n",
       "        vertical-align: middle;\n",
       "    }\n",
       "\n",
       "    .dataframe tbody tr th {\n",
       "        vertical-align: top;\n",
       "    }\n",
       "\n",
       "    .dataframe thead th {\n",
       "        text-align: right;\n",
       "    }\n",
       "</style>\n",
       "<table border=\"1\" class=\"dataframe\">\n",
       "  <thead>\n",
       "    <tr style=\"text-align: right;\">\n",
       "      <th></th>\n",
       "      <th>date</th>\n",
       "      <th>airline</th>\n",
       "      <th>ch_code</th>\n",
       "      <th>num_code</th>\n",
       "      <th>dep_time</th>\n",
       "      <th>from</th>\n",
       "      <th>time_taken</th>\n",
       "      <th>stop</th>\n",
       "      <th>arr_time</th>\n",
       "      <th>to</th>\n",
       "      <th>price</th>\n",
       "      <th>class</th>\n",
       "    </tr>\n",
       "  </thead>\n",
       "  <tbody>\n",
       "  </tbody>\n",
       "</table>\n",
       "</div>"
      ],
      "text/plain": [
       "Empty DataFrame\n",
       "Columns: [date, airline, ch_code, num_code, dep_time, from, time_taken, stop, arr_time, to, price, class]\n",
       "Index: []"
      ]
     },
     "execution_count": 17,
     "metadata": {},
     "output_type": "execute_result"
    }
   ],
   "source": [
    "df[df.duplicated()]"
   ]
  },
  {
   "cell_type": "code",
   "execution_count": 18,
   "id": "26575065-dc5b-48b6-8dec-319c8e21afbb",
   "metadata": {},
   "outputs": [
    {
     "data": {
      "text/html": [
       "<div>\n",
       "<style scoped>\n",
       "    .dataframe tbody tr th:only-of-type {\n",
       "        vertical-align: middle;\n",
       "    }\n",
       "\n",
       "    .dataframe tbody tr th {\n",
       "        vertical-align: top;\n",
       "    }\n",
       "\n",
       "    .dataframe thead th {\n",
       "        text-align: right;\n",
       "    }\n",
       "</style>\n",
       "<table border=\"1\" class=\"dataframe\">\n",
       "  <thead>\n",
       "    <tr style=\"text-align: right;\">\n",
       "      <th></th>\n",
       "      <th>date</th>\n",
       "      <th>airline</th>\n",
       "      <th>ch_code</th>\n",
       "      <th>num_code</th>\n",
       "      <th>dep_time</th>\n",
       "      <th>from</th>\n",
       "      <th>time_taken</th>\n",
       "      <th>stop</th>\n",
       "      <th>arr_time</th>\n",
       "      <th>to</th>\n",
       "      <th>price</th>\n",
       "      <th>class</th>\n",
       "      <th>city</th>\n",
       "    </tr>\n",
       "  </thead>\n",
       "  <tbody>\n",
       "    <tr>\n",
       "      <th>0</th>\n",
       "      <td>11-02-2022</td>\n",
       "      <td>SpiceJet</td>\n",
       "      <td>SG</td>\n",
       "      <td>8709</td>\n",
       "      <td>18:55</td>\n",
       "      <td>Delhi</td>\n",
       "      <td>02h 10m</td>\n",
       "      <td>non-stop</td>\n",
       "      <td>21:05</td>\n",
       "      <td>Mumbai</td>\n",
       "      <td>5,953</td>\n",
       "      <td>economy</td>\n",
       "      <td>non-stop</td>\n",
       "    </tr>\n",
       "    <tr>\n",
       "      <th>1</th>\n",
       "      <td>11-02-2022</td>\n",
       "      <td>SpiceJet</td>\n",
       "      <td>SG</td>\n",
       "      <td>8157</td>\n",
       "      <td>06:20</td>\n",
       "      <td>Delhi</td>\n",
       "      <td>02h 20m</td>\n",
       "      <td>non-stop</td>\n",
       "      <td>08:40</td>\n",
       "      <td>Mumbai</td>\n",
       "      <td>5,953</td>\n",
       "      <td>economy</td>\n",
       "      <td>non-stop</td>\n",
       "    </tr>\n",
       "    <tr>\n",
       "      <th>2</th>\n",
       "      <td>11-02-2022</td>\n",
       "      <td>AirAsia</td>\n",
       "      <td>I5</td>\n",
       "      <td>764</td>\n",
       "      <td>04:25</td>\n",
       "      <td>Delhi</td>\n",
       "      <td>02h 10m</td>\n",
       "      <td>non-stop</td>\n",
       "      <td>06:35</td>\n",
       "      <td>Mumbai</td>\n",
       "      <td>5,956</td>\n",
       "      <td>economy</td>\n",
       "      <td>non-stop</td>\n",
       "    </tr>\n",
       "    <tr>\n",
       "      <th>3</th>\n",
       "      <td>11-02-2022</td>\n",
       "      <td>Vistara</td>\n",
       "      <td>UK</td>\n",
       "      <td>995</td>\n",
       "      <td>10:20</td>\n",
       "      <td>Delhi</td>\n",
       "      <td>02h 15m</td>\n",
       "      <td>non-stop</td>\n",
       "      <td>12:35</td>\n",
       "      <td>Mumbai</td>\n",
       "      <td>5,955</td>\n",
       "      <td>economy</td>\n",
       "      <td>non-stop</td>\n",
       "    </tr>\n",
       "    <tr>\n",
       "      <th>4</th>\n",
       "      <td>11-02-2022</td>\n",
       "      <td>Vistara</td>\n",
       "      <td>UK</td>\n",
       "      <td>963</td>\n",
       "      <td>08:50</td>\n",
       "      <td>Delhi</td>\n",
       "      <td>02h 20m</td>\n",
       "      <td>non-stop</td>\n",
       "      <td>11:10</td>\n",
       "      <td>Mumbai</td>\n",
       "      <td>5,955</td>\n",
       "      <td>economy</td>\n",
       "      <td>non-stop</td>\n",
       "    </tr>\n",
       "  </tbody>\n",
       "</table>\n",
       "</div>"
      ],
      "text/plain": [
       "         date   airline ch_code  num_code dep_time   from time_taken  \\\n",
       "0  11-02-2022  SpiceJet      SG      8709    18:55  Delhi    02h 10m   \n",
       "1  11-02-2022  SpiceJet      SG      8157    06:20  Delhi    02h 20m   \n",
       "2  11-02-2022   AirAsia      I5       764    04:25  Delhi    02h 10m   \n",
       "3  11-02-2022   Vistara      UK       995    10:20  Delhi    02h 15m   \n",
       "4  11-02-2022   Vistara      UK       963    08:50  Delhi    02h 20m   \n",
       "\n",
       "       stop arr_time      to  price    class      city  \n",
       "0  non-stop    21:05  Mumbai  5,953  economy  non-stop  \n",
       "1  non-stop    08:40  Mumbai  5,953  economy  non-stop  \n",
       "2  non-stop    06:35  Mumbai  5,956  economy  non-stop  \n",
       "3  non-stop    12:35  Mumbai  5,955  economy  non-stop  \n",
       "4  non-stop    11:10  Mumbai  5,955  economy  non-stop  "
      ]
     },
     "execution_count": 18,
     "metadata": {},
     "output_type": "execute_result"
    }
   ],
   "source": [
    "import pandas as pd\n",
    "import re\n",
    "\n",
    "def extract_location_info(text):\n",
    "    # Clean the string by removing newlines and tabs\n",
    "    clean_text = re.sub(r'[\\n\\t]', ' ', text).strip()\n",
    "    \n",
    "    # Split the string into words\n",
    "    words = clean_text.split()\n",
    "    \n",
    "    # Extract the first part (e.g., \"1-stop\") and last part (e.g., \"Mysore\")\n",
    "    first_part = words[0]  # First word (e.g., \"1-stop\")\n",
    "    last_part = words[-1]  # Last word (e.g., \"Mysore\")\n",
    "    \n",
    "    return first_part, last_part\n",
    "\n",
    "# Apply the function to the 'Location' column\n",
    "df[['stop', 'city']] = df['stop'].apply(lambda x: pd.Series(extract_location_info(x)))\n",
    "\n",
    "# Show the updated DataFrame\n",
    "df.head()\n"
   ]
  },
  {
   "cell_type": "code",
   "execution_count": 19,
   "id": "c1fb09a4-103f-41c2-9cdf-2208aeeced7c",
   "metadata": {},
   "outputs": [
    {
     "data": {
      "text/html": [
       "<div>\n",
       "<style scoped>\n",
       "    .dataframe tbody tr th:only-of-type {\n",
       "        vertical-align: middle;\n",
       "    }\n",
       "\n",
       "    .dataframe tbody tr th {\n",
       "        vertical-align: top;\n",
       "    }\n",
       "\n",
       "    .dataframe thead th {\n",
       "        text-align: right;\n",
       "    }\n",
       "</style>\n",
       "<table border=\"1\" class=\"dataframe\">\n",
       "  <thead>\n",
       "    <tr style=\"text-align: right;\">\n",
       "      <th></th>\n",
       "      <th>date</th>\n",
       "      <th>airline</th>\n",
       "      <th>ch_code</th>\n",
       "      <th>num_code</th>\n",
       "      <th>dep_time</th>\n",
       "      <th>from</th>\n",
       "      <th>time_taken</th>\n",
       "      <th>stop</th>\n",
       "      <th>arr_time</th>\n",
       "      <th>to</th>\n",
       "      <th>price</th>\n",
       "      <th>class</th>\n",
       "      <th>city</th>\n",
       "    </tr>\n",
       "  </thead>\n",
       "  <tbody>\n",
       "    <tr>\n",
       "      <th>0</th>\n",
       "      <td>11-02-2022</td>\n",
       "      <td>SpiceJet</td>\n",
       "      <td>SG</td>\n",
       "      <td>8709</td>\n",
       "      <td>18:55</td>\n",
       "      <td>Delhi</td>\n",
       "      <td>02h 10m</td>\n",
       "      <td>non-stop</td>\n",
       "      <td>21:05</td>\n",
       "      <td>Mumbai</td>\n",
       "      <td>5,953</td>\n",
       "      <td>economy</td>\n",
       "      <td>non-stop</td>\n",
       "    </tr>\n",
       "    <tr>\n",
       "      <th>1</th>\n",
       "      <td>11-02-2022</td>\n",
       "      <td>SpiceJet</td>\n",
       "      <td>SG</td>\n",
       "      <td>8157</td>\n",
       "      <td>06:20</td>\n",
       "      <td>Delhi</td>\n",
       "      <td>02h 20m</td>\n",
       "      <td>non-stop</td>\n",
       "      <td>08:40</td>\n",
       "      <td>Mumbai</td>\n",
       "      <td>5,953</td>\n",
       "      <td>economy</td>\n",
       "      <td>non-stop</td>\n",
       "    </tr>\n",
       "    <tr>\n",
       "      <th>2</th>\n",
       "      <td>11-02-2022</td>\n",
       "      <td>AirAsia</td>\n",
       "      <td>I5</td>\n",
       "      <td>764</td>\n",
       "      <td>04:25</td>\n",
       "      <td>Delhi</td>\n",
       "      <td>02h 10m</td>\n",
       "      <td>non-stop</td>\n",
       "      <td>06:35</td>\n",
       "      <td>Mumbai</td>\n",
       "      <td>5,956</td>\n",
       "      <td>economy</td>\n",
       "      <td>non-stop</td>\n",
       "    </tr>\n",
       "    <tr>\n",
       "      <th>3</th>\n",
       "      <td>11-02-2022</td>\n",
       "      <td>Vistara</td>\n",
       "      <td>UK</td>\n",
       "      <td>995</td>\n",
       "      <td>10:20</td>\n",
       "      <td>Delhi</td>\n",
       "      <td>02h 15m</td>\n",
       "      <td>non-stop</td>\n",
       "      <td>12:35</td>\n",
       "      <td>Mumbai</td>\n",
       "      <td>5,955</td>\n",
       "      <td>economy</td>\n",
       "      <td>non-stop</td>\n",
       "    </tr>\n",
       "    <tr>\n",
       "      <th>4</th>\n",
       "      <td>11-02-2022</td>\n",
       "      <td>Vistara</td>\n",
       "      <td>UK</td>\n",
       "      <td>963</td>\n",
       "      <td>08:50</td>\n",
       "      <td>Delhi</td>\n",
       "      <td>02h 20m</td>\n",
       "      <td>non-stop</td>\n",
       "      <td>11:10</td>\n",
       "      <td>Mumbai</td>\n",
       "      <td>5,955</td>\n",
       "      <td>economy</td>\n",
       "      <td>non-stop</td>\n",
       "    </tr>\n",
       "  </tbody>\n",
       "</table>\n",
       "</div>"
      ],
      "text/plain": [
       "         date   airline ch_code  num_code dep_time   from time_taken  \\\n",
       "0  11-02-2022  SpiceJet      SG      8709    18:55  Delhi    02h 10m   \n",
       "1  11-02-2022  SpiceJet      SG      8157    06:20  Delhi    02h 20m   \n",
       "2  11-02-2022   AirAsia      I5       764    04:25  Delhi    02h 10m   \n",
       "3  11-02-2022   Vistara      UK       995    10:20  Delhi    02h 15m   \n",
       "4  11-02-2022   Vistara      UK       963    08:50  Delhi    02h 20m   \n",
       "\n",
       "       stop arr_time      to  price    class      city  \n",
       "0  non-stop    21:05  Mumbai  5,953  economy  non-stop  \n",
       "1  non-stop    08:40  Mumbai  5,953  economy  non-stop  \n",
       "2  non-stop    06:35  Mumbai  5,956  economy  non-stop  \n",
       "3  non-stop    12:35  Mumbai  5,955  economy  non-stop  \n",
       "4  non-stop    11:10  Mumbai  5,955  economy  non-stop  "
      ]
     },
     "execution_count": 19,
     "metadata": {},
     "output_type": "execute_result"
    }
   ],
   "source": [
    "df.head()"
   ]
  },
  {
   "cell_type": "code",
   "execution_count": 20,
   "id": "bd60cbae-dda9-48af-a299-f603374f4199",
   "metadata": {},
   "outputs": [
    {
     "data": {
      "text/plain": [
       "array(['non-stop', '1-stop', '2+-stop'], dtype=object)"
      ]
     },
     "execution_count": 20,
     "metadata": {},
     "output_type": "execute_result"
    }
   ],
   "source": [
    "df['stop'].unique()"
   ]
  },
  {
   "cell_type": "code",
   "execution_count": 21,
   "id": "5c41cddd-4185-43af-9b14-47d96177b07a",
   "metadata": {},
   "outputs": [
    {
     "data": {
      "text/plain": [
       "array(['non-stop', '1-stop', 'IXU', 'Chennai', 'Indore', 'RPR', '2+-stop',\n",
       "       'Lucknow', 'GOP', 'Raipur', 'Nagpur', 'Surat', 'Hyderabad', 'STV',\n",
       "       'IDR', 'VTZ', 'Guwahati', 'NAG', 'Vishakhapatnam', 'NDC', 'IXE',\n",
       "       'Patna', 'PAT', 'Mangalore', 'Mumbai', 'KLH', 'MYQ', 'Kolkata',\n",
       "       'Delhi', 'Kolhapur', 'JRG', 'Bhubaneswar', 'Ranchi', 'IXR', 'JGB',\n",
       "       'BBI', 'Mysore', 'GAY', 'GAU', 'HYD'], dtype=object)"
      ]
     },
     "execution_count": 21,
     "metadata": {},
     "output_type": "execute_result"
    }
   ],
   "source": [
    "df['city'].unique()"
   ]
  },
  {
   "cell_type": "code",
   "execution_count": 22,
   "id": "501c2ff7-6bc7-480a-8479-d67a93c2476b",
   "metadata": {},
   "outputs": [
    {
     "data": {
      "text/plain": [
       "city\n",
       "1-stop            243601\n",
       "non-stop           36044\n",
       "2+-stop            13288\n",
       "IXU                 1839\n",
       "IDR                 1398\n",
       "Patna                674\n",
       "Indore               381\n",
       "PAT                  354\n",
       "MYQ                  321\n",
       "Bhubaneswar          301\n",
       "KLH                  284\n",
       "JGB                  193\n",
       "JRG                  175\n",
       "STV                  169\n",
       "BBI                  158\n",
       "Delhi                153\n",
       "Hyderabad            143\n",
       "IXE                  120\n",
       "Ranchi               114\n",
       "Raipur               102\n",
       "Chennai               77\n",
       "Guwahati              55\n",
       "Mysore                45\n",
       "Mangalore             39\n",
       "Mumbai                31\n",
       "Kolkata               28\n",
       "VTZ                   27\n",
       "Nagpur                25\n",
       "NDC                   22\n",
       "RPR                   22\n",
       "GOP                   16\n",
       "Surat                 14\n",
       "Lucknow               13\n",
       "NAG                    9\n",
       "Vishakhapatnam         8\n",
       "Kolhapur               5\n",
       "IXR                    4\n",
       "GAY                    3\n",
       "GAU                    3\n",
       "HYD                    1\n",
       "Name: count, dtype: int64"
      ]
     },
     "execution_count": 22,
     "metadata": {},
     "output_type": "execute_result"
    }
   ],
   "source": [
    "df['city'].value_counts()"
   ]
  },
  {
   "cell_type": "code",
   "execution_count": 23,
   "id": "4831dca1-c1c9-496d-ab8d-f56e44b38219",
   "metadata": {},
   "outputs": [],
   "source": [
    "df.replace({'non-stop': 'no_stop', '1-stop':'one_stop', '2+-stop': '2+_stops'}, inplace = True)"
   ]
  },
  {
   "cell_type": "code",
   "execution_count": 24,
   "id": "a3d35de2-a4e9-45cd-b65e-b53936d8e437",
   "metadata": {},
   "outputs": [
    {
     "data": {
      "text/plain": [
       "array(['no_stop', 'one_stop', '2+_stops'], dtype=object)"
      ]
     },
     "execution_count": 24,
     "metadata": {},
     "output_type": "execute_result"
    }
   ],
   "source": [
    "df['stop'].unique()"
   ]
  },
  {
   "cell_type": "code",
   "execution_count": 25,
   "id": "4f31dc7b-1bba-480b-8c1f-fb06b7247eac",
   "metadata": {},
   "outputs": [],
   "source": [
    "df.rename(columns = {'from': 'departure_city', 'to':'destination_city'}, inplace = True)"
   ]
  },
  {
   "cell_type": "code",
   "execution_count": 26,
   "id": "71dbde2c-5865-4c99-8a01-7676a2c75ad2",
   "metadata": {},
   "outputs": [
    {
     "data": {
      "text/plain": [
       "Index(['date', 'airline', 'ch_code', 'num_code', 'dep_time', 'departure_city',\n",
       "       'time_taken', 'stop', 'arr_time', 'destination_city', 'price', 'class',\n",
       "       'city'],\n",
       "      dtype='object')"
      ]
     },
     "execution_count": 26,
     "metadata": {},
     "output_type": "execute_result"
    }
   ],
   "source": [
    "df.columns"
   ]
  },
  {
   "cell_type": "code",
   "execution_count": 27,
   "id": "786b778a-56a3-4782-a481-8fe211d7d2e7",
   "metadata": {},
   "outputs": [],
   "source": [
    "# Changing the datatypes of the columns as required:"
   ]
  },
  {
   "cell_type": "code",
   "execution_count": 28,
   "id": "e842eb18-575c-4c20-a4df-384dd1e3d5ea",
   "metadata": {},
   "outputs": [
    {
     "name": "stdout",
     "output_type": "stream",
     "text": [
      "<class 'pandas.core.frame.DataFrame'>\n",
      "Index: 300259 entries, 0 to 93486\n",
      "Data columns (total 13 columns):\n",
      " #   Column            Non-Null Count   Dtype \n",
      "---  ------            --------------   ----- \n",
      " 0   date              300259 non-null  object\n",
      " 1   airline           300259 non-null  object\n",
      " 2   ch_code           300259 non-null  object\n",
      " 3   num_code          300259 non-null  int64 \n",
      " 4   dep_time          300259 non-null  object\n",
      " 5   departure_city    300259 non-null  object\n",
      " 6   time_taken        300259 non-null  object\n",
      " 7   stop              300259 non-null  object\n",
      " 8   arr_time          300259 non-null  object\n",
      " 9   destination_city  300259 non-null  object\n",
      " 10  price             300259 non-null  object\n",
      " 11  class             300259 non-null  object\n",
      " 12  city              300259 non-null  object\n",
      "dtypes: int64(1), object(12)\n",
      "memory usage: 32.1+ MB\n"
     ]
    }
   ],
   "source": [
    "df.info()"
   ]
  },
  {
   "cell_type": "code",
   "execution_count": 29,
   "id": "87eebea9-42c5-49f6-bce6-b939ab5f60f5",
   "metadata": {},
   "outputs": [],
   "source": [
    "df['date'] = pd.to_datetime(df['date'], format='%d-%m-%Y')"
   ]
  },
  {
   "cell_type": "code",
   "execution_count": 30,
   "id": "fa87e3cf-9f63-4eaf-b10d-88b9ba7249fa",
   "metadata": {},
   "outputs": [],
   "source": [
    "df['price'] = df['price'].str.replace(',','').astype('float')"
   ]
  },
  {
   "cell_type": "code",
   "execution_count": 31,
   "id": "12f21ae5-2155-4728-8310-c6b7c97f785f",
   "metadata": {},
   "outputs": [
    {
     "name": "stdout",
     "output_type": "stream",
     "text": [
      "<class 'pandas.core.frame.DataFrame'>\n",
      "Index: 300259 entries, 0 to 93486\n",
      "Data columns (total 13 columns):\n",
      " #   Column            Non-Null Count   Dtype         \n",
      "---  ------            --------------   -----         \n",
      " 0   date              300259 non-null  datetime64[ns]\n",
      " 1   airline           300259 non-null  object        \n",
      " 2   ch_code           300259 non-null  object        \n",
      " 3   num_code          300259 non-null  int64         \n",
      " 4   dep_time          300259 non-null  object        \n",
      " 5   departure_city    300259 non-null  object        \n",
      " 6   time_taken        300259 non-null  object        \n",
      " 7   stop              300259 non-null  object        \n",
      " 8   arr_time          300259 non-null  object        \n",
      " 9   destination_city  300259 non-null  object        \n",
      " 10  price             300259 non-null  float64       \n",
      " 11  class             300259 non-null  object        \n",
      " 12  city              300259 non-null  object        \n",
      "dtypes: datetime64[ns](1), float64(1), int64(1), object(10)\n",
      "memory usage: 32.1+ MB\n"
     ]
    }
   ],
   "source": [
    "df.info()"
   ]
  },
  {
   "cell_type": "code",
   "execution_count": 32,
   "id": "61226a4f-d921-49e2-b406-3d777f1c514a",
   "metadata": {},
   "outputs": [
    {
     "data": {
      "text/html": [
       "<div>\n",
       "<style scoped>\n",
       "    .dataframe tbody tr th:only-of-type {\n",
       "        vertical-align: middle;\n",
       "    }\n",
       "\n",
       "    .dataframe tbody tr th {\n",
       "        vertical-align: top;\n",
       "    }\n",
       "\n",
       "    .dataframe thead th {\n",
       "        text-align: right;\n",
       "    }\n",
       "</style>\n",
       "<table border=\"1\" class=\"dataframe\">\n",
       "  <thead>\n",
       "    <tr style=\"text-align: right;\">\n",
       "      <th></th>\n",
       "      <th>date</th>\n",
       "      <th>airline</th>\n",
       "      <th>ch_code</th>\n",
       "      <th>num_code</th>\n",
       "      <th>dep_time</th>\n",
       "      <th>departure_city</th>\n",
       "      <th>time_taken</th>\n",
       "      <th>stop</th>\n",
       "      <th>arr_time</th>\n",
       "      <th>destination_city</th>\n",
       "      <th>price</th>\n",
       "      <th>class</th>\n",
       "      <th>city</th>\n",
       "    </tr>\n",
       "  </thead>\n",
       "  <tbody>\n",
       "    <tr>\n",
       "      <th>0</th>\n",
       "      <td>2022-02-11</td>\n",
       "      <td>SpiceJet</td>\n",
       "      <td>SG</td>\n",
       "      <td>8709</td>\n",
       "      <td>evening</td>\n",
       "      <td>Delhi</td>\n",
       "      <td>02h 10m</td>\n",
       "      <td>no_stop</td>\n",
       "      <td>21:05</td>\n",
       "      <td>Mumbai</td>\n",
       "      <td>5953.0</td>\n",
       "      <td>economy</td>\n",
       "      <td>no_stop</td>\n",
       "    </tr>\n",
       "    <tr>\n",
       "      <th>1</th>\n",
       "      <td>2022-02-11</td>\n",
       "      <td>SpiceJet</td>\n",
       "      <td>SG</td>\n",
       "      <td>8157</td>\n",
       "      <td>early morning</td>\n",
       "      <td>Delhi</td>\n",
       "      <td>02h 20m</td>\n",
       "      <td>no_stop</td>\n",
       "      <td>08:40</td>\n",
       "      <td>Mumbai</td>\n",
       "      <td>5953.0</td>\n",
       "      <td>economy</td>\n",
       "      <td>no_stop</td>\n",
       "    </tr>\n",
       "    <tr>\n",
       "      <th>2</th>\n",
       "      <td>2022-02-11</td>\n",
       "      <td>AirAsia</td>\n",
       "      <td>I5</td>\n",
       "      <td>764</td>\n",
       "      <td>early morning</td>\n",
       "      <td>Delhi</td>\n",
       "      <td>02h 10m</td>\n",
       "      <td>no_stop</td>\n",
       "      <td>06:35</td>\n",
       "      <td>Mumbai</td>\n",
       "      <td>5956.0</td>\n",
       "      <td>economy</td>\n",
       "      <td>no_stop</td>\n",
       "    </tr>\n",
       "    <tr>\n",
       "      <th>3</th>\n",
       "      <td>2022-02-11</td>\n",
       "      <td>Vistara</td>\n",
       "      <td>UK</td>\n",
       "      <td>995</td>\n",
       "      <td>morning</td>\n",
       "      <td>Delhi</td>\n",
       "      <td>02h 15m</td>\n",
       "      <td>no_stop</td>\n",
       "      <td>12:35</td>\n",
       "      <td>Mumbai</td>\n",
       "      <td>5955.0</td>\n",
       "      <td>economy</td>\n",
       "      <td>no_stop</td>\n",
       "    </tr>\n",
       "    <tr>\n",
       "      <th>4</th>\n",
       "      <td>2022-02-11</td>\n",
       "      <td>Vistara</td>\n",
       "      <td>UK</td>\n",
       "      <td>963</td>\n",
       "      <td>morning</td>\n",
       "      <td>Delhi</td>\n",
       "      <td>02h 20m</td>\n",
       "      <td>no_stop</td>\n",
       "      <td>11:10</td>\n",
       "      <td>Mumbai</td>\n",
       "      <td>5955.0</td>\n",
       "      <td>economy</td>\n",
       "      <td>no_stop</td>\n",
       "    </tr>\n",
       "  </tbody>\n",
       "</table>\n",
       "</div>"
      ],
      "text/plain": [
       "        date   airline ch_code  num_code       dep_time departure_city  \\\n",
       "0 2022-02-11  SpiceJet      SG      8709        evening          Delhi   \n",
       "1 2022-02-11  SpiceJet      SG      8157  early morning          Delhi   \n",
       "2 2022-02-11   AirAsia      I5       764  early morning          Delhi   \n",
       "3 2022-02-11   Vistara      UK       995        morning          Delhi   \n",
       "4 2022-02-11   Vistara      UK       963        morning          Delhi   \n",
       "\n",
       "  time_taken     stop arr_time destination_city   price    class     city  \n",
       "0    02h 10m  no_stop    21:05           Mumbai  5953.0  economy  no_stop  \n",
       "1    02h 20m  no_stop    08:40           Mumbai  5953.0  economy  no_stop  \n",
       "2    02h 10m  no_stop    06:35           Mumbai  5956.0  economy  no_stop  \n",
       "3    02h 15m  no_stop    12:35           Mumbai  5955.0  economy  no_stop  \n",
       "4    02h 20m  no_stop    11:10           Mumbai  5955.0  economy  no_stop  "
      ]
     },
     "execution_count": 32,
     "metadata": {},
     "output_type": "execute_result"
    }
   ],
   "source": [
    "# Function to categorize times into segments\n",
    "def categorize_time(dep_time):\n",
    "    hour = int(dep_time.split(':')[0])\n",
    "    if 4 <= hour < 8:\n",
    "        return 'early morning'\n",
    "    elif 8 <= hour < 12:\n",
    "        return 'morning'\n",
    "    elif 12 <= hour < 16:\n",
    "        return 'noon'\n",
    "    elif 16 <= hour < 20:\n",
    "        return 'evening'\n",
    "    elif 20 <= hour <= 24:\n",
    "        return 'night'\n",
    "    else:\n",
    "        return 'late night'\n",
    "\n",
    "# Apply the function to the 'arr_time' column\n",
    "df['dep_time'] = df['dep_time'].apply(categorize_time)\n",
    "# Display the first few rows of the updated dataframe\n",
    "df.head()\n"
   ]
  },
  {
   "cell_type": "code",
   "execution_count": 33,
   "id": "0f22c448-e0b4-46a4-a973-6074da4d6286",
   "metadata": {},
   "outputs": [
    {
     "data": {
      "text/html": [
       "<div>\n",
       "<style scoped>\n",
       "    .dataframe tbody tr th:only-of-type {\n",
       "        vertical-align: middle;\n",
       "    }\n",
       "\n",
       "    .dataframe tbody tr th {\n",
       "        vertical-align: top;\n",
       "    }\n",
       "\n",
       "    .dataframe thead th {\n",
       "        text-align: right;\n",
       "    }\n",
       "</style>\n",
       "<table border=\"1\" class=\"dataframe\">\n",
       "  <thead>\n",
       "    <tr style=\"text-align: right;\">\n",
       "      <th></th>\n",
       "      <th>date</th>\n",
       "      <th>airline</th>\n",
       "      <th>ch_code</th>\n",
       "      <th>num_code</th>\n",
       "      <th>dep_time</th>\n",
       "      <th>departure_city</th>\n",
       "      <th>time_taken</th>\n",
       "      <th>stop</th>\n",
       "      <th>arr_time</th>\n",
       "      <th>destination_city</th>\n",
       "      <th>price</th>\n",
       "      <th>class</th>\n",
       "      <th>city</th>\n",
       "    </tr>\n",
       "  </thead>\n",
       "  <tbody>\n",
       "    <tr>\n",
       "      <th>0</th>\n",
       "      <td>2022-02-11</td>\n",
       "      <td>SpiceJet</td>\n",
       "      <td>SG</td>\n",
       "      <td>8709</td>\n",
       "      <td>evening</td>\n",
       "      <td>Delhi</td>\n",
       "      <td>02h 10m</td>\n",
       "      <td>no_stop</td>\n",
       "      <td>night</td>\n",
       "      <td>Mumbai</td>\n",
       "      <td>5953.0</td>\n",
       "      <td>economy</td>\n",
       "      <td>no_stop</td>\n",
       "    </tr>\n",
       "    <tr>\n",
       "      <th>1</th>\n",
       "      <td>2022-02-11</td>\n",
       "      <td>SpiceJet</td>\n",
       "      <td>SG</td>\n",
       "      <td>8157</td>\n",
       "      <td>early morning</td>\n",
       "      <td>Delhi</td>\n",
       "      <td>02h 20m</td>\n",
       "      <td>no_stop</td>\n",
       "      <td>morning</td>\n",
       "      <td>Mumbai</td>\n",
       "      <td>5953.0</td>\n",
       "      <td>economy</td>\n",
       "      <td>no_stop</td>\n",
       "    </tr>\n",
       "    <tr>\n",
       "      <th>2</th>\n",
       "      <td>2022-02-11</td>\n",
       "      <td>AirAsia</td>\n",
       "      <td>I5</td>\n",
       "      <td>764</td>\n",
       "      <td>early morning</td>\n",
       "      <td>Delhi</td>\n",
       "      <td>02h 10m</td>\n",
       "      <td>no_stop</td>\n",
       "      <td>early morning</td>\n",
       "      <td>Mumbai</td>\n",
       "      <td>5956.0</td>\n",
       "      <td>economy</td>\n",
       "      <td>no_stop</td>\n",
       "    </tr>\n",
       "    <tr>\n",
       "      <th>3</th>\n",
       "      <td>2022-02-11</td>\n",
       "      <td>Vistara</td>\n",
       "      <td>UK</td>\n",
       "      <td>995</td>\n",
       "      <td>morning</td>\n",
       "      <td>Delhi</td>\n",
       "      <td>02h 15m</td>\n",
       "      <td>no_stop</td>\n",
       "      <td>noon</td>\n",
       "      <td>Mumbai</td>\n",
       "      <td>5955.0</td>\n",
       "      <td>economy</td>\n",
       "      <td>no_stop</td>\n",
       "    </tr>\n",
       "    <tr>\n",
       "      <th>4</th>\n",
       "      <td>2022-02-11</td>\n",
       "      <td>Vistara</td>\n",
       "      <td>UK</td>\n",
       "      <td>963</td>\n",
       "      <td>morning</td>\n",
       "      <td>Delhi</td>\n",
       "      <td>02h 20m</td>\n",
       "      <td>no_stop</td>\n",
       "      <td>morning</td>\n",
       "      <td>Mumbai</td>\n",
       "      <td>5955.0</td>\n",
       "      <td>economy</td>\n",
       "      <td>no_stop</td>\n",
       "    </tr>\n",
       "  </tbody>\n",
       "</table>\n",
       "</div>"
      ],
      "text/plain": [
       "        date   airline ch_code  num_code       dep_time departure_city  \\\n",
       "0 2022-02-11  SpiceJet      SG      8709        evening          Delhi   \n",
       "1 2022-02-11  SpiceJet      SG      8157  early morning          Delhi   \n",
       "2 2022-02-11   AirAsia      I5       764  early morning          Delhi   \n",
       "3 2022-02-11   Vistara      UK       995        morning          Delhi   \n",
       "4 2022-02-11   Vistara      UK       963        morning          Delhi   \n",
       "\n",
       "  time_taken     stop       arr_time destination_city   price    class  \\\n",
       "0    02h 10m  no_stop          night           Mumbai  5953.0  economy   \n",
       "1    02h 20m  no_stop        morning           Mumbai  5953.0  economy   \n",
       "2    02h 10m  no_stop  early morning           Mumbai  5956.0  economy   \n",
       "3    02h 15m  no_stop           noon           Mumbai  5955.0  economy   \n",
       "4    02h 20m  no_stop        morning           Mumbai  5955.0  economy   \n",
       "\n",
       "      city  \n",
       "0  no_stop  \n",
       "1  no_stop  \n",
       "2  no_stop  \n",
       "3  no_stop  \n",
       "4  no_stop  "
      ]
     },
     "execution_count": 33,
     "metadata": {},
     "output_type": "execute_result"
    }
   ],
   "source": [
    "# Function to categorize times into segments\n",
    "def categorize_time(arr_time):\n",
    "    hour = int(arr_time.split(':')[0])\n",
    "    if 4 <= hour < 8:\n",
    "        return 'early morning'\n",
    "    elif 8 <= hour < 12:\n",
    "        return 'morning'\n",
    "    elif 12 <= hour < 16:\n",
    "        return 'noon'\n",
    "    elif 16 <= hour < 20:\n",
    "        return 'evening'\n",
    "    elif 20 <= hour <= 24:\n",
    "        return 'night'\n",
    "    else:\n",
    "        return 'late night'\n",
    "\n",
    "# Apply the function to the 'arr_time' column\n",
    "df['arr_time'] = df['arr_time'].apply(categorize_time)\n",
    "# Display the first few rows of the updated dataframe\n",
    "df.head()"
   ]
  },
  {
   "cell_type": "code",
   "execution_count": 34,
   "id": "b203fd1d-046a-4fd2-9068-da893c604e06",
   "metadata": {},
   "outputs": [
    {
     "data": {
      "text/plain": [
       "count    300259.000000\n",
       "mean         12.217706\n",
       "std           7.192924\n",
       "min           0.833333\n",
       "25%           6.750000\n",
       "50%          11.250000\n",
       "75%          16.166667\n",
       "max          49.833333\n",
       "Name: time_taken, dtype: float64"
      ]
     },
     "execution_count": 34,
     "metadata": {},
     "output_type": "execute_result"
    }
   ],
   "source": [
    "import re\n",
    "\n",
    "# Enhanced function to handle variations in 'time_taken' formats\n",
    "def convert_to_minutes_enhanced(time_str):\n",
    "    if pd.isnull(time_str):\n",
    "        return None\n",
    "    # Extract hours and minutes using regex\n",
    "    match = re.match(r\"(?:(\\d+)\\.?(\\d*)h)?\\s*(?:(\\d+)m)?\", time_str.strip())\n",
    "    if match:\n",
    "        hours = int(match.group(1)) if match.group(1) else 0\n",
    "        minutes = int(match.group(3)) if match.group(3) else 0\n",
    "        return hours * 60 + minutes\n",
    "    return None\n",
    "\n",
    "# Apply the enhanced function to clean and convert the 'time_taken' data\n",
    "df['time_taken'] = df['time_taken'].apply(convert_to_minutes_enhanced)\n",
    "df['time_taken'] = df['time_taken']/60\n",
    "\n",
    "# Basic statistics\n",
    "df['time_taken'].describe()"
   ]
  },
  {
   "cell_type": "code",
   "execution_count": 35,
   "id": "632aeeea-42c3-40c4-83f1-39e70f7699fb",
   "metadata": {},
   "outputs": [
    {
     "data": {
      "text/html": [
       "<div>\n",
       "<style scoped>\n",
       "    .dataframe tbody tr th:only-of-type {\n",
       "        vertical-align: middle;\n",
       "    }\n",
       "\n",
       "    .dataframe tbody tr th {\n",
       "        vertical-align: top;\n",
       "    }\n",
       "\n",
       "    .dataframe thead th {\n",
       "        text-align: right;\n",
       "    }\n",
       "</style>\n",
       "<table border=\"1\" class=\"dataframe\">\n",
       "  <thead>\n",
       "    <tr style=\"text-align: right;\">\n",
       "      <th></th>\n",
       "      <th>date</th>\n",
       "      <th>airline</th>\n",
       "      <th>ch_code</th>\n",
       "      <th>num_code</th>\n",
       "      <th>dep_time</th>\n",
       "      <th>departure_city</th>\n",
       "      <th>time_taken</th>\n",
       "      <th>stop</th>\n",
       "      <th>arr_time</th>\n",
       "      <th>destination_city</th>\n",
       "      <th>price</th>\n",
       "      <th>class</th>\n",
       "      <th>city</th>\n",
       "    </tr>\n",
       "  </thead>\n",
       "  <tbody>\n",
       "    <tr>\n",
       "      <th>0</th>\n",
       "      <td>2022-02-11</td>\n",
       "      <td>SpiceJet</td>\n",
       "      <td>SG</td>\n",
       "      <td>8709</td>\n",
       "      <td>evening</td>\n",
       "      <td>Delhi</td>\n",
       "      <td>2.166667</td>\n",
       "      <td>no_stop</td>\n",
       "      <td>night</td>\n",
       "      <td>Mumbai</td>\n",
       "      <td>5953.0</td>\n",
       "      <td>economy</td>\n",
       "      <td>no_stop</td>\n",
       "    </tr>\n",
       "    <tr>\n",
       "      <th>1</th>\n",
       "      <td>2022-02-11</td>\n",
       "      <td>SpiceJet</td>\n",
       "      <td>SG</td>\n",
       "      <td>8157</td>\n",
       "      <td>early morning</td>\n",
       "      <td>Delhi</td>\n",
       "      <td>2.333333</td>\n",
       "      <td>no_stop</td>\n",
       "      <td>morning</td>\n",
       "      <td>Mumbai</td>\n",
       "      <td>5953.0</td>\n",
       "      <td>economy</td>\n",
       "      <td>no_stop</td>\n",
       "    </tr>\n",
       "    <tr>\n",
       "      <th>2</th>\n",
       "      <td>2022-02-11</td>\n",
       "      <td>AirAsia</td>\n",
       "      <td>I5</td>\n",
       "      <td>764</td>\n",
       "      <td>early morning</td>\n",
       "      <td>Delhi</td>\n",
       "      <td>2.166667</td>\n",
       "      <td>no_stop</td>\n",
       "      <td>early morning</td>\n",
       "      <td>Mumbai</td>\n",
       "      <td>5956.0</td>\n",
       "      <td>economy</td>\n",
       "      <td>no_stop</td>\n",
       "    </tr>\n",
       "    <tr>\n",
       "      <th>3</th>\n",
       "      <td>2022-02-11</td>\n",
       "      <td>Vistara</td>\n",
       "      <td>UK</td>\n",
       "      <td>995</td>\n",
       "      <td>morning</td>\n",
       "      <td>Delhi</td>\n",
       "      <td>2.250000</td>\n",
       "      <td>no_stop</td>\n",
       "      <td>noon</td>\n",
       "      <td>Mumbai</td>\n",
       "      <td>5955.0</td>\n",
       "      <td>economy</td>\n",
       "      <td>no_stop</td>\n",
       "    </tr>\n",
       "    <tr>\n",
       "      <th>4</th>\n",
       "      <td>2022-02-11</td>\n",
       "      <td>Vistara</td>\n",
       "      <td>UK</td>\n",
       "      <td>963</td>\n",
       "      <td>morning</td>\n",
       "      <td>Delhi</td>\n",
       "      <td>2.333333</td>\n",
       "      <td>no_stop</td>\n",
       "      <td>morning</td>\n",
       "      <td>Mumbai</td>\n",
       "      <td>5955.0</td>\n",
       "      <td>economy</td>\n",
       "      <td>no_stop</td>\n",
       "    </tr>\n",
       "  </tbody>\n",
       "</table>\n",
       "</div>"
      ],
      "text/plain": [
       "        date   airline ch_code  num_code       dep_time departure_city  \\\n",
       "0 2022-02-11  SpiceJet      SG      8709        evening          Delhi   \n",
       "1 2022-02-11  SpiceJet      SG      8157  early morning          Delhi   \n",
       "2 2022-02-11   AirAsia      I5       764  early morning          Delhi   \n",
       "3 2022-02-11   Vistara      UK       995        morning          Delhi   \n",
       "4 2022-02-11   Vistara      UK       963        morning          Delhi   \n",
       "\n",
       "   time_taken     stop       arr_time destination_city   price    class  \\\n",
       "0    2.166667  no_stop          night           Mumbai  5953.0  economy   \n",
       "1    2.333333  no_stop        morning           Mumbai  5953.0  economy   \n",
       "2    2.166667  no_stop  early morning           Mumbai  5956.0  economy   \n",
       "3    2.250000  no_stop           noon           Mumbai  5955.0  economy   \n",
       "4    2.333333  no_stop        morning           Mumbai  5955.0  economy   \n",
       "\n",
       "      city  \n",
       "0  no_stop  \n",
       "1  no_stop  \n",
       "2  no_stop  \n",
       "3  no_stop  \n",
       "4  no_stop  "
      ]
     },
     "execution_count": 35,
     "metadata": {},
     "output_type": "execute_result"
    }
   ],
   "source": [
    "df.head()"
   ]
  },
  {
   "cell_type": "code",
   "execution_count": 36,
   "id": "e838af24-da78-4837-90b2-739fbbd9cc60",
   "metadata": {},
   "outputs": [
    {
     "data": {
      "text/plain": [
       "(300259, 13)"
      ]
     },
     "execution_count": 36,
     "metadata": {},
     "output_type": "execute_result"
    }
   ],
   "source": [
    "df.shape"
   ]
  },
  {
   "cell_type": "code",
   "execution_count": 37,
   "id": "7c8efad7-5ed9-47a5-a701-390222ec1ed5",
   "metadata": {},
   "outputs": [
    {
     "name": "stdout",
     "output_type": "stream",
     "text": [
      "<class 'pandas.core.frame.DataFrame'>\n",
      "Index: 300259 entries, 0 to 93486\n",
      "Data columns (total 13 columns):\n",
      " #   Column            Non-Null Count   Dtype         \n",
      "---  ------            --------------   -----         \n",
      " 0   date              300259 non-null  datetime64[ns]\n",
      " 1   airline           300259 non-null  object        \n",
      " 2   ch_code           300259 non-null  object        \n",
      " 3   num_code          300259 non-null  int64         \n",
      " 4   dep_time          300259 non-null  object        \n",
      " 5   departure_city    300259 non-null  object        \n",
      " 6   time_taken        300259 non-null  float64       \n",
      " 7   stop              300259 non-null  object        \n",
      " 8   arr_time          300259 non-null  object        \n",
      " 9   destination_city  300259 non-null  object        \n",
      " 10  price             300259 non-null  float64       \n",
      " 11  class             300259 non-null  object        \n",
      " 12  city              300259 non-null  object        \n",
      "dtypes: datetime64[ns](1), float64(2), int64(1), object(9)\n",
      "memory usage: 32.1+ MB\n"
     ]
    }
   ],
   "source": [
    "df.info()"
   ]
  },
  {
   "cell_type": "markdown",
   "id": "dfccee58-017c-4af1-a426-2e141979a4ba",
   "metadata": {},
   "source": [
    " * Anomolies have been treated, dataset is ready to be explored"
   ]
  },
  {
   "cell_type": "markdown",
   "id": "b046c468-dffc-4734-89f7-a5ae3a968b92",
   "metadata": {},
   "source": [
    "### Feature engineering:"
   ]
  },
  {
   "cell_type": "code",
   "execution_count": 40,
   "id": "64eeec85-5d4c-4bb6-b50c-3e7aa7eaef5f",
   "metadata": {},
   "outputs": [
    {
     "data": {
      "text/plain": [
       "array(['Friday', 'Saturday', 'Sunday', 'Monday', 'Tuesday', 'Wednesday',\n",
       "       'Thursday'], dtype=object)"
      ]
     },
     "execution_count": 40,
     "metadata": {},
     "output_type": "execute_result"
    }
   ],
   "source": [
    "df['day_of_week'] = df['date'].dt.day_name()\n",
    "df['day_of_week'].unique()"
   ]
  },
  {
   "cell_type": "markdown",
   "id": "17f8ba40-1e87-4bec-8d0b-8c3004e6c2ad",
   "metadata": {},
   "source": [
    "## Univariate analysis:"
   ]
  },
  {
   "cell_type": "code",
   "execution_count": 42,
   "id": "01d9e798-4e13-4114-8c34-086bfdf6280d",
   "metadata": {},
   "outputs": [],
   "source": [
    "# Separating the numerical and categorical data\n",
    "num = df.select_dtypes(include = np.number).columns.to_list()\n",
    "categorical = df.select_dtypes(exclude = np.number).columns.to_list()"
   ]
  },
  {
   "cell_type": "code",
   "execution_count": 43,
   "id": "765944a7-a2f4-45d0-96ea-b077309afb03",
   "metadata": {},
   "outputs": [
    {
     "data": {
      "text/plain": [
       "['num_code', 'time_taken', 'price']"
      ]
     },
     "execution_count": 43,
     "metadata": {},
     "output_type": "execute_result"
    }
   ],
   "source": [
    "num"
   ]
  },
  {
   "cell_type": "code",
   "execution_count": 44,
   "id": "23db5dcc-8f96-407e-b62f-0bc9e43c9060",
   "metadata": {},
   "outputs": [
    {
     "data": {
      "text/plain": [
       "['date',\n",
       " 'airline',\n",
       " 'ch_code',\n",
       " 'dep_time',\n",
       " 'departure_city',\n",
       " 'stop',\n",
       " 'arr_time',\n",
       " 'destination_city',\n",
       " 'class',\n",
       " 'city',\n",
       " 'day_of_week']"
      ]
     },
     "execution_count": 44,
     "metadata": {},
     "output_type": "execute_result"
    }
   ],
   "source": [
    "categorical"
   ]
  },
  {
   "cell_type": "code",
   "execution_count": 45,
   "id": "3166a4f1-830b-4b0d-b1ab-5ccd12f7d734",
   "metadata": {},
   "outputs": [],
   "source": [
    "cat = ['airline',\n",
    " 'ch_code',\n",
    " 'dep_time',\n",
    " 'departure_city',\n",
    " 'stop',\n",
    " 'arr_time',\n",
    " 'destination_city',\n",
    " 'city',\n",
    " 'day_of_week']"
   ]
  },
  {
   "cell_type": "markdown",
   "id": "07587318-f8fa-4357-a172-02ccf0579740",
   "metadata": {},
   "source": [
    "### Numerical columns:"
   ]
  },
  {
   "cell_type": "code",
   "execution_count": 47,
   "id": "4de6265c-74db-4d55-b341-4d367d581bec",
   "metadata": {},
   "outputs": [
    {
     "name": "stdout",
     "output_type": "stream",
     "text": [
      "num_code\n",
      "count    300259.000000\n",
      "mean       1417.776883\n",
      "std        1974.519951\n",
      "min         101.000000\n",
      "25%         637.000000\n",
      "50%         818.000000\n",
      "75%         927.000000\n",
      "max        9991.000000\n",
      "Name: num_code, dtype: float64\n",
      "-------------\n",
      "time_taken\n",
      "count    300259.000000\n",
      "mean         12.217706\n",
      "std           7.192924\n",
      "min           0.833333\n",
      "25%           6.750000\n",
      "50%          11.250000\n",
      "75%          16.166667\n",
      "max          49.833333\n",
      "Name: time_taken, dtype: float64\n",
      "-------------\n",
      "price\n",
      "count    300259.000000\n",
      "mean      20883.800386\n",
      "std       22695.962230\n",
      "min        1105.000000\n",
      "25%        4783.000000\n",
      "50%        7425.000000\n",
      "75%       42521.000000\n",
      "max      123071.000000\n",
      "Name: price, dtype: float64\n",
      "-------------\n"
     ]
    }
   ],
   "source": [
    "for i in num:\n",
    "    print(i)\n",
    "    print(df[i].describe())\n",
    "    print('-------------')"
   ]
  },
  {
   "cell_type": "markdown",
   "id": "9596c844-7a1e-43ea-b5af-9844aa4014e4",
   "metadata": {},
   "source": [
    " * Average time taken by the flights to reach the destination is 11.54 Hours.\n",
    " * Travel duration of the flights ranges from 0.83 hours to 49.83 hours suggesting a wide range of travel duration.\n",
    " * Average ticket price for the economic class is Rs.6571.17.\n",
    " * Minimum and maximum fares of the economic class tickets are around Rs.1105 and Rs.42349 respectively indicating that there is a good range of ticket prices within the economic class tickets.\n",
    " * The distribution of all three columns seems to have skewed right , showing that there are instances where the value is higher pushing the value to the tail of the dataset."
   ]
  },
  {
   "cell_type": "code",
   "execution_count": 49,
   "id": "4f33a8c6-e6e3-4cf9-a27e-3de56b6e2f6b",
   "metadata": {},
   "outputs": [
    {
     "data": {
      "image/png": "[encoded data removed]",
      "text/plain": [
       "<Figure size 1500x800 with 3 Axes>"
      ]
     },
     "metadata": {},
     "output_type": "display_data"
    }
   ],
   "source": [
    "plt.figure(figsize=(15,8))\n",
    "t= 1\n",
    "for i in num:\n",
    "    plt.subplot(1,3,t)\n",
    "    sns.boxplot(df[i])\n",
    "    t+=1\n",
    "\n",
    "plt.tight_layout()\n",
    "plt.show()"
   ]
  },
  {
   "cell_type": "markdown",
   "id": "d9a58982-953b-4a92-b6b7-6865846c1fb5",
   "metadata": {},
   "source": [
    " * Outliers in the 'time_taken' and 'price' columns are very high"
   ]
  },
  {
   "cell_type": "code",
   "execution_count": 51,
   "id": "acb7f360-c815-429b-b448-ce6e34481501",
   "metadata": {},
   "outputs": [],
   "source": [
    "def outlier(i):\n",
    "    q1 = np.quantile(df[i], 0.25)\n",
    "    q3 = np.quantile(df[i], 0.75)\n",
    "    iqr = q3 - q1\n",
    "    lower = q1 - 2 * iqr\n",
    "    upper = q3 + 2 * iqr\n",
    "    print(upper)\n",
    "    print(lower)\n",
    "    return df[(df[i]< lower) | (df[i] > upper)]"
   ]
  },
  {
   "cell_type": "code",
   "execution_count": 52,
   "id": "59f28843-97bf-4d4b-a51e-b40b7ef3e64c",
   "metadata": {},
   "outputs": [
    {
     "name": "stdout",
     "output_type": "stream",
     "text": [
      "35.0\n",
      "-12.083333333333336\n"
     ]
    },
    {
     "data": {
      "text/html": [
       "<div>\n",
       "<style scoped>\n",
       "    .dataframe tbody tr th:only-of-type {\n",
       "        vertical-align: middle;\n",
       "    }\n",
       "\n",
       "    .dataframe tbody tr th {\n",
       "        vertical-align: top;\n",
       "    }\n",
       "\n",
       "    .dataframe thead th {\n",
       "        text-align: right;\n",
       "    }\n",
       "</style>\n",
       "<table border=\"1\" class=\"dataframe\">\n",
       "  <thead>\n",
       "    <tr style=\"text-align: right;\">\n",
       "      <th></th>\n",
       "      <th>date</th>\n",
       "      <th>airline</th>\n",
       "      <th>ch_code</th>\n",
       "      <th>num_code</th>\n",
       "      <th>dep_time</th>\n",
       "      <th>departure_city</th>\n",
       "      <th>time_taken</th>\n",
       "      <th>stop</th>\n",
       "      <th>arr_time</th>\n",
       "      <th>destination_city</th>\n",
       "      <th>price</th>\n",
       "      <th>class</th>\n",
       "      <th>city</th>\n",
       "      <th>day_of_week</th>\n",
       "    </tr>\n",
       "  </thead>\n",
       "  <tbody>\n",
       "    <tr>\n",
       "      <th>10542</th>\n",
       "      <td>2022-02-14</td>\n",
       "      <td>Air India</td>\n",
       "      <td>AI</td>\n",
       "      <td>9887</td>\n",
       "      <td>early morning</td>\n",
       "      <td>Delhi</td>\n",
       "      <td>36.916667</td>\n",
       "      <td>2+_stops</td>\n",
       "      <td>evening</td>\n",
       "      <td>Bangalore</td>\n",
       "      <td>12321.0</td>\n",
       "      <td>economy</td>\n",
       "      <td>2+_stops</td>\n",
       "      <td>Monday</td>\n",
       "    </tr>\n",
       "    <tr>\n",
       "      <th>20466</th>\n",
       "      <td>2022-02-13</td>\n",
       "      <td>Vistara</td>\n",
       "      <td>UK</td>\n",
       "      <td>815</td>\n",
       "      <td>morning</td>\n",
       "      <td>Delhi</td>\n",
       "      <td>35.833333</td>\n",
       "      <td>2+_stops</td>\n",
       "      <td>evening</td>\n",
       "      <td>Kolkata</td>\n",
       "      <td>17462.0</td>\n",
       "      <td>economy</td>\n",
       "      <td>2+_stops</td>\n",
       "      <td>Sunday</td>\n",
       "    </tr>\n",
       "    <tr>\n",
       "      <th>29419</th>\n",
       "      <td>2022-02-17</td>\n",
       "      <td>Air India</td>\n",
       "      <td>AI</td>\n",
       "      <td>481</td>\n",
       "      <td>morning</td>\n",
       "      <td>Delhi</td>\n",
       "      <td>36.916667</td>\n",
       "      <td>2+_stops</td>\n",
       "      <td>night</td>\n",
       "      <td>Hyderabad</td>\n",
       "      <td>10474.0</td>\n",
       "      <td>economy</td>\n",
       "      <td>2+_stops</td>\n",
       "      <td>Thursday</td>\n",
       "    </tr>\n",
       "    <tr>\n",
       "      <th>29420</th>\n",
       "      <td>2022-02-17</td>\n",
       "      <td>Air India</td>\n",
       "      <td>AI</td>\n",
       "      <td>435</td>\n",
       "      <td>early morning</td>\n",
       "      <td>Delhi</td>\n",
       "      <td>39.666667</td>\n",
       "      <td>2+_stops</td>\n",
       "      <td>night</td>\n",
       "      <td>Hyderabad</td>\n",
       "      <td>10474.0</td>\n",
       "      <td>economy</td>\n",
       "      <td>2+_stops</td>\n",
       "      <td>Thursday</td>\n",
       "    </tr>\n",
       "    <tr>\n",
       "      <th>29536</th>\n",
       "      <td>2022-02-18</td>\n",
       "      <td>Air India</td>\n",
       "      <td>AI</td>\n",
       "      <td>481</td>\n",
       "      <td>morning</td>\n",
       "      <td>Delhi</td>\n",
       "      <td>36.916667</td>\n",
       "      <td>2+_stops</td>\n",
       "      <td>night</td>\n",
       "      <td>Hyderabad</td>\n",
       "      <td>10474.0</td>\n",
       "      <td>economy</td>\n",
       "      <td>2+_stops</td>\n",
       "      <td>Friday</td>\n",
       "    </tr>\n",
       "    <tr>\n",
       "      <th>...</th>\n",
       "      <td>...</td>\n",
       "      <td>...</td>\n",
       "      <td>...</td>\n",
       "      <td>...</td>\n",
       "      <td>...</td>\n",
       "      <td>...</td>\n",
       "      <td>...</td>\n",
       "      <td>...</td>\n",
       "      <td>...</td>\n",
       "      <td>...</td>\n",
       "      <td>...</td>\n",
       "      <td>...</td>\n",
       "      <td>...</td>\n",
       "      <td>...</td>\n",
       "    </tr>\n",
       "    <tr>\n",
       "      <th>63418</th>\n",
       "      <td>2022-03-28</td>\n",
       "      <td>Vistara</td>\n",
       "      <td>UK</td>\n",
       "      <td>720</td>\n",
       "      <td>early morning</td>\n",
       "      <td>Kolkata</td>\n",
       "      <td>35.083333</td>\n",
       "      <td>one_stop</td>\n",
       "      <td>evening</td>\n",
       "      <td>Bangalore</td>\n",
       "      <td>67710.0</td>\n",
       "      <td>business</td>\n",
       "      <td>one_stop</td>\n",
       "      <td>Monday</td>\n",
       "    </tr>\n",
       "    <tr>\n",
       "      <th>63535</th>\n",
       "      <td>2022-03-30</td>\n",
       "      <td>Vistara</td>\n",
       "      <td>UK</td>\n",
       "      <td>720</td>\n",
       "      <td>early morning</td>\n",
       "      <td>Kolkata</td>\n",
       "      <td>35.083333</td>\n",
       "      <td>one_stop</td>\n",
       "      <td>evening</td>\n",
       "      <td>Bangalore</td>\n",
       "      <td>67710.0</td>\n",
       "      <td>business</td>\n",
       "      <td>one_stop</td>\n",
       "      <td>Wednesday</td>\n",
       "    </tr>\n",
       "    <tr>\n",
       "      <th>76364</th>\n",
       "      <td>2022-02-12</td>\n",
       "      <td>Vistara</td>\n",
       "      <td>UK</td>\n",
       "      <td>860</td>\n",
       "      <td>early morning</td>\n",
       "      <td>Hyderabad</td>\n",
       "      <td>37.916667</td>\n",
       "      <td>one_stop</td>\n",
       "      <td>night</td>\n",
       "      <td>Kolkata</td>\n",
       "      <td>64733.0</td>\n",
       "      <td>business</td>\n",
       "      <td>one_stop</td>\n",
       "      <td>Saturday</td>\n",
       "    </tr>\n",
       "    <tr>\n",
       "      <th>86940</th>\n",
       "      <td>2022-02-16</td>\n",
       "      <td>Air India</td>\n",
       "      <td>AI</td>\n",
       "      <td>429</td>\n",
       "      <td>noon</td>\n",
       "      <td>Chennai</td>\n",
       "      <td>45.833333</td>\n",
       "      <td>2+_stops</td>\n",
       "      <td>morning</td>\n",
       "      <td>Bangalore</td>\n",
       "      <td>51928.0</td>\n",
       "      <td>business</td>\n",
       "      <td>2+_stops</td>\n",
       "      <td>Wednesday</td>\n",
       "    </tr>\n",
       "    <tr>\n",
       "      <th>89287</th>\n",
       "      <td>2022-02-12</td>\n",
       "      <td>Vistara</td>\n",
       "      <td>UK</td>\n",
       "      <td>832</td>\n",
       "      <td>early morning</td>\n",
       "      <td>Chennai</td>\n",
       "      <td>37.833333</td>\n",
       "      <td>one_stop</td>\n",
       "      <td>night</td>\n",
       "      <td>Kolkata</td>\n",
       "      <td>68963.0</td>\n",
       "      <td>business</td>\n",
       "      <td>one_stop</td>\n",
       "      <td>Saturday</td>\n",
       "    </tr>\n",
       "  </tbody>\n",
       "</table>\n",
       "<p>449 rows × 14 columns</p>\n",
       "</div>"
      ],
      "text/plain": [
       "            date    airline ch_code  num_code       dep_time departure_city  \\\n",
       "10542 2022-02-14  Air India      AI      9887  early morning          Delhi   \n",
       "20466 2022-02-13    Vistara      UK       815        morning          Delhi   \n",
       "29419 2022-02-17  Air India      AI       481        morning          Delhi   \n",
       "29420 2022-02-17  Air India      AI       435  early morning          Delhi   \n",
       "29536 2022-02-18  Air India      AI       481        morning          Delhi   \n",
       "...          ...        ...     ...       ...            ...            ...   \n",
       "63418 2022-03-28    Vistara      UK       720  early morning        Kolkata   \n",
       "63535 2022-03-30    Vistara      UK       720  early morning        Kolkata   \n",
       "76364 2022-02-12    Vistara      UK       860  early morning      Hyderabad   \n",
       "86940 2022-02-16  Air India      AI       429           noon        Chennai   \n",
       "89287 2022-02-12    Vistara      UK       832  early morning        Chennai   \n",
       "\n",
       "       time_taken      stop arr_time destination_city    price     class  \\\n",
       "10542   36.916667  2+_stops  evening        Bangalore  12321.0   economy   \n",
       "20466   35.833333  2+_stops  evening          Kolkata  17462.0   economy   \n",
       "29419   36.916667  2+_stops    night        Hyderabad  10474.0   economy   \n",
       "29420   39.666667  2+_stops    night        Hyderabad  10474.0   economy   \n",
       "29536   36.916667  2+_stops    night        Hyderabad  10474.0   economy   \n",
       "...           ...       ...      ...              ...      ...       ...   \n",
       "63418   35.083333  one_stop  evening        Bangalore  67710.0  business   \n",
       "63535   35.083333  one_stop  evening        Bangalore  67710.0  business   \n",
       "76364   37.916667  one_stop    night          Kolkata  64733.0  business   \n",
       "86940   45.833333  2+_stops  morning        Bangalore  51928.0  business   \n",
       "89287   37.833333  one_stop    night          Kolkata  68963.0  business   \n",
       "\n",
       "           city day_of_week  \n",
       "10542  2+_stops      Monday  \n",
       "20466  2+_stops      Sunday  \n",
       "29419  2+_stops    Thursday  \n",
       "29420  2+_stops    Thursday  \n",
       "29536  2+_stops      Friday  \n",
       "...         ...         ...  \n",
       "63418  one_stop      Monday  \n",
       "63535  one_stop   Wednesday  \n",
       "76364  one_stop    Saturday  \n",
       "86940  2+_stops   Wednesday  \n",
       "89287  one_stop    Saturday  \n",
       "\n",
       "[449 rows x 14 columns]"
      ]
     },
     "execution_count": 52,
     "metadata": {},
     "output_type": "execute_result"
    }
   ],
   "source": [
    "outlier('time_taken')"
   ]
  },
  {
   "cell_type": "code",
   "execution_count": 53,
   "id": "26383553-4751-4996-9465-eb84be73c3c9",
   "metadata": {},
   "outputs": [
    {
     "data": {
      "text/html": [
       "<div>\n",
       "<style scoped>\n",
       "    .dataframe tbody tr th:only-of-type {\n",
       "        vertical-align: middle;\n",
       "    }\n",
       "\n",
       "    .dataframe tbody tr th {\n",
       "        vertical-align: top;\n",
       "    }\n",
       "\n",
       "    .dataframe thead th {\n",
       "        text-align: right;\n",
       "    }\n",
       "</style>\n",
       "<table border=\"1\" class=\"dataframe\">\n",
       "  <thead>\n",
       "    <tr style=\"text-align: right;\">\n",
       "      <th></th>\n",
       "      <th>date</th>\n",
       "      <th>airline</th>\n",
       "      <th>ch_code</th>\n",
       "      <th>num_code</th>\n",
       "      <th>dep_time</th>\n",
       "      <th>departure_city</th>\n",
       "      <th>time_taken</th>\n",
       "      <th>stop</th>\n",
       "      <th>arr_time</th>\n",
       "      <th>destination_city</th>\n",
       "      <th>price</th>\n",
       "      <th>class</th>\n",
       "      <th>city</th>\n",
       "      <th>day_of_week</th>\n",
       "    </tr>\n",
       "  </thead>\n",
       "  <tbody>\n",
       "    <tr>\n",
       "      <th>82</th>\n",
       "      <td>2022-02-11</td>\n",
       "      <td>Air India</td>\n",
       "      <td>AI</td>\n",
       "      <td>801</td>\n",
       "      <td>evening</td>\n",
       "      <td>Delhi</td>\n",
       "      <td>29.333333</td>\n",
       "      <td>one_stop</td>\n",
       "      <td>night</td>\n",
       "      <td>Mumbai</td>\n",
       "      <td>16245.0</td>\n",
       "      <td>economy</td>\n",
       "      <td>one_stop</td>\n",
       "      <td>Friday</td>\n",
       "    </tr>\n",
       "    <tr>\n",
       "      <th>114</th>\n",
       "      <td>2022-02-11</td>\n",
       "      <td>Air India</td>\n",
       "      <td>AI</td>\n",
       "      <td>429</td>\n",
       "      <td>morning</td>\n",
       "      <td>Delhi</td>\n",
       "      <td>30.083333</td>\n",
       "      <td>one_stop</td>\n",
       "      <td>noon</td>\n",
       "      <td>Mumbai</td>\n",
       "      <td>24540.0</td>\n",
       "      <td>economy</td>\n",
       "      <td>Chennai</td>\n",
       "      <td>Friday</td>\n",
       "    </tr>\n",
       "    <tr>\n",
       "      <th>357</th>\n",
       "      <td>2022-02-13</td>\n",
       "      <td>Air India</td>\n",
       "      <td>AI</td>\n",
       "      <td>429</td>\n",
       "      <td>morning</td>\n",
       "      <td>Delhi</td>\n",
       "      <td>30.083333</td>\n",
       "      <td>one_stop</td>\n",
       "      <td>noon</td>\n",
       "      <td>Mumbai</td>\n",
       "      <td>15405.0</td>\n",
       "      <td>economy</td>\n",
       "      <td>Chennai</td>\n",
       "      <td>Sunday</td>\n",
       "    </tr>\n",
       "    <tr>\n",
       "      <th>363</th>\n",
       "      <td>2022-02-13</td>\n",
       "      <td>Air India</td>\n",
       "      <td>AI</td>\n",
       "      <td>801</td>\n",
       "      <td>evening</td>\n",
       "      <td>Delhi</td>\n",
       "      <td>29.333333</td>\n",
       "      <td>one_stop</td>\n",
       "      <td>night</td>\n",
       "      <td>Mumbai</td>\n",
       "      <td>16245.0</td>\n",
       "      <td>economy</td>\n",
       "      <td>one_stop</td>\n",
       "      <td>Sunday</td>\n",
       "    </tr>\n",
       "    <tr>\n",
       "      <th>546</th>\n",
       "      <td>2022-02-14</td>\n",
       "      <td>Air India</td>\n",
       "      <td>AI</td>\n",
       "      <td>429</td>\n",
       "      <td>morning</td>\n",
       "      <td>Delhi</td>\n",
       "      <td>30.083333</td>\n",
       "      <td>one_stop</td>\n",
       "      <td>noon</td>\n",
       "      <td>Mumbai</td>\n",
       "      <td>15720.0</td>\n",
       "      <td>economy</td>\n",
       "      <td>Chennai</td>\n",
       "      <td>Monday</td>\n",
       "    </tr>\n",
       "    <tr>\n",
       "      <th>...</th>\n",
       "      <td>...</td>\n",
       "      <td>...</td>\n",
       "      <td>...</td>\n",
       "      <td>...</td>\n",
       "      <td>...</td>\n",
       "      <td>...</td>\n",
       "      <td>...</td>\n",
       "      <td>...</td>\n",
       "      <td>...</td>\n",
       "      <td>...</td>\n",
       "      <td>...</td>\n",
       "      <td>...</td>\n",
       "      <td>...</td>\n",
       "      <td>...</td>\n",
       "    </tr>\n",
       "    <tr>\n",
       "      <th>91062</th>\n",
       "      <td>2022-03-24</td>\n",
       "      <td>Air India</td>\n",
       "      <td>AI</td>\n",
       "      <td>569</td>\n",
       "      <td>early morning</td>\n",
       "      <td>Chennai</td>\n",
       "      <td>29.833333</td>\n",
       "      <td>one_stop</td>\n",
       "      <td>noon</td>\n",
       "      <td>Kolkata</td>\n",
       "      <td>54481.0</td>\n",
       "      <td>business</td>\n",
       "      <td>one_stop</td>\n",
       "      <td>Thursday</td>\n",
       "    </tr>\n",
       "    <tr>\n",
       "      <th>91149</th>\n",
       "      <td>2022-03-26</td>\n",
       "      <td>Air India</td>\n",
       "      <td>AI</td>\n",
       "      <td>569</td>\n",
       "      <td>early morning</td>\n",
       "      <td>Chennai</td>\n",
       "      <td>29.833333</td>\n",
       "      <td>one_stop</td>\n",
       "      <td>noon</td>\n",
       "      <td>Kolkata</td>\n",
       "      <td>54481.0</td>\n",
       "      <td>business</td>\n",
       "      <td>one_stop</td>\n",
       "      <td>Saturday</td>\n",
       "    </tr>\n",
       "    <tr>\n",
       "      <th>91221</th>\n",
       "      <td>2022-03-27</td>\n",
       "      <td>Air India</td>\n",
       "      <td>AI</td>\n",
       "      <td>440</td>\n",
       "      <td>early morning</td>\n",
       "      <td>Chennai</td>\n",
       "      <td>28.916667</td>\n",
       "      <td>one_stop</td>\n",
       "      <td>morning</td>\n",
       "      <td>Kolkata</td>\n",
       "      <td>55377.0</td>\n",
       "      <td>business</td>\n",
       "      <td>one_stop</td>\n",
       "      <td>Sunday</td>\n",
       "    </tr>\n",
       "    <tr>\n",
       "      <th>91305</th>\n",
       "      <td>2022-03-29</td>\n",
       "      <td>Air India</td>\n",
       "      <td>AI</td>\n",
       "      <td>440</td>\n",
       "      <td>early morning</td>\n",
       "      <td>Chennai</td>\n",
       "      <td>28.916667</td>\n",
       "      <td>one_stop</td>\n",
       "      <td>morning</td>\n",
       "      <td>Kolkata</td>\n",
       "      <td>55377.0</td>\n",
       "      <td>business</td>\n",
       "      <td>one_stop</td>\n",
       "      <td>Tuesday</td>\n",
       "    </tr>\n",
       "    <tr>\n",
       "      <th>91358</th>\n",
       "      <td>2022-03-31</td>\n",
       "      <td>Air India</td>\n",
       "      <td>AI</td>\n",
       "      <td>569</td>\n",
       "      <td>early morning</td>\n",
       "      <td>Chennai</td>\n",
       "      <td>29.833333</td>\n",
       "      <td>one_stop</td>\n",
       "      <td>noon</td>\n",
       "      <td>Kolkata</td>\n",
       "      <td>54481.0</td>\n",
       "      <td>business</td>\n",
       "      <td>one_stop</td>\n",
       "      <td>Thursday</td>\n",
       "    </tr>\n",
       "  </tbody>\n",
       "</table>\n",
       "<p>3188 rows × 14 columns</p>\n",
       "</div>"
      ],
      "text/plain": [
       "            date    airline ch_code  num_code       dep_time departure_city  \\\n",
       "82    2022-02-11  Air India      AI       801        evening          Delhi   \n",
       "114   2022-02-11  Air India      AI       429        morning          Delhi   \n",
       "357   2022-02-13  Air India      AI       429        morning          Delhi   \n",
       "363   2022-02-13  Air India      AI       801        evening          Delhi   \n",
       "546   2022-02-14  Air India      AI       429        morning          Delhi   \n",
       "...          ...        ...     ...       ...            ...            ...   \n",
       "91062 2022-03-24  Air India      AI       569  early morning        Chennai   \n",
       "91149 2022-03-26  Air India      AI       569  early morning        Chennai   \n",
       "91221 2022-03-27  Air India      AI       440  early morning        Chennai   \n",
       "91305 2022-03-29  Air India      AI       440  early morning        Chennai   \n",
       "91358 2022-03-31  Air India      AI       569  early morning        Chennai   \n",
       "\n",
       "       time_taken      stop arr_time destination_city    price     class  \\\n",
       "82      29.333333  one_stop    night           Mumbai  16245.0   economy   \n",
       "114     30.083333  one_stop     noon           Mumbai  24540.0   economy   \n",
       "357     30.083333  one_stop     noon           Mumbai  15405.0   economy   \n",
       "363     29.333333  one_stop    night           Mumbai  16245.0   economy   \n",
       "546     30.083333  one_stop     noon           Mumbai  15720.0   economy   \n",
       "...           ...       ...      ...              ...      ...       ...   \n",
       "91062   29.833333  one_stop     noon          Kolkata  54481.0  business   \n",
       "91149   29.833333  one_stop     noon          Kolkata  54481.0  business   \n",
       "91221   28.916667  one_stop  morning          Kolkata  55377.0  business   \n",
       "91305   28.916667  one_stop  morning          Kolkata  55377.0  business   \n",
       "91358   29.833333  one_stop     noon          Kolkata  54481.0  business   \n",
       "\n",
       "           city day_of_week  \n",
       "82     one_stop      Friday  \n",
       "114     Chennai      Friday  \n",
       "357     Chennai      Sunday  \n",
       "363    one_stop      Sunday  \n",
       "546     Chennai      Monday  \n",
       "...         ...         ...  \n",
       "91062  one_stop    Thursday  \n",
       "91149  one_stop    Saturday  \n",
       "91221  one_stop      Sunday  \n",
       "91305  one_stop     Tuesday  \n",
       "91358  one_stop    Thursday  \n",
       "\n",
       "[3188 rows x 14 columns]"
      ]
     },
     "execution_count": 53,
     "metadata": {},
     "output_type": "execute_result"
    }
   ],
   "source": [
    "df[df['time_taken']>28.75]"
   ]
  },
  {
   "cell_type": "code",
   "execution_count": 54,
   "id": "adeeb8ae-ae63-4266-877b-65e54b631573",
   "metadata": {},
   "outputs": [
    {
     "data": {
      "text/plain": [
       "<Axes: xlabel='stop', ylabel='time_taken'>"
      ]
     },
     "execution_count": 54,
     "metadata": {},
     "output_type": "execute_result"
    },
    {
     "data": {
      "image/png": "[encoded data removed]",
      "text/plain": [
       "<Figure size 640x480 with 1 Axes>"
      ]
     },
     "metadata": {},
     "output_type": "display_data"
    }
   ],
   "source": [
    "sns.barplot(x = df['stop'], y = df['time_taken'])"
   ]
  },
  {
   "cell_type": "markdown",
   "id": "1113233d-ce52-4d8e-8f5c-f0336749c12e",
   "metadata": {},
   "source": [
    " * Flight having more than 2 stops have high duration than that of flights with one_stop and no_stop , thus creating the outliers."
   ]
  },
  {
   "cell_type": "code",
   "execution_count": 56,
   "id": "a80a0d23-ab45-4130-a104-90fe5197f482",
   "metadata": {},
   "outputs": [
    {
     "name": "stdout",
     "output_type": "stream",
     "text": [
      "117997.0\n",
      "-70693.0\n"
     ]
    },
    {
     "data": {
      "text/html": [
       "<div>\n",
       "<style scoped>\n",
       "    .dataframe tbody tr th:only-of-type {\n",
       "        vertical-align: middle;\n",
       "    }\n",
       "\n",
       "    .dataframe tbody tr th {\n",
       "        vertical-align: top;\n",
       "    }\n",
       "\n",
       "    .dataframe thead th {\n",
       "        text-align: right;\n",
       "    }\n",
       "</style>\n",
       "<table border=\"1\" class=\"dataframe\">\n",
       "  <thead>\n",
       "    <tr style=\"text-align: right;\">\n",
       "      <th></th>\n",
       "      <th>date</th>\n",
       "      <th>airline</th>\n",
       "      <th>ch_code</th>\n",
       "      <th>num_code</th>\n",
       "      <th>dep_time</th>\n",
       "      <th>departure_city</th>\n",
       "      <th>time_taken</th>\n",
       "      <th>stop</th>\n",
       "      <th>arr_time</th>\n",
       "      <th>destination_city</th>\n",
       "      <th>price</th>\n",
       "      <th>class</th>\n",
       "      <th>city</th>\n",
       "      <th>day_of_week</th>\n",
       "    </tr>\n",
       "  </thead>\n",
       "  <tbody>\n",
       "    <tr>\n",
       "      <th>54711</th>\n",
       "      <td>2022-02-13</td>\n",
       "      <td>Vistara</td>\n",
       "      <td>UK</td>\n",
       "      <td>772</td>\n",
       "      <td>morning</td>\n",
       "      <td>Kolkata</td>\n",
       "      <td>13.5</td>\n",
       "      <td>one_stop</td>\n",
       "      <td>night</td>\n",
       "      <td>Delhi</td>\n",
       "      <td>123071.0</td>\n",
       "      <td>business</td>\n",
       "      <td>one_stop</td>\n",
       "      <td>Sunday</td>\n",
       "    </tr>\n",
       "  </tbody>\n",
       "</table>\n",
       "</div>"
      ],
      "text/plain": [
       "            date  airline ch_code  num_code dep_time departure_city  \\\n",
       "54711 2022-02-13  Vistara      UK       772  morning        Kolkata   \n",
       "\n",
       "       time_taken      stop arr_time destination_city     price     class  \\\n",
       "54711        13.5  one_stop    night            Delhi  123071.0  business   \n",
       "\n",
       "           city day_of_week  \n",
       "54711  one_stop      Sunday  "
      ]
     },
     "execution_count": 56,
     "metadata": {},
     "output_type": "execute_result"
    }
   ],
   "source": [
    "outlier('price')"
   ]
  },
  {
   "cell_type": "code",
   "execution_count": 57,
   "id": "76657b48-cd0a-4d0c-8dab-690136c0fda0",
   "metadata": {},
   "outputs": [
    {
     "data": {
      "text/plain": [
       "<Axes: xlabel='stop', ylabel='price'>"
      ]
     },
     "execution_count": 57,
     "metadata": {},
     "output_type": "execute_result"
    },
    {
     "data": {
      "image/png": "[encoded data removed]",
      "text/plain": [
       "<Figure size 640x480 with 1 Axes>"
      ]
     },
     "metadata": {},
     "output_type": "display_data"
    }
   ],
   "source": [
    "sns.barplot(x = df['stop'], y = df['price'])"
   ]
  },
  {
   "cell_type": "markdown",
   "id": "b8fff801-564c-45a9-8bfb-1dd6a86973cc",
   "metadata": {},
   "source": [
    " * The flight ticket price is also getting highly affected by the number of stops."
   ]
  },
  {
   "cell_type": "markdown",
   "id": "e0d2c03a-bbb6-4364-966a-86bebc4475b8",
   "metadata": {},
   "source": [
    "#### Measure of dispersion:"
   ]
  },
  {
   "cell_type": "markdown",
   "id": "1e5771b0-2be4-4741-8818-d33f52b515f8",
   "metadata": {},
   "source": [
    "##### Skewness:"
   ]
  },
  {
   "cell_type": "code",
   "execution_count": 61,
   "id": "5f89755e-64ec-415d-af27-1185e5b29f98",
   "metadata": {},
   "outputs": [
    {
     "name": "stdout",
     "output_type": "stream",
     "text": [
      "Skewness of the column num_code is 2.816130569595276\n",
      "\n",
      "Skewness of the column time_taken is 0.6029784255685438\n",
      "\n",
      "Skewness of the column price is 1.0618818903392429\n",
      "\n"
     ]
    }
   ],
   "source": [
    "for i in num:\n",
    "    print(f'Skewness of the column {i} is {df[i].skew()}')\n",
    "    print()"
   ]
  },
  {
   "cell_type": "markdown",
   "id": "22fe4d04-0782-436a-9a5f-a37153c4a117",
   "metadata": {},
   "source": [
    " * Skewness of the columns suggest that all three numerical columns are right skewed."
   ]
  },
  {
   "cell_type": "markdown",
   "id": "2d0cdda5-2afa-4bdf-9ed1-3336aab1a5aa",
   "metadata": {},
   "source": [
    "##### Kurtosis:"
   ]
  },
  {
   "cell_type": "code",
   "execution_count": 64,
   "id": "f347a631-a4ad-4e1d-a643-4a7024551f4a",
   "metadata": {},
   "outputs": [
    {
     "name": "stdout",
     "output_type": "stream",
     "text": [
      "Kurtosis value of the column num_code is 6.931508400618155\n",
      "\n",
      "Kurtosis value of the column time_taken is -0.2689803307036893\n",
      "\n",
      "Kurtosis value of the column price is -0.3951724294382908\n",
      "\n"
     ]
    }
   ],
   "source": [
    "for i in num:\n",
    "    print(f'Kurtosis value of the column {i} is {df[i].kurt()}')\n",
    "    print()"
   ]
  },
  {
   "cell_type": "markdown",
   "id": "f4297363-c076-4367-98ea-0a72a3a4e248",
   "metadata": {},
   "source": [
    "##### Variance:"
   ]
  },
  {
   "cell_type": "code",
   "execution_count": 66,
   "id": "e2b13875-2f3c-4e5a-934e-1eb5078d2e57",
   "metadata": {},
   "outputs": [
    {
     "name": "stdout",
     "output_type": "stream",
     "text": [
      "Variance of the column num_code is 3898729.0371723277\n",
      "\n",
      "Variance of the column time_taken is 51.73815248435815\n",
      "\n",
      "Variance of the column price is 515106701.5414476\n",
      "\n"
     ]
    }
   ],
   "source": [
    "for i in num:\n",
    "    print(f'Variance of the column {i} is {df[i].var()}')\n",
    "    print()"
   ]
  },
  {
   "cell_type": "code",
   "execution_count": 67,
   "id": "b098c00e-8350-4c7f-929e-ced28792bda5",
   "metadata": {},
   "outputs": [],
   "source": [
    "plt.rcParams['figure.figsize'] = [10,8]\n",
    "from warnings import filterwarnings\n",
    "filterwarnings('ignore')"
   ]
  },
  {
   "cell_type": "code",
   "execution_count": 68,
   "id": "f4f77e60-8ea6-4736-bac0-3a122934234b",
   "metadata": {},
   "outputs": [
    {
     "data": {
      "image/png": "[encoded data removed]",
      "text/plain": [
       "<Figure size 1000x800 with 3 Axes>"
      ]
     },
     "metadata": {},
     "output_type": "display_data"
    }
   ],
   "source": [
    "t = 1\n",
    "for i in num:\n",
    "    plt.subplot(3,1,t)\n",
    "    sns.distplot(x = df[i])\n",
    "    plt.title(f'Distripution plot of {i}')\n",
    "    t+=1\n",
    "plt.tight_layout()\n",
    "plt.show()"
   ]
  },
  {
   "cell_type": "markdown",
   "id": "7a0317a7-b54a-405a-b2cf-4fbf67605b6f",
   "metadata": {},
   "source": [
    "#### Categorical:"
   ]
  },
  {
   "cell_type": "code",
   "execution_count": 70,
   "id": "aaeb7701-92f5-41fb-a8e4-5bc4e72bc0f4",
   "metadata": {},
   "outputs": [
    {
     "name": "stdout",
     "output_type": "stream",
     "text": [
      "airline\n",
      "count      300259\n",
      "unique          8\n",
      "top       Vistara\n",
      "freq       127859\n",
      "Name: airline, dtype: object\n",
      "--------------------------\n",
      "ch_code\n",
      "count     300259\n",
      "unique         8\n",
      "top           UK\n",
      "freq      127859\n",
      "Name: ch_code, dtype: object\n",
      "--------------------------\n",
      "dep_time\n",
      "count      300259\n",
      "unique          6\n",
      "top       morning\n",
      "freq        75250\n",
      "Name: dep_time, dtype: object\n",
      "--------------------------\n",
      "departure_city\n",
      "count     300259\n",
      "unique         6\n",
      "top        Delhi\n",
      "freq       61343\n",
      "Name: departure_city, dtype: object\n",
      "--------------------------\n",
      "stop\n",
      "count       300259\n",
      "unique           3\n",
      "top       one_stop\n",
      "freq        250927\n",
      "Name: stop, dtype: object\n",
      "--------------------------\n",
      "arr_time\n",
      "count     300259\n",
      "unique         6\n",
      "top        night\n",
      "freq       93584\n",
      "Name: arr_time, dtype: object\n",
      "--------------------------\n",
      "destination_city\n",
      "count     300259\n",
      "unique         6\n",
      "top       Mumbai\n",
      "freq       59107\n",
      "Name: destination_city, dtype: object\n",
      "--------------------------\n",
      "city\n",
      "count       300259\n",
      "unique          40\n",
      "top       one_stop\n",
      "freq        243601\n",
      "Name: city, dtype: object\n",
      "--------------------------\n",
      "day_of_week\n",
      "count     300259\n",
      "unique         7\n",
      "top       Monday\n",
      "freq       44072\n",
      "Name: day_of_week, dtype: object\n",
      "--------------------------\n"
     ]
    }
   ],
   "source": [
    "for i in cat:\n",
    "    print(i)\n",
    "    print(df[i].describe())\n",
    "    print('--------------------------')"
   ]
  },
  {
   "cell_type": "raw",
   "id": "3e1da8e7-2038-47c7-93d6-345c8ea58070",
   "metadata": {},
   "source": [
    "t = 1 \n",
    "for i in cat:\n",
    "    plt.subplot(3,3,t)\n",
    "    df[i].value_counts().plot(kind = 'bar')\n",
    "    plt.title(f'Barplot of {i}')\n",
    "    plt.xticks(rotation = 45)\n",
    "    t += 1\n",
    "plt.tight_layout()\n",
    "plt.show()"
   ]
  },
  {
   "cell_type": "code",
   "execution_count": 71,
   "id": "11b35594-0353-4526-8a5c-8ab53e363cd4",
   "metadata": {},
   "outputs": [],
   "source": [
    "plt.rcParams['figure.figsize'] = [15,15]"
   ]
  },
  {
   "cell_type": "raw",
   "id": "40117606-286e-4f02-ab95-ea5b2bc797ca",
   "metadata": {},
   "source": [
    "plt.rcParams['figure.figsize'] = [10,8]\n",
    "t = 1 \n",
    "for i in cat:\n",
    "    if i != 'city' and i != 'ch_code':\n",
    "        exp = [0.2] * len(df[i].value_counts())  \n",
    "        plt.subplot(3,3,t)\n",
    "        plt.pie(x = df[i].value_counts(), labels = df[i].value_counts().index, shadow = True, autopct = '%.2f%%', rotatelabels=False, explode = exp)\n",
    "        plt.title(f'Distribution of {i}')\n",
    "        plt.xticks(rotation = 45)\n",
    "        t += 1\n",
    "plt.tight_layout()\n",
    "plt.show()"
   ]
  },
  {
   "cell_type": "markdown",
   "id": "d850e89e-ccb8-4458-9794-a907721e7127",
   "metadata": {},
   "source": [
    "### Bivariate analysis:"
   ]
  },
  {
   "cell_type": "markdown",
   "id": "61948422-0657-4413-95a4-865a38394691",
   "metadata": {},
   "source": [
    "#### NUM VS NUM:"
   ]
  },
  {
   "cell_type": "code",
   "execution_count": 74,
   "id": "56fc0017-7107-4bf4-9834-6ef6377df366",
   "metadata": {},
   "outputs": [
    {
     "data": {
      "text/html": [
       "<div>\n",
       "<style scoped>\n",
       "    .dataframe tbody tr th:only-of-type {\n",
       "        vertical-align: middle;\n",
       "    }\n",
       "\n",
       "    .dataframe tbody tr th {\n",
       "        vertical-align: top;\n",
       "    }\n",
       "\n",
       "    .dataframe thead th {\n",
       "        text-align: right;\n",
       "    }\n",
       "</style>\n",
       "<table border=\"1\" class=\"dataframe\">\n",
       "  <thead>\n",
       "    <tr style=\"text-align: right;\">\n",
       "      <th></th>\n",
       "      <th>num_code</th>\n",
       "      <th>time_taken</th>\n",
       "      <th>price</th>\n",
       "    </tr>\n",
       "  </thead>\n",
       "  <tbody>\n",
       "    <tr>\n",
       "      <th>num_code</th>\n",
       "      <td>1.000000</td>\n",
       "      <td>-0.133752</td>\n",
       "      <td>-0.212867</td>\n",
       "    </tr>\n",
       "    <tr>\n",
       "      <th>time_taken</th>\n",
       "      <td>-0.133752</td>\n",
       "      <td>1.000000</td>\n",
       "      <td>0.204478</td>\n",
       "    </tr>\n",
       "    <tr>\n",
       "      <th>price</th>\n",
       "      <td>-0.212867</td>\n",
       "      <td>0.204478</td>\n",
       "      <td>1.000000</td>\n",
       "    </tr>\n",
       "  </tbody>\n",
       "</table>\n",
       "</div>"
      ],
      "text/plain": [
       "            num_code  time_taken     price\n",
       "num_code    1.000000   -0.133752 -0.212867\n",
       "time_taken -0.133752    1.000000  0.204478\n",
       "price      -0.212867    0.204478  1.000000"
      ]
     },
     "execution_count": 74,
     "metadata": {},
     "output_type": "execute_result"
    }
   ],
   "source": [
    "# Checking the correlation:\n",
    "df[num].corr()"
   ]
  },
  {
   "cell_type": "raw",
   "id": "fd51e8ce-16fa-435b-9396-84e12c5c0897",
   "metadata": {},
   "source": [
    "t = 1\n",
    "for i in num:\n",
    "    for j in num:\n",
    "        if i != j:\n",
    "            plt.subplot(3,3,t)\n",
    "            sns.scatterplot(x = df[i], y = df[j], palette='plasma')\n",
    "            plt.title(f'scatter plot between {i} and {j}')\n",
    "            t += 1\n",
    "plt.tight_layout()\n",
    "plt.show()"
   ]
  },
  {
   "cell_type": "markdown",
   "id": "aee0568b-692c-49a3-89ed-ff50e8c8f147",
   "metadata": {},
   "source": [
    "#### Cat vs cat:"
   ]
  },
  {
   "cell_type": "code",
   "execution_count": 76,
   "id": "80c90d75-caf1-4cef-99a2-22aeeb43fef8",
   "metadata": {},
   "outputs": [],
   "source": [
    "cat = ['airline','ch_code','dep_time','departure_city','stop','arr_time','destination_city','city','day_of_week', 'class']"
   ]
  },
  {
   "cell_type": "raw",
   "id": "6ea0bc33-4396-4139-9c3c-4ad0a1e14a59",
   "metadata": {},
   "source": [
    "# airline vs other categories:\n",
    "t = 1\n",
    "for i in cat:\n",
    "    if i != 'airline' and i != 'city':\n",
    "        plt.subplot(4,4,t)\n",
    "        pd.crosstab(df['airline'], df[i]).plot(kind = 'bar')\n",
    "        plt.title(f'Distribution of {i} w.r.t. {'airline'}')\n",
    "        t += 1\n",
    "plt.tight_layout()\n",
    "plt.show()"
   ]
  },
  {
   "cell_type": "raw",
   "id": "393ebb7a-6e28-4f0d-9b71-a433d94e4f0c",
   "metadata": {},
   "source": [
    "# dep_time vs other categories:\n",
    "\n",
    "t = 1\n",
    "for i in cat:\n",
    "    if i != 'dep_time' and i != 'city':\n",
    "        plt.subplot(4,4,t)\n",
    "        pd.crosstab(df['dep_time'], df[i]).plot(kind = 'bar')\n",
    "        plt.title(f'Distribution of {i} w.r.t. {'dep_time'}')\n",
    "        t += 1\n",
    "plt.tight_layout()\n",
    "plt.show()"
   ]
  },
  {
   "cell_type": "raw",
   "id": "7603b9a0-0bdd-421d-8825-72424b845500",
   "metadata": {},
   "source": [
    "# departure_city vs other categories:\n",
    "t = 1\n",
    "for i in cat:\n",
    "    if i != 'departure_city' and i != 'city':\n",
    "        plt.subplot(4,4,t)\n",
    "        pd.crosstab(df['departure_city'], df[i]).plot(kind = 'bar')\n",
    "        plt.title(f'Distribution of {i} w.r.t. {'departure_city'}')\n",
    "        t += 1\n",
    "plt.tight_layout()\n",
    "plt.show()"
   ]
  },
  {
   "cell_type": "raw",
   "id": "41a9367e-15bf-418f-a82f-cd100ad4a483",
   "metadata": {},
   "source": [
    "# stop vs other categories:\n",
    "t = 1\n",
    "for i in cat:\n",
    "    if i != 'stop' and i != 'city':\n",
    "        plt.subplot(4,4,t)\n",
    "        pd.crosstab(df['stop'], df[i]).plot(kind = 'bar')\n",
    "        plt.title(f'Distribution of {i} w.r.t. {'stop'}')\n",
    "        t += 1\n",
    "plt.tight_layout()\n",
    "plt.show()"
   ]
  },
  {
   "cell_type": "raw",
   "id": "c16ff613-7740-4985-9fd5-ab88cbd0a79a",
   "metadata": {},
   "source": [
    "# arr_time vs other categories:\n",
    "\n",
    "t = 1\n",
    "for i in cat:\n",
    "    if i != 'arr_time' and i != 'city':\n",
    "        plt.subplot(4,4,t)\n",
    "        pd.crosstab(df['arr_time'], df[i]).plot(kind = 'bar')\n",
    "        plt.title(f'Distribution of {i} w.r.t. {'arr_time'}')\n",
    "        t += 1\n",
    "plt.tight_layout()\n",
    "plt.show()"
   ]
  },
  {
   "cell_type": "raw",
   "id": "415d664b-3859-4c2f-97b2-83f5ff76e1f6",
   "metadata": {},
   "source": [
    "# destination_city vs other categories:\n",
    "\n",
    "t = 1\n",
    "for i in cat:\n",
    "    if i != 'destination_city' and i != 'city':\n",
    "        plt.subplot(4,4,t)\n",
    "        pd.crosstab(df['destination_city'], df[i]).plot(kind = 'bar')\n",
    "        plt.title(f'Distribution of {i} w.r.t. {'destination_city'}')\n",
    "        t += 1\n",
    "plt.tight_layout()\n",
    "plt.show()"
   ]
  },
  {
   "cell_type": "raw",
   "id": "e39a5cd6-c5d4-44b2-bde5-0f2d663e36e0",
   "metadata": {},
   "source": [
    "# day_of_week vs other categories:\n",
    "t = 1\n",
    "for i in cat:\n",
    "    if i != 'day_of_week' and i != 'city':\n",
    "        plt.subplot(4,4,t)\n",
    "        pd.crosstab(df['day_of_week'], df[i]).plot(kind = 'bar')\n",
    "        plt.title(f'Distribution of {i} w.r.t. {'day_of_week'}')\n",
    "        t += 1\n",
    "plt.tight_layout()\n",
    "plt.show()"
   ]
  },
  {
   "cell_type": "raw",
   "id": "f2f7919c-9a97-48ae-b977-54d031b9c05e",
   "metadata": {},
   "source": [
    "# class vs other categories:\n",
    "t = 1\n",
    "for i in cat:\n",
    "    if i != 'day_of_week' and i != 'city':\n",
    "        plt.subplot(4,4,t)\n",
    "        pd.crosstab(df['class'], df[i]).plot(kind = 'bar')\n",
    "        plt.title(f'Distribution of {i} w.r.t. {'class'}')\n",
    "        t += 1\n",
    "plt.tight_layout()\n",
    "plt.show()"
   ]
  },
  {
   "cell_type": "markdown",
   "id": "bc22c1ae-86be-437f-86f1-8331e619aad3",
   "metadata": {},
   "source": [
    "#### Cat vs num:"
   ]
  },
  {
   "cell_type": "code",
   "execution_count": 78,
   "id": "8fb2fc6a-cb30-488b-bd37-47ab40f51de9",
   "metadata": {},
   "outputs": [
    {
     "data": {
      "text/plain": [
       "['num_code', 'time_taken', 'price']"
      ]
     },
     "execution_count": 78,
     "metadata": {},
     "output_type": "execute_result"
    }
   ],
   "source": [
    "num"
   ]
  },
  {
   "cell_type": "raw",
   "id": "b6de1dc9-05ef-43cf-8418-0c572d6ba27a",
   "metadata": {},
   "source": [
    "# time taken vs categorical columns\n",
    "plt.figure(figsize=[15,15])\n",
    "t = 1\n",
    "for i in cat:\n",
    "    if i != 'city':\n",
    "        plt.subplot(4,4,t)\n",
    "        sns.barplot(x = df[i], y = df['time_taken'])\n",
    "        plt.title(f'Avg time taken w.r.t. {i}')\n",
    "        plt.xticks(rotation = 45)\n",
    "        t += 1\n",
    "plt.tight_layout()\n",
    "plt.show()"
   ]
  },
  {
   "cell_type": "raw",
   "id": "8a332e42-89a4-4b98-b036-f844abe36f5e",
   "metadata": {},
   "source": [
    "# price vs categorical columns\n",
    "plt.figure(figsize=[15,15])\n",
    "t = 1\n",
    "for i in cat:\n",
    "    if i != 'city':\n",
    "        plt.subplot(4,4,t)\n",
    "        sns.barplot(x = df[i], y = df['price'])\n",
    "        plt.title(f'Avg price w.r.t. {i}')\n",
    "        plt.xticks(rotation = 45)\n",
    "        t += 1\n",
    "plt.tight_layout()\n",
    "plt.show()"
   ]
  },
  {
   "cell_type": "markdown",
   "id": "7079f9c1-90b6-447d-9cb8-31f32672ebe2",
   "metadata": {},
   "source": [
    "### Multi variate analysis:"
   ]
  },
  {
   "cell_type": "markdown",
   "id": "73b13c07-a7c6-4627-bf47-88128639e97b",
   "metadata": {},
   "source": [
    "##### num vs num vs cat:"
   ]
  },
  {
   "cell_type": "raw",
   "id": "89586e22-4c4a-4381-b53e-e7dac29ba93c",
   "metadata": {
    "scrolled": true
   },
   "source": [
    "# price vs time_taken vs airline\"\n",
    "g = sns.FacetGrid(df, col='airline')\n",
    "g.map(sns.scatterplot, 'price', 'time_taken')\n",
    "plt.show()"
   ]
  },
  {
   "cell_type": "raw",
   "id": "d1faba3a-5611-4b8e-9d45-3eb61f63839f",
   "metadata": {},
   "source": [
    "# price vs time_taken vs dep_time\"\n",
    "g = sns.FacetGrid(df, col='dep_time')\n",
    "g.map(sns.scatterplot, 'price', 'time_taken')\n",
    "plt.show()"
   ]
  },
  {
   "cell_type": "raw",
   "id": "5fac5311-76a5-4ff1-90a7-e4ace9fbe88b",
   "metadata": {},
   "source": [
    "# price vs time_taken vs departure_city\"\n",
    "g = sns.FacetGrid(df, col='departure_city')\n",
    "g.map(sns.scatterplot, 'price', 'time_taken')\n",
    "plt.show()"
   ]
  },
  {
   "cell_type": "raw",
   "id": "fe1c8212-d492-45cc-941c-425db2b26c24",
   "metadata": {},
   "source": [
    "# price vs time_taken vs stop\"\n",
    "g = sns.FacetGrid(df, col='stop')\n",
    "g.map(sns.scatterplot, 'price', 'time_taken')\n",
    "plt.show()"
   ]
  },
  {
   "cell_type": "raw",
   "id": "7f1b7d8f-250c-454b-a2b8-d6ea1771386f",
   "metadata": {},
   "source": [
    "# price vs time_taken vs arr_time\"\n",
    "g = sns.FacetGrid(df, col='arr_time')\n",
    "g.map(sns.scatterplot, 'price', 'time_taken')\n",
    "plt.show()"
   ]
  },
  {
   "cell_type": "raw",
   "id": "4964a556-0ede-4963-8baf-61837b4bac66",
   "metadata": {},
   "source": [
    "# price vs time_taken vs destination_city\"\n",
    "g = sns.FacetGrid(df, col='destination_city')\n",
    "g.map(sns.scatterplot, 'price', 'time_taken')\n",
    "plt.show()"
   ]
  },
  {
   "cell_type": "raw",
   "id": "f5216af6-ccf8-4e19-b6d8-05071f6ebb86",
   "metadata": {},
   "source": [
    "\n",
    "# price vs time_taken vs day_of_week\"\n",
    "g = sns.FacetGrid(df, col='day_of_week')\n",
    "g.map(sns.scatterplot, 'price', 'time_taken')\n",
    "plt.show()"
   ]
  },
  {
   "cell_type": "raw",
   "id": "9a8a1e4b-673d-46bd-a8f3-386101f3b830",
   "metadata": {},
   "source": [
    "# price vs time_taken vs class\"\n",
    "g = sns.FacetGrid(df, col='class')\n",
    "g.map(sns.scatterplot, 'price', 'time_taken')\n",
    "plt.show()"
   ]
  },
  {
   "cell_type": "markdown",
   "id": "50f5774f-56b3-4685-b469-e9559b7c7f18",
   "metadata": {},
   "source": [
    "##### Cat vs cat vs num:"
   ]
  },
  {
   "cell_type": "raw",
   "id": "5b16e595-3839-4253-83a6-bce2e187eb08",
   "metadata": {},
   "source": [
    "sns.boxenplot(x = df['airline'], y = df['price'], hue = df['stop'])\n",
    "plt.show()"
   ]
  },
  {
   "cell_type": "raw",
   "id": "f5938383-5adb-406a-a828-4362bc31d3c4",
   "metadata": {},
   "source": [
    "sns.boxplot(x = df['airline'], y = df['price'], hue = df['departure_city'])\n",
    "plt.show()"
   ]
  },
  {
   "cell_type": "markdown",
   "id": "a12323ee-3cbd-4e6a-9ea2-05fdc7ba138b",
   "metadata": {},
   "source": [
    "### Encoding:"
   ]
  },
  {
   "cell_type": "code",
   "execution_count": 83,
   "id": "5f2bdbf2-83e0-40d9-860a-eb5d5e36e493",
   "metadata": {},
   "outputs": [],
   "source": [
    "df_temp = df"
   ]
  },
  {
   "cell_type": "code",
   "execution_count": 84,
   "id": "b7fb74f1-6015-4f15-b6ee-65780dbaa473",
   "metadata": {},
   "outputs": [],
   "source": [
    "from sklearn.preprocessing import OrdinalEncoder"
   ]
  },
  {
   "cell_type": "code",
   "execution_count": 85,
   "id": "ce835aea-93fe-4785-9279-d6d63a82566b",
   "metadata": {},
   "outputs": [
    {
     "data": {
      "text/plain": [
       "array(['no_stop', 'one_stop', '2+_stops'], dtype=object)"
      ]
     },
     "execution_count": 85,
     "metadata": {},
     "output_type": "execute_result"
    }
   ],
   "source": [
    "df['stop'].unique()"
   ]
  },
  {
   "cell_type": "code",
   "execution_count": 86,
   "id": "f8bf1bbb-3421-4ed1-ac69-b74e232c5477",
   "metadata": {},
   "outputs": [],
   "source": [
    "categories = [['no_stop', 'one_stop', '2+_stops']]\n",
    "o = OrdinalEncoder(categories=categories, dtype = int)"
   ]
  },
  {
   "cell_type": "code",
   "execution_count": 87,
   "id": "3820d423-12fc-4570-9bcd-20a5c519ff5d",
   "metadata": {},
   "outputs": [],
   "source": [
    "df_temp['stop'] = o.fit_transform(df_temp[['stop']])"
   ]
  },
  {
   "cell_type": "code",
   "execution_count": 88,
   "id": "f013b798-f21e-414d-956e-55c4216a0f19",
   "metadata": {},
   "outputs": [
    {
     "data": {
      "text/plain": [
       "array([0, 1, 2])"
      ]
     },
     "execution_count": 88,
     "metadata": {},
     "output_type": "execute_result"
    }
   ],
   "source": [
    "df_temp['stop'].unique()"
   ]
  },
  {
   "cell_type": "code",
   "execution_count": 89,
   "id": "f42581b7-1059-47b3-bfac-ccac840b80fa",
   "metadata": {},
   "outputs": [],
   "source": [
    "df_temp.drop('city', axis = 1, inplace = True)\n",
    "df_temp.drop('ch_code', axis = 1, inplace = True)"
   ]
  },
  {
   "cell_type": "code",
   "execution_count": 90,
   "id": "856b6f5c-86f5-453a-b987-e0c4ffb36841",
   "metadata": {},
   "outputs": [],
   "source": [
    "df_encoded = pd.get_dummies(df_temp, dtype='int', drop_first=True)"
   ]
  },
  {
   "cell_type": "code",
   "execution_count": 91,
   "id": "4dfb9e46-a466-4d9e-975a-1deb25733c57",
   "metadata": {},
   "outputs": [
    {
     "data": {
      "text/html": [
       "<div>\n",
       "<style scoped>\n",
       "    .dataframe tbody tr th:only-of-type {\n",
       "        vertical-align: middle;\n",
       "    }\n",
       "\n",
       "    .dataframe tbody tr th {\n",
       "        vertical-align: top;\n",
       "    }\n",
       "\n",
       "    .dataframe thead th {\n",
       "        text-align: right;\n",
       "    }\n",
       "</style>\n",
       "<table border=\"1\" class=\"dataframe\">\n",
       "  <thead>\n",
       "    <tr style=\"text-align: right;\">\n",
       "      <th></th>\n",
       "      <th>date</th>\n",
       "      <th>num_code</th>\n",
       "      <th>time_taken</th>\n",
       "      <th>stop</th>\n",
       "      <th>price</th>\n",
       "      <th>airline_AirAsia</th>\n",
       "      <th>airline_GO FIRST</th>\n",
       "      <th>airline_Indigo</th>\n",
       "      <th>airline_SpiceJet</th>\n",
       "      <th>airline_StarAir</th>\n",
       "      <th>...</th>\n",
       "      <th>destination_city_Hyderabad</th>\n",
       "      <th>destination_city_Kolkata</th>\n",
       "      <th>destination_city_Mumbai</th>\n",
       "      <th>class_economy</th>\n",
       "      <th>day_of_week_Monday</th>\n",
       "      <th>day_of_week_Saturday</th>\n",
       "      <th>day_of_week_Sunday</th>\n",
       "      <th>day_of_week_Thursday</th>\n",
       "      <th>day_of_week_Tuesday</th>\n",
       "      <th>day_of_week_Wednesday</th>\n",
       "    </tr>\n",
       "  </thead>\n",
       "  <tbody>\n",
       "    <tr>\n",
       "      <th>0</th>\n",
       "      <td>2022-02-11</td>\n",
       "      <td>8709</td>\n",
       "      <td>2.166667</td>\n",
       "      <td>0</td>\n",
       "      <td>5953.0</td>\n",
       "      <td>0</td>\n",
       "      <td>0</td>\n",
       "      <td>0</td>\n",
       "      <td>1</td>\n",
       "      <td>0</td>\n",
       "      <td>...</td>\n",
       "      <td>0</td>\n",
       "      <td>0</td>\n",
       "      <td>1</td>\n",
       "      <td>1</td>\n",
       "      <td>0</td>\n",
       "      <td>0</td>\n",
       "      <td>0</td>\n",
       "      <td>0</td>\n",
       "      <td>0</td>\n",
       "      <td>0</td>\n",
       "    </tr>\n",
       "    <tr>\n",
       "      <th>1</th>\n",
       "      <td>2022-02-11</td>\n",
       "      <td>8157</td>\n",
       "      <td>2.333333</td>\n",
       "      <td>0</td>\n",
       "      <td>5953.0</td>\n",
       "      <td>0</td>\n",
       "      <td>0</td>\n",
       "      <td>0</td>\n",
       "      <td>1</td>\n",
       "      <td>0</td>\n",
       "      <td>...</td>\n",
       "      <td>0</td>\n",
       "      <td>0</td>\n",
       "      <td>1</td>\n",
       "      <td>1</td>\n",
       "      <td>0</td>\n",
       "      <td>0</td>\n",
       "      <td>0</td>\n",
       "      <td>0</td>\n",
       "      <td>0</td>\n",
       "      <td>0</td>\n",
       "    </tr>\n",
       "    <tr>\n",
       "      <th>2</th>\n",
       "      <td>2022-02-11</td>\n",
       "      <td>764</td>\n",
       "      <td>2.166667</td>\n",
       "      <td>0</td>\n",
       "      <td>5956.0</td>\n",
       "      <td>1</td>\n",
       "      <td>0</td>\n",
       "      <td>0</td>\n",
       "      <td>0</td>\n",
       "      <td>0</td>\n",
       "      <td>...</td>\n",
       "      <td>0</td>\n",
       "      <td>0</td>\n",
       "      <td>1</td>\n",
       "      <td>1</td>\n",
       "      <td>0</td>\n",
       "      <td>0</td>\n",
       "      <td>0</td>\n",
       "      <td>0</td>\n",
       "      <td>0</td>\n",
       "      <td>0</td>\n",
       "    </tr>\n",
       "    <tr>\n",
       "      <th>3</th>\n",
       "      <td>2022-02-11</td>\n",
       "      <td>995</td>\n",
       "      <td>2.250000</td>\n",
       "      <td>0</td>\n",
       "      <td>5955.0</td>\n",
       "      <td>0</td>\n",
       "      <td>0</td>\n",
       "      <td>0</td>\n",
       "      <td>0</td>\n",
       "      <td>0</td>\n",
       "      <td>...</td>\n",
       "      <td>0</td>\n",
       "      <td>0</td>\n",
       "      <td>1</td>\n",
       "      <td>1</td>\n",
       "      <td>0</td>\n",
       "      <td>0</td>\n",
       "      <td>0</td>\n",
       "      <td>0</td>\n",
       "      <td>0</td>\n",
       "      <td>0</td>\n",
       "    </tr>\n",
       "    <tr>\n",
       "      <th>4</th>\n",
       "      <td>2022-02-11</td>\n",
       "      <td>963</td>\n",
       "      <td>2.333333</td>\n",
       "      <td>0</td>\n",
       "      <td>5955.0</td>\n",
       "      <td>0</td>\n",
       "      <td>0</td>\n",
       "      <td>0</td>\n",
       "      <td>0</td>\n",
       "      <td>0</td>\n",
       "      <td>...</td>\n",
       "      <td>0</td>\n",
       "      <td>0</td>\n",
       "      <td>1</td>\n",
       "      <td>1</td>\n",
       "      <td>0</td>\n",
       "      <td>0</td>\n",
       "      <td>0</td>\n",
       "      <td>0</td>\n",
       "      <td>0</td>\n",
       "      <td>0</td>\n",
       "    </tr>\n",
       "  </tbody>\n",
       "</table>\n",
       "<p>5 rows × 39 columns</p>\n",
       "</div>"
      ],
      "text/plain": [
       "        date  num_code  time_taken  stop   price  airline_AirAsia  \\\n",
       "0 2022-02-11      8709    2.166667     0  5953.0                0   \n",
       "1 2022-02-11      8157    2.333333     0  5953.0                0   \n",
       "2 2022-02-11       764    2.166667     0  5956.0                1   \n",
       "3 2022-02-11       995    2.250000     0  5955.0                0   \n",
       "4 2022-02-11       963    2.333333     0  5955.0                0   \n",
       "\n",
       "   airline_GO FIRST  airline_Indigo  airline_SpiceJet  airline_StarAir  ...  \\\n",
       "0                 0               0                 1                0  ...   \n",
       "1                 0               0                 1                0  ...   \n",
       "2                 0               0                 0                0  ...   \n",
       "3                 0               0                 0                0  ...   \n",
       "4                 0               0                 0                0  ...   \n",
       "\n",
       "   destination_city_Hyderabad  destination_city_Kolkata  \\\n",
       "0                           0                         0   \n",
       "1                           0                         0   \n",
       "2                           0                         0   \n",
       "3                           0                         0   \n",
       "4                           0                         0   \n",
       "\n",
       "   destination_city_Mumbai  class_economy  day_of_week_Monday  \\\n",
       "0                        1              1                   0   \n",
       "1                        1              1                   0   \n",
       "2                        1              1                   0   \n",
       "3                        1              1                   0   \n",
       "4                        1              1                   0   \n",
       "\n",
       "   day_of_week_Saturday  day_of_week_Sunday  day_of_week_Thursday  \\\n",
       "0                     0                   0                     0   \n",
       "1                     0                   0                     0   \n",
       "2                     0                   0                     0   \n",
       "3                     0                   0                     0   \n",
       "4                     0                   0                     0   \n",
       "\n",
       "   day_of_week_Tuesday  day_of_week_Wednesday  \n",
       "0                    0                      0  \n",
       "1                    0                      0  \n",
       "2                    0                      0  \n",
       "3                    0                      0  \n",
       "4                    0                      0  \n",
       "\n",
       "[5 rows x 39 columns]"
      ]
     },
     "execution_count": 91,
     "metadata": {},
     "output_type": "execute_result"
    }
   ],
   "source": [
    "df_encoded.head()"
   ]
  },
  {
   "cell_type": "markdown",
   "id": "5f7a74aa-5eab-4838-be0c-518c1bd657db",
   "metadata": {},
   "source": [
    "### Transformation:"
   ]
  },
  {
   "cell_type": "code",
   "execution_count": 93,
   "id": "aa63f4d0-6b1e-4d62-afa7-88a866841225",
   "metadata": {},
   "outputs": [
    {
     "name": "stdout",
     "output_type": "stream",
     "text": [
      "num_code\n",
      "2.816130569595276\n",
      "-----------\n",
      "time_taken\n",
      "0.6029784255685438\n",
      "-----------\n",
      "price\n",
      "1.0618818903392429\n",
      "-----------\n"
     ]
    }
   ],
   "source": [
    "for i in num:\n",
    "    print(i)\n",
    "    print(df_encoded[i].skew())\n",
    "    print('-----------')"
   ]
  },
  {
   "cell_type": "code",
   "execution_count": 94,
   "id": "9e86dc5b-2f10-47db-8740-0e8cfd746552",
   "metadata": {},
   "outputs": [],
   "source": [
    "from sklearn.preprocessing import PowerTransformer"
   ]
  },
  {
   "cell_type": "code",
   "execution_count": 95,
   "id": "165da0c2-2c24-47ac-ae18-47cc790ec20b",
   "metadata": {},
   "outputs": [
    {
     "data": {
      "text/plain": [
       "0.1131788008598758"
      ]
     },
     "execution_count": 95,
     "metadata": {},
     "output_type": "execute_result"
    }
   ],
   "source": [
    "p = PowerTransformer()\n",
    "df_encoded['price'] = p.fit_transform(df_encoded[['price']])\n",
    "df_encoded['price'].skew()"
   ]
  },
  {
   "cell_type": "code",
   "execution_count": 96,
   "id": "afcdef79-139e-48c2-a8a5-eddf3dda42be",
   "metadata": {},
   "outputs": [
    {
     "data": {
      "text/plain": [
       "-0.061477852802671706"
      ]
     },
     "execution_count": 96,
     "metadata": {},
     "output_type": "execute_result"
    }
   ],
   "source": [
    "df_encoded['time_taken'] = p.fit_transform(df_encoded[['time_taken']])\n",
    "df_encoded['time_taken'].skew()"
   ]
  },
  {
   "cell_type": "code",
   "execution_count": 97,
   "id": "5438c8ab-5507-4eda-ad86-ca76ab135206",
   "metadata": {},
   "outputs": [
    {
     "data": {
      "text/plain": [
       "<Axes: xlabel='price', ylabel='Density'>"
      ]
     },
     "execution_count": 97,
     "metadata": {},
     "output_type": "execute_result"
    },
    {
     "data": {
      "image/png": "[encoded data removed]",
      "text/plain": [
       "<Figure size 800x400 with 1 Axes>"
      ]
     },
     "metadata": {},
     "output_type": "display_data"
    }
   ],
   "source": [
    "plt.rcParams['figure.figsize'] = [8,4]\n",
    "sns.distplot(df['price'])"
   ]
  },
  {
   "cell_type": "code",
   "execution_count": 98,
   "id": "d7f94785-6620-4eef-ae9c-d5db8816165e",
   "metadata": {},
   "outputs": [
    {
     "data": {
      "text/plain": [
       "<Axes: xlabel='time_taken', ylabel='Density'>"
      ]
     },
     "execution_count": 98,
     "metadata": {},
     "output_type": "execute_result"
    },
    {
     "data": {
      "image/png": "[encoded data removed]",
      "text/plain": [
       "<Figure size 800x400 with 1 Axes>"
      ]
     },
     "metadata": {},
     "output_type": "display_data"
    }
   ],
   "source": [
    "plt.rcParams['figure.figsize'] = [8,4]\n",
    "sns.distplot(df['time_taken'])"
   ]
  },
  {
   "cell_type": "markdown",
   "id": "dbbc4c11-54fd-4bed-9d0e-c2c0d21c4824",
   "metadata": {},
   "source": [
    "## Model creation:"
   ]
  },
  {
   "cell_type": "code",
   "execution_count": 100,
   "id": "fc3118df-a719-4dea-8eef-4f213d74d848",
   "metadata": {},
   "outputs": [],
   "source": [
    "from sklearn.linear_model import LinearRegression\n",
    "from sklearn.model_selection import train_test_split\n",
    "from sklearn.metrics import r2_score, accuracy_score, classification_report, f1_score,mean_absolute_percentage_error, root_mean_squared_error\n",
    "from sklearn.metrics import roc_auc_score, mean_squared_error\n",
    "lr = LinearRegression()"
   ]
  },
  {
   "cell_type": "code",
   "execution_count": 101,
   "id": "27f4bb42-5525-4bed-be2b-45273d7c55cc",
   "metadata": {},
   "outputs": [
    {
     "name": "stdout",
     "output_type": "stream",
     "text": [
      "Training r2 score: 0.8398510363169323\n",
      "Testing r2 score: 0.838320343532968\n",
      "Train MAPE: 2.9968226517233902\n",
      "Test MAPE: 2.867261290131981\n"
     ]
    }
   ],
   "source": [
    "X = df_encoded.drop(['price', 'date'], axis = 1)\n",
    "y = df_encoded['price']\n",
    "xtrain, xtest, ytrain, ytest = train_test_split(X, y, test_size=0.30, random_state=10)\n",
    "model = lr.fit(xtrain, ytrain)\n",
    "ypred_train = model.predict(xtrain)\n",
    "ypred_test = model.predict(xtest)\n",
    "print(f'Training r2 score: {r2_score(ytrain, ypred_train)}')\n",
    "print(f'Testing r2 score: {r2_score(ytest, ypred_test)}')\n",
    "print(f'Train MAPE: {mean_absolute_percentage_error(ytrain, ypred_train)}')\n",
    "print(f'Test MAPE: {mean_absolute_percentage_error(ytest, ypred_test)}')"
   ]
  },
  {
   "cell_type": "raw",
   "id": "0d2e2237-23de-4027-9b6f-d6e23cf11166",
   "metadata": {},
   "source": [
    "from sklearn.ensemble import RandomForestRegressor\n",
    "rf = RandomForestRegressor()\n",
    "model_rf = rf.fit(xtrain, ytrain)\n",
    "ypred_train = model_rf.predict(xtrain)\n",
    "ypred_test = model_rf.predict(xtest)\n",
    "print(f'Training accuracy: {r2_score(ytrain, ypred_train)}')\n",
    "print(f'Testing accuracy: {r2_score(ytest, ypred_test)}')\n",
    "print(f'Train MAPE: {mean_absolute_percentage_error(ytrain, ypred_train)}')\n",
    "print(f'Test MAPE: {mean_absolute_percentage_error(ytest, ypred_test)}')"
   ]
  },
  {
   "cell_type": "code",
   "execution_count": 102,
   "id": "521e59c9-2183-4854-aa57-fe7a4c59acb8",
   "metadata": {},
   "outputs": [
    {
     "name": "stdout",
     "output_type": "stream",
     "text": [
      "Training r2 score: 0.056492604425080195\n",
      "Testing r2 score: 0.055654935120165616\n",
      "Train MAPE: 1.7067036091708805\n",
      "Test MAPE: 1.6984338570764372\n"
     ]
    }
   ],
   "source": [
    "from sklearn.linear_model import Lasso, Ridge, ElasticNet\n",
    "lasso = Lasso()\n",
    "model_lasso = lasso.fit(xtrain, ytrain)\n",
    "ypred_train = model_lasso.predict(xtrain)\n",
    "ypred_test = model_lasso.predict(xtest)\n",
    "print(f'Training r2 score: {r2_score(ytrain, ypred_train)}')\n",
    "print(f'Testing r2 score: {r2_score(ytest, ypred_test)}')\n",
    "print(f'Train MAPE: {mean_absolute_percentage_error(ytrain, ypred_train)}')\n",
    "print(f'Test MAPE: {mean_absolute_percentage_error(ytest, ypred_test)}')"
   ]
  },
  {
   "cell_type": "code",
   "execution_count": 103,
   "id": "72ba19f7-041d-4af8-a02f-dd6989ba2caa",
   "metadata": {},
   "outputs": [
    {
     "name": "stdout",
     "output_type": "stream",
     "text": [
      "Training r2 score: 0.8398509657388528\n",
      "Testing r2 score: 0.8383207213861471\n",
      "Train MAPE: 2.996764771433769\n",
      "Test MAPE: 2.8672226280366973\n"
     ]
    }
   ],
   "source": [
    "ridge = Ridge()\n",
    "model_ridge = ridge.fit(xtrain, ytrain)\n",
    "ypred_train = model_ridge.predict(xtrain)\n",
    "ypred_test = model_ridge.predict(xtest)\n",
    "print(f'Training r2 score: {r2_score(ytrain, ypred_train)}')\n",
    "print(f'Testing r2 score: {r2_score(ytest, ypred_test)}')\n",
    "print(f'Train MAPE: {mean_absolute_percentage_error(ytrain, ypred_train)}')\n",
    "print(f'Test MAPE: {mean_absolute_percentage_error(ytest, ypred_test)}')"
   ]
  },
  {
   "cell_type": "code",
   "execution_count": 104,
   "id": "0a75b307-ffc0-4bfd-8f5b-b7aec6fd5e81",
   "metadata": {},
   "outputs": [
    {
     "name": "stdout",
     "output_type": "stream",
     "text": [
      "Training r2 score: 0.05649279599142176\n",
      "Testing r2 score: 0.05565530962257459\n",
      "Train MAPE: 1.7075732687374512\n",
      "Test MAPE: 1.6992923251692031\n"
     ]
    }
   ],
   "source": [
    "en = ElasticNet()\n",
    "model_en = en.fit(xtrain, ytrain)\n",
    "ypred_train = model_en.predict(xtrain)\n",
    "ypred_test = model_en.predict(xtest)\n",
    "print(f'Training r2 score: {r2_score(ytrain, ypred_train)}')\n",
    "print(f'Testing r2 score: {r2_score(ytest, ypred_test)}')\n",
    "print(f'Train MAPE: {mean_absolute_percentage_error(ytrain, ypred_train)}')\n",
    "print(f'Test MAPE: {mean_absolute_percentage_error(ytest, ypred_test)}')"
   ]
  },
  {
   "cell_type": "code",
   "execution_count": null,
   "id": "87fb20ca-2d72-4a4c-8ef3-537cb8379a8d",
   "metadata": {},
   "outputs": [],
   "source": []
  },
  {
   "cell_type": "markdown",
   "id": "f9323bd8-7cd5-4f26-81e9-01693330bd26",
   "metadata": {},
   "source": [
    "#### EDA:"
   ]
  },
  {
   "cell_type": "code",
   "execution_count": 181,
   "id": "e9bcd1cf-8491-445c-8a8c-73d82d2442c4",
   "metadata": {},
   "outputs": [
    {
     "data": {
      "text/html": [
       "<div>\n",
       "<style scoped>\n",
       "    .dataframe tbody tr th:only-of-type {\n",
       "        vertical-align: middle;\n",
       "    }\n",
       "\n",
       "    .dataframe tbody tr th {\n",
       "        vertical-align: top;\n",
       "    }\n",
       "\n",
       "    .dataframe thead th {\n",
       "        text-align: right;\n",
       "    }\n",
       "</style>\n",
       "<table border=\"1\" class=\"dataframe\">\n",
       "  <thead>\n",
       "    <tr style=\"text-align: right;\">\n",
       "      <th></th>\n",
       "      <th>date</th>\n",
       "      <th>airline</th>\n",
       "      <th>ch_code</th>\n",
       "      <th>num_code</th>\n",
       "      <th>dep_time</th>\n",
       "      <th>from</th>\n",
       "      <th>time_taken</th>\n",
       "      <th>stop</th>\n",
       "      <th>arr_time</th>\n",
       "      <th>to</th>\n",
       "      <th>price</th>\n",
       "      <th>class</th>\n",
       "    </tr>\n",
       "  </thead>\n",
       "  <tbody>\n",
       "    <tr>\n",
       "      <th>0</th>\n",
       "      <td>11-02-2022</td>\n",
       "      <td>Air India</td>\n",
       "      <td>AI</td>\n",
       "      <td>868</td>\n",
       "      <td>18:00</td>\n",
       "      <td>Delhi</td>\n",
       "      <td>02h 00m</td>\n",
       "      <td>non-stop</td>\n",
       "      <td>20:00</td>\n",
       "      <td>Mumbai</td>\n",
       "      <td>25,612</td>\n",
       "      <td>business</td>\n",
       "    </tr>\n",
       "    <tr>\n",
       "      <th>1</th>\n",
       "      <td>11-02-2022</td>\n",
       "      <td>Air India</td>\n",
       "      <td>AI</td>\n",
       "      <td>624</td>\n",
       "      <td>19:00</td>\n",
       "      <td>Delhi</td>\n",
       "      <td>02h 15m</td>\n",
       "      <td>non-stop</td>\n",
       "      <td>21:15</td>\n",
       "      <td>Mumbai</td>\n",
       "      <td>25,612</td>\n",
       "      <td>business</td>\n",
       "    </tr>\n",
       "  </tbody>\n",
       "</table>\n",
       "</div>"
      ],
      "text/plain": [
       "         date    airline ch_code  num_code dep_time   from time_taken  \\\n",
       "0  11-02-2022  Air India      AI       868    18:00  Delhi    02h 00m   \n",
       "1  11-02-2022  Air India      AI       624    19:00  Delhi    02h 15m   \n",
       "\n",
       "        stop arr_time      to   price     class  \n",
       "0  non-stop     20:00  Mumbai  25,612  business  \n",
       "1  non-stop     21:15  Mumbai  25,612  business  "
      ]
     },
     "execution_count": 181,
     "metadata": {},
     "output_type": "execute_result"
    }
   ],
   "source": [
    "df_bus = pd.read_csv('business.csv')\n",
    "df_eco = pd.read_csv('economy.csv')\n",
    "df_bus['class'] = 'business'\n",
    "df_eco['class'] = 'economy'\n",
    "\n",
    "df_raw = pd.concat([df_bus, df_eco], ignore_index=True)\n",
    "df_raw.head(2)"
   ]
  },
  {
   "cell_type": "code",
   "execution_count": 183,
   "id": "c650d58a-cc5e-42f7-9e61-b2397f3cea6d",
   "metadata": {},
   "outputs": [
    {
     "name": "stdout",
     "output_type": "stream",
     "text": [
      "['non-stop ' 'one_stop' '2+-stop']\n",
      "['no_stop' 'one_stop' '2+_stop']\n"
     ]
    }
   ],
   "source": [
    "df_raw = df_raw.drop_duplicates()\n",
    "\n",
    "df_raw['stop'] = df_raw['stop'].str.replace(r'1-stop[\\s\\S]*', 'one_stop', regex=True)\n",
    "print(df_raw['stop'].unique())\n",
    "\n",
    "df_raw.replace({'non-stop ': 'no_stop', '1-stop':'one_stop', '2+-stop': '2+_stop'}, inplace = True)\n",
    "\n",
    "print(df_raw['stop'].unique())\n",
    "\n",
    "df_raw['date'] = pd.to_datetime(df_raw['date'], format='%d-%m-%Y')\n",
    "df_raw['day_of_week'] = df_raw['date'].dt.day_name()\n",
    "df_raw['date'] = df_raw['date'].dt.day\n",
    "\n",
    "df_raw['price'] = df_raw['price'].str.replace(',','').astype('float')\n",
    "\n",
    "df_raw['arr_time'] = df_raw['arr_time'].str.replace(':','.').astype('float')\n",
    "df_raw['dep_time'] = df_raw['dep_time'].str.replace(':','.').astype('float')\n",
    "\n",
    "df_raw = df_raw.drop('ch_code', axis = 1)"
   ]
  },
  {
   "cell_type": "code",
   "execution_count": 185,
   "id": "751cac6b-de04-4c22-b45d-1cad34e85540",
   "metadata": {},
   "outputs": [
    {
     "name": "stdout",
     "output_type": "stream",
     "text": [
      "count    300259.000000\n",
      "mean         12.217706\n",
      "std           7.192924\n",
      "min           0.833333\n",
      "25%           6.750000\n",
      "50%          11.250000\n",
      "75%          16.166667\n",
      "max          49.833333\n",
      "Name: time_taken, dtype: float64\n"
     ]
    }
   ],
   "source": [
    "import re\n",
    "\n",
    "# Enhanced function to handle variations in 'time_taken' formats\n",
    "def convert_to_minutes_enhanced(time_str):\n",
    "    if pd.isnull(time_str):\n",
    "        return None\n",
    "    # Extract hours and minutes using regex\n",
    "    match = re.match(r\"(?:(\\d+)\\.?(\\d*)h)?\\s*(?:(\\d+)m)?\", time_str.strip())\n",
    "    if match:\n",
    "        hours = int(match.group(1)) if match.group(1) else 0\n",
    "        minutes = int(match.group(3)) if match.group(3) else 0\n",
    "        return hours * 60 + minutes\n",
    "    return None\n",
    "\n",
    "# Apply the enhanced function to clean and convert the 'time_taken' data\n",
    "df_raw['time_taken'] = df_raw['time_taken'].apply(convert_to_minutes_enhanced)\n",
    "df_raw['time_taken'] = df_raw['time_taken']/60\n",
    "\n",
    "# Basic statistics\n",
    "print(df_raw['time_taken'].describe())"
   ]
  },
  {
   "cell_type": "code",
   "execution_count": 187,
   "id": "699a9d8b-6ca4-44c7-bf48-6b8c7b77d532",
   "metadata": {},
   "outputs": [
    {
     "data": {
      "text/html": [
       "<div>\n",
       "<style scoped>\n",
       "    .dataframe tbody tr th:only-of-type {\n",
       "        vertical-align: middle;\n",
       "    }\n",
       "\n",
       "    .dataframe tbody tr th {\n",
       "        vertical-align: top;\n",
       "    }\n",
       "\n",
       "    .dataframe thead th {\n",
       "        text-align: right;\n",
       "    }\n",
       "</style>\n",
       "<table border=\"1\" class=\"dataframe\">\n",
       "  <thead>\n",
       "    <tr style=\"text-align: right;\">\n",
       "      <th></th>\n",
       "      <th>date</th>\n",
       "      <th>airline</th>\n",
       "      <th>num_code</th>\n",
       "      <th>dep_time</th>\n",
       "      <th>from</th>\n",
       "      <th>time_taken</th>\n",
       "      <th>stop</th>\n",
       "      <th>arr_time</th>\n",
       "      <th>to</th>\n",
       "      <th>price</th>\n",
       "      <th>class</th>\n",
       "      <th>day_of_week</th>\n",
       "    </tr>\n",
       "  </thead>\n",
       "  <tbody>\n",
       "    <tr>\n",
       "      <th>0</th>\n",
       "      <td>11</td>\n",
       "      <td>Air India</td>\n",
       "      <td>868</td>\n",
       "      <td>18.0</td>\n",
       "      <td>Delhi</td>\n",
       "      <td>2.00</td>\n",
       "      <td>no_stop</td>\n",
       "      <td>20.00</td>\n",
       "      <td>Mumbai</td>\n",
       "      <td>25612.0</td>\n",
       "      <td>business</td>\n",
       "      <td>Friday</td>\n",
       "    </tr>\n",
       "    <tr>\n",
       "      <th>1</th>\n",
       "      <td>11</td>\n",
       "      <td>Air India</td>\n",
       "      <td>624</td>\n",
       "      <td>19.0</td>\n",
       "      <td>Delhi</td>\n",
       "      <td>2.25</td>\n",
       "      <td>no_stop</td>\n",
       "      <td>21.15</td>\n",
       "      <td>Mumbai</td>\n",
       "      <td>25612.0</td>\n",
       "      <td>business</td>\n",
       "      <td>Friday</td>\n",
       "    </tr>\n",
       "  </tbody>\n",
       "</table>\n",
       "</div>"
      ],
      "text/plain": [
       "   date    airline  num_code  dep_time   from  time_taken     stop  arr_time  \\\n",
       "0    11  Air India       868      18.0  Delhi        2.00  no_stop     20.00   \n",
       "1    11  Air India       624      19.0  Delhi        2.25  no_stop     21.15   \n",
       "\n",
       "       to    price     class day_of_week  \n",
       "0  Mumbai  25612.0  business      Friday  \n",
       "1  Mumbai  25612.0  business      Friday  "
      ]
     },
     "execution_count": 187,
     "metadata": {},
     "output_type": "execute_result"
    }
   ],
   "source": [
    "df_raw.head(2)"
   ]
  },
  {
   "cell_type": "code",
   "execution_count": 189,
   "id": "368b17c7-016e-4a41-842c-187ea42d0a64",
   "metadata": {},
   "outputs": [
    {
     "name": "stdout",
     "output_type": "stream",
     "text": [
      "<class 'pandas.core.frame.DataFrame'>\n",
      "Index: 300259 entries, 0 to 300260\n",
      "Data columns (total 12 columns):\n",
      " #   Column       Non-Null Count   Dtype  \n",
      "---  ------       --------------   -----  \n",
      " 0   date         300259 non-null  int32  \n",
      " 1   airline      300259 non-null  object \n",
      " 2   num_code     300259 non-null  int64  \n",
      " 3   dep_time     300259 non-null  float64\n",
      " 4   from         300259 non-null  object \n",
      " 5   time_taken   300259 non-null  float64\n",
      " 6   stop         300259 non-null  object \n",
      " 7   arr_time     300259 non-null  float64\n",
      " 8   to           300259 non-null  object \n",
      " 9   price        300259 non-null  float64\n",
      " 10  class        300259 non-null  object \n",
      " 11  day_of_week  300259 non-null  object \n",
      "dtypes: float64(4), int32(1), int64(1), object(6)\n",
      "memory usage: 28.6+ MB\n"
     ]
    }
   ],
   "source": [
    "df_raw.info()"
   ]
  },
  {
   "cell_type": "code",
   "execution_count": null,
   "id": "d13b56e8-1afe-4fd5-8c2d-1ae6c2afc41b",
   "metadata": {},
   "outputs": [],
   "source": [
    "## HYPOTHESIS TESTING"
   ]
  },
  {
   "cell_type": "code",
   "execution_count": 217,
   "id": "b31c341e-6ceb-414d-a018-37db7edf9c02",
   "metadata": {},
   "outputs": [
    {
     "name": "stdout",
     "output_type": "stream",
     "text": [
      "Shapiro-Wilk Test for price: Statistic=0.7518186588138229, p-value=5.265124285847029e-164\n",
      "Reject H₀: price is NOT normally distributed.\n",
      "\n",
      "Shapiro-Wilk Test for time_taken: Statistic=0.9550948797969799, p-value=1.1243956952036425e-111\n",
      "Reject H₀: time_taken is NOT normally distributed.\n",
      "\n",
      "Shapiro-Wilk Test for dep_time: Statistic=0.9371630476416436, p-value=3.7069653313571013e-121\n",
      "Reject H₀: dep_time is NOT normally distributed.\n",
      "\n",
      "Shapiro-Wilk Test for arr_time: Statistic=0.9259262835088569, p-value=6.068415333422877e-126\n",
      "Reject H₀: arr_time is NOT normally distributed.\n",
      "\n"
     ]
    }
   ],
   "source": [
    "from scipy.stats import shapiro\n",
    "\n",
    "for col in ['price', 'time_taken', 'dep_time', 'arr_time']:\n",
    "    stat, p_value = shapiro(df_raw[col].dropna())\n",
    "    print(f\"Shapiro-Wilk Test for {col}: Statistic={stat}, p-value={p_value}\")\n",
    "    if p_value < 0.05:\n",
    "        print(f\"Reject H₀: {col} is NOT normally distributed.\\n\")\n",
    "    else:\n",
    "        print(f\"Fail to reject H₀: {col} appears to be normally distributed.\\n\")\n"
   ]
  },
  {
   "cell_type": "code",
   "execution_count": 199,
   "id": "b9fc642a-bd89-465e-aa73-42efa943c65e",
   "metadata": {},
   "outputs": [
    {
     "name": "stdout",
     "output_type": "stream",
     "text": [
      "T-Test: t-statistic = 1065.9911653611382, p-value = 0.0\n",
      "Reject the null hypothesis: There is a significant difference in price between business and economy class.\n"
     ]
    }
   ],
   "source": [
    "from scipy import stats\n",
    "\n",
    "# Separate the prices of business and economy class\n",
    "business_prices = df_raw[df_raw['class'] == 'business']['price']\n",
    "economy_prices = df_raw[df_raw['class'] == 'economy']['price']\n",
    "\n",
    "# Perform an independent t-test\n",
    "t_stat, p_value = stats.ttest_ind(business_prices, economy_prices, equal_var=False)\n",
    "\n",
    "# Display results\n",
    "print(f\"T-Test: t-statistic = {t_stat}, p-value = {p_value}\")\n",
    "\n",
    "# Interpretation\n",
    "alpha = 0.05  # Significance level\n",
    "if p_value < alpha:\n",
    "    print(\"Reject the null hypothesis: There is a significant difference in price between business and economy class.\")\n",
    "else:\n",
    "    print(\"Fail to reject the null hypothesis: No significant difference in price between business and economy class.\")\n"
   ]
  },
  {
   "cell_type": "code",
   "execution_count": 201,
   "id": "d70c427e-3cfa-4459-8df3-68fcc1e7f566",
   "metadata": {},
   "outputs": [
    {
     "name": "stdout",
     "output_type": "stream",
     "text": [
      "Shapiro-Wilk Test (Business): p-value = 0.14419394583919493\n",
      "Shapiro-Wilk Test (Economy): p-value = 0.0005620523275065777\n",
      "At least one group is not normally distributed. Consider using a non-parametric test (Mann-Whitney U Test).\n"
     ]
    }
   ],
   "source": [
    "# Shapiro-Wilk test for normality\n",
    "shapiro_business = stats.shapiro(business_prices.sample(30, random_state=1))  # Sample to avoid large-size errors\n",
    "shapiro_economy = stats.shapiro(economy_prices.sample(30, random_state=1))\n",
    "\n",
    "print(f\"Shapiro-Wilk Test (Business): p-value = {shapiro_business.pvalue}\")\n",
    "print(f\"Shapiro-Wilk Test (Economy): p-value = {shapiro_economy.pvalue}\")\n",
    "\n",
    "# Interpretation\n",
    "if shapiro_business.pvalue < 0.05 or shapiro_economy.pvalue < 0.05:\n",
    "    print(\"At least one group is not normally distributed. Consider using a non-parametric test (Mann-Whitney U Test).\")\n",
    "else:\n",
    "    print(\"Both groups are normally distributed.\")\n"
   ]
  },
  {
   "cell_type": "code",
   "execution_count": 203,
   "id": "fdb3c8d1-e931-4de4-a527-5801d7363594",
   "metadata": {},
   "outputs": [
    {
     "name": "stdout",
     "output_type": "stream",
     "text": [
      "Mann-Whitney U Test: U-statistic = 19324259253.5, p-value = 0.0\n",
      "Reject the null hypothesis: There is a significant difference in price between business and economy class (Non-parametric test).\n"
     ]
    }
   ],
   "source": [
    "# Perform Mann-Whitney U Test\n",
    "mann_whitney = stats.mannwhitneyu(business_prices, economy_prices, alternative='two-sided')\n",
    "print(f\"Mann-Whitney U Test: U-statistic = {mann_whitney.statistic}, p-value = {mann_whitney.pvalue}\")\n",
    "\n",
    "# Interpretation\n",
    "if mann_whitney.pvalue < 0.05:\n",
    "    print(\"Reject the null hypothesis: There is a significant difference in price between business and economy class (Non-parametric test).\")\n",
    "else:\n",
    "    print(\"Fail to reject the null hypothesis: No significant difference found (Non-parametric test).\")\n"
   ]
  },
  {
   "cell_type": "code",
   "execution_count": 205,
   "id": "f6d5ca43-c0c9-4660-a29f-667419315c38",
   "metadata": {},
   "outputs": [
    {
     "name": "stdout",
     "output_type": "stream",
     "text": [
      "Levene's Test: p-value = 0.0\n",
      "Variance is not equal. Using Welch's t-test (already applied with equal_var=False).\n"
     ]
    }
   ],
   "source": [
    "# Levene’s test for equality of variances\n",
    "levene_test = stats.levene(business_prices, economy_prices)\n",
    "print(f\"Levene's Test: p-value = {levene_test.pvalue}\")\n",
    "\n",
    "# Interpretation\n",
    "if levene_test.pvalue < 0.05:\n",
    "    print(\"Variance is not equal. Using Welch's t-test (already applied with equal_var=False).\")\n",
    "else:\n",
    "    print(\"Variance is equal. A standard t-test is appropriate.\")\n"
   ]
  },
  {
   "cell_type": "code",
   "execution_count": 207,
   "id": "9024087a-ee09-4e10-88fa-910bf2128390",
   "metadata": {},
   "outputs": [
    {
     "name": "stdout",
     "output_type": "stream",
     "text": [
      "ANOVA Test (Price vs Stop Type): F-statistic = 6491.182146191993, p-value = 0.0\n",
      "Reject H₀: At least one stop category has a different average price.\n"
     ]
    }
   ],
   "source": [
    "## Price vs. Stop Type (stop) - ANOVA\n",
    "# Import required libraries\n",
    "from scipy import stats\n",
    "\n",
    "# Group price by stop types\n",
    "stop_groups = [df_raw[df_raw['stop'] == stop]['price'] for stop in df_raw['stop'].unique()]\n",
    "\n",
    "# Perform one-way ANOVA test\n",
    "f_stat, p_value = stats.f_oneway(*stop_groups)\n",
    "print(f\"ANOVA Test (Price vs Stop Type): F-statistic = {f_stat}, p-value = {p_value}\")\n",
    "\n",
    "if p_value < 0.05:\n",
    "    print(\"Reject H₀: At least one stop category has a different average price.\")\n",
    "else:\n",
    "    print(\"Fail to reject H₀: No significant difference in price across stop types.\")\n",
    "\n"
   ]
  },
  {
   "cell_type": "code",
   "execution_count": 219,
   "id": "f25ad329-6e9c-489b-b0b0-b9d843fc796d",
   "metadata": {},
   "outputs": [
    {
     "name": "stdout",
     "output_type": "stream",
     "text": [
      "Kruskal-Wallis Test (Price vs Stop Type): Statistic=20537.609524063246, p-value=0.0\n",
      "Reject H₀: At least one stop type has a different median price.\n"
     ]
    }
   ],
   "source": [
    "from scipy.stats import kruskal\n",
    "\n",
    "stop_groups = [df_raw[df_raw['stop'] == stop]['price'] for stop in df_raw['stop'].unique()]\n",
    "\n",
    "stat, p_value = kruskal(*stop_groups)\n",
    "print(f\"Kruskal-Wallis Test (Price vs Stop Type): Statistic={stat}, p-value={p_value}\")\n",
    "\n",
    "if p_value < 0.05:\n",
    "    print(\"Reject H₀: At least one stop type has a different median price.\")\n",
    "else:\n",
    "    print(\"Fail to reject H₀: No significant difference in prices across stop types.\")\n"
   ]
  },
  {
   "cell_type": "code",
   "execution_count": 209,
   "id": "799b799d-3f80-4e08-b3eb-416f32b1a2b8",
   "metadata": {},
   "outputs": [
    {
     "name": "stdout",
     "output_type": "stream",
     "text": [
      "ANOVA Test (Price vs Day of Week): F-statistic = 13.61807649994426, p-value = 1.5926343217553477e-15\n",
      "Reject H₀: At least one day has significantly different prices.\n"
     ]
    }
   ],
   "source": [
    "##Price vs. Day of the Week (day_of_week) - ANOVA\n",
    "# Group price by days\n",
    "day_groups = [df_raw[df_raw['day_of_week'] == day]['price'] for day in df_raw['day_of_week'].unique()]\n",
    "\n",
    "# Perform one-way ANOVA\n",
    "f_stat, p_value = stats.f_oneway(*day_groups)\n",
    "print(f\"ANOVA Test (Price vs Day of Week): F-statistic = {f_stat}, p-value = {p_value}\")\n",
    "\n",
    "if p_value < 0.05:\n",
    "    print(\"Reject H₀: At least one day has significantly different prices.\")\n",
    "else:\n",
    "    print(\"Fail to reject H₀: No significant difference in price across days.\")\n"
   ]
  },
  {
   "cell_type": "code",
   "execution_count": 211,
   "id": "b6438730-2d7c-431b-9d21-5d2a246f9690",
   "metadata": {},
   "outputs": [
    {
     "name": "stdout",
     "output_type": "stream",
     "text": [
      "Pearson Correlation (Price vs Time Taken): Correlation Coefficient = 0.20692595342241465, p-value = 0.0\n",
      "Reject H₀: There is a significant correlation between price and time taken.\n"
     ]
    }
   ],
   "source": [
    "## Correlation Between price and time_taken\n",
    "\n",
    "# Pearson correlation\n",
    "corr_coef, p_value = stats.pearsonr(df_raw['price'], df_raw['time_taken'])\n",
    "print(f\"Pearson Correlation (Price vs Time Taken): Correlation Coefficient = {corr_coef}, p-value = {p_value}\")\n",
    "\n",
    "if p_value < 0.05:\n",
    "    print(\"Reject H₀: There is a significant correlation between price and time taken.\")\n",
    "else:\n",
    "    print(\"Fail to reject H₀: No significant correlation between price and time taken.\")\n"
   ]
  },
  {
   "cell_type": "code",
   "execution_count": 221,
   "id": "0b178fe0-bf09-4420-affe-1d536f6e5734",
   "metadata": {},
   "outputs": [
    {
     "name": "stdout",
     "output_type": "stream",
     "text": [
      "Spearman Correlation (Price vs Time Taken): Correlation Coefficient=0.31926060927355654, p-value=0.0\n",
      "Reject H₀: There is a significant correlation between price and time taken.\n"
     ]
    }
   ],
   "source": [
    "from scipy.stats import spearmanr\n",
    "\n",
    "stat, p_value = spearmanr(df_raw['price'], df_raw['time_taken'])\n",
    "print(f\"Spearman Correlation (Price vs Time Taken): Correlation Coefficient={stat}, p-value={p_value}\")\n",
    "\n",
    "if p_value < 0.05:\n",
    "    print(\"Reject H₀: There is a significant correlation between price and time taken.\")\n",
    "else:\n",
    "    print(\"Fail to reject H₀: No significant correlation between price and time taken.\")\n"
   ]
  },
  {
   "cell_type": "code",
   "execution_count": 213,
   "id": "609b5ced-6ce0-4210-aaa2-3bf1c620aceb",
   "metadata": {},
   "outputs": [
    {
     "name": "stdout",
     "output_type": "stream",
     "text": [
      "Chi-Square Test (Stop vs Class): χ²-statistic = 5242.827492202854, p-value = 0.0\n",
      "Reject H₀: There is a significant relationship between stop type and class.\n"
     ]
    }
   ],
   "source": [
    "## Association Between stop and class\n",
    "# Create a contingency table\n",
    "contingency_table = pd.crosstab(df_raw['stop'], df_raw['class'])\n",
    "\n",
    "# Perform Chi-Square test\n",
    "chi2_stat, p_value, dof, expected = stats.chi2_contingency(contingency_table)\n",
    "print(f\"Chi-Square Test (Stop vs Class): χ²-statistic = {chi2_stat}, p-value = {p_value}\")\n",
    "\n",
    "if p_value < 0.05:\n",
    "    print(\"Reject H₀: There is a significant relationship between stop type and class.\")\n",
    "else:\n",
    "    print(\"Fail to reject H₀: Stop type and class are independent.\")\n"
   ]
  },
  {
   "cell_type": "code",
   "execution_count": 215,
   "id": "715785ce-e921-4ec2-913b-711eb9fe42aa",
   "metadata": {},
   "outputs": [
    {
     "name": "stdout",
     "output_type": "stream",
     "text": [
      "Pearson Correlation (Departure vs Arrival Time): Correlation Coefficient = -0.15703897938227135, p-value = 0.0\n",
      "Reject H₀: Departure time and arrival time are correlated.\n"
     ]
    }
   ],
   "source": [
    "## Departure Time vs. Arrival Time\n",
    "# Pearson correlation between dep_time and arr_time\n",
    "corr_coef, p_value = stats.pearsonr(df_raw['dep_time'], df_raw['arr_time'])\n",
    "print(f\"Pearson Correlation (Departure vs Arrival Time): Correlation Coefficient = {corr_coef}, p-value = {p_value}\")\n",
    "\n",
    "if p_value < 0.05:\n",
    "    print(\"Reject H₀: Departure time and arrival time are correlated.\")\n",
    "else:\n",
    "    print(\"Fail to reject H₀: No significant correlation between departure and arrival times.\")\n"
   ]
  },
  {
   "cell_type": "code",
   "execution_count": null,
   "id": "659222c0-32ab-4bc5-9759-062e7efafcb3",
   "metadata": {},
   "outputs": [],
   "source": []
  },
  {
   "cell_type": "code",
   "execution_count": null,
   "id": "946e1add-8f64-407c-9ea5-f43f16807912",
   "metadata": {},
   "outputs": [],
   "source": []
  },
  {
   "cell_type": "raw",
   "id": "d4d04aee-8d09-47f5-a821-4cbfcec6f6f9",
   "metadata": {},
   "source": [
    "num = ['dep_time','time_taken','arr_time','price']\n",
    "sns.pairplot(df_raw[num])\n",
    "plt.show()"
   ]
  },
  {
   "cell_type": "code",
   "execution_count": 191,
   "id": "19fa8139-1f60-4dac-9400-d89cb3acfa4d",
   "metadata": {},
   "outputs": [
    {
     "data": {
      "image/png": "[encoded data removed]",
      "text/plain": [
       "<Figure size 800x400 with 4 Axes>"
      ]
     },
     "metadata": {},
     "output_type": "display_data"
    }
   ],
   "source": [
    "num = ['dep_time','time_taken','arr_time','price']\n",
    "t = 1\n",
    "for i in num:\n",
    "    plt.subplot(2,2,t)\n",
    "    sns.boxplot(df_raw[i])\n",
    "    t += 1\n",
    "plt.tight_layout()\n",
    "plt.show()"
   ]
  },
  {
   "cell_type": "code",
   "execution_count": 193,
   "id": "e7485342-18e8-4a43-b414-3693083f5ccf",
   "metadata": {},
   "outputs": [
    {
     "name": "stdout",
     "output_type": "stream",
     "text": [
      "time_taken\n",
      "0.8333333333333334\n",
      "49.833333333333336\n",
      "\n",
      "price\n",
      "1105.0\n",
      "123071.0\n",
      "\n",
      "time_taken\n",
      "0.8333333333333334\n",
      "30.29166666666667\n",
      "\n",
      "price\n",
      "1105.0\n",
      "99128.0\n",
      "\n"
     ]
    }
   ],
   "source": [
    "for i in ['time_taken', 'price']:\n",
    "    print(i)\n",
    "    print(df_raw[i].min())\n",
    "    print(df_raw[i].max())\n",
    "    print()\n",
    "\n",
    "for i in ['time_taken', 'price']:\n",
    "    q1 = np.quantile(df_raw[i], 0.25)\n",
    "    q3 = np.quantile(df_raw[i], 0.75)\n",
    "    iqr = q3 - q1\n",
    "    lower = q1 - 1.5 * iqr\n",
    "    upper = q3 + 1.5 * iqr\n",
    "    df_raw[i] = df_raw[i].apply(lambda x: upper if x > upper else (lower if x < lower else x))\n",
    "\n",
    "for i in ['time_taken', 'price']:\n",
    "    print(i)\n",
    "    print(df_raw[i].min())\n",
    "    print(df_raw[i].max())\n",
    "    print()"
   ]
  },
  {
   "cell_type": "code",
   "execution_count": 195,
   "id": "11ef6d53-dd4c-4fca-b874-9c084d7dc26f",
   "metadata": {},
   "outputs": [
    {
     "data": {
      "text/plain": [
       "array([0, 1, 2], dtype=int64)"
      ]
     },
     "execution_count": 195,
     "metadata": {},
     "output_type": "execute_result"
    }
   ],
   "source": [
    "df_raw.replace({'no_stop':0,'one_stop':1, '2+_stop': 2}, inplace = True)\n",
    "df_raw['stop'].unique()"
   ]
  },
  {
   "cell_type": "code",
   "execution_count": 197,
   "id": "37e3a196-e483-4a17-8558-44dc098cfa8c",
   "metadata": {},
   "outputs": [
    {
     "data": {
      "text/html": [
       "<div>\n",
       "<style scoped>\n",
       "    .dataframe tbody tr th:only-of-type {\n",
       "        vertical-align: middle;\n",
       "    }\n",
       "\n",
       "    .dataframe tbody tr th {\n",
       "        vertical-align: top;\n",
       "    }\n",
       "\n",
       "    .dataframe thead th {\n",
       "        text-align: right;\n",
       "    }\n",
       "</style>\n",
       "<table border=\"1\" class=\"dataframe\">\n",
       "  <thead>\n",
       "    <tr style=\"text-align: right;\">\n",
       "      <th></th>\n",
       "      <th>date</th>\n",
       "      <th>num_code</th>\n",
       "      <th>dep_time</th>\n",
       "      <th>time_taken</th>\n",
       "      <th>stop</th>\n",
       "      <th>arr_time</th>\n",
       "      <th>price</th>\n",
       "      <th>airline_AirAsia</th>\n",
       "      <th>airline_GO FIRST</th>\n",
       "      <th>airline_Indigo</th>\n",
       "      <th>...</th>\n",
       "      <th>to_Hyderabad</th>\n",
       "      <th>to_Kolkata</th>\n",
       "      <th>to_Mumbai</th>\n",
       "      <th>class_economy</th>\n",
       "      <th>day_of_week_Monday</th>\n",
       "      <th>day_of_week_Saturday</th>\n",
       "      <th>day_of_week_Sunday</th>\n",
       "      <th>day_of_week_Thursday</th>\n",
       "      <th>day_of_week_Tuesday</th>\n",
       "      <th>day_of_week_Wednesday</th>\n",
       "    </tr>\n",
       "  </thead>\n",
       "  <tbody>\n",
       "    <tr>\n",
       "      <th>0</th>\n",
       "      <td>11</td>\n",
       "      <td>868</td>\n",
       "      <td>18.00</td>\n",
       "      <td>2.000000</td>\n",
       "      <td>0</td>\n",
       "      <td>20.00</td>\n",
       "      <td>25612.0</td>\n",
       "      <td>0</td>\n",
       "      <td>0</td>\n",
       "      <td>0</td>\n",
       "      <td>...</td>\n",
       "      <td>0</td>\n",
       "      <td>0</td>\n",
       "      <td>1</td>\n",
       "      <td>0</td>\n",
       "      <td>0</td>\n",
       "      <td>0</td>\n",
       "      <td>0</td>\n",
       "      <td>0</td>\n",
       "      <td>0</td>\n",
       "      <td>0</td>\n",
       "    </tr>\n",
       "    <tr>\n",
       "      <th>1</th>\n",
       "      <td>11</td>\n",
       "      <td>624</td>\n",
       "      <td>19.00</td>\n",
       "      <td>2.250000</td>\n",
       "      <td>0</td>\n",
       "      <td>21.15</td>\n",
       "      <td>25612.0</td>\n",
       "      <td>0</td>\n",
       "      <td>0</td>\n",
       "      <td>0</td>\n",
       "      <td>...</td>\n",
       "      <td>0</td>\n",
       "      <td>0</td>\n",
       "      <td>1</td>\n",
       "      <td>0</td>\n",
       "      <td>0</td>\n",
       "      <td>0</td>\n",
       "      <td>0</td>\n",
       "      <td>0</td>\n",
       "      <td>0</td>\n",
       "      <td>0</td>\n",
       "    </tr>\n",
       "    <tr>\n",
       "      <th>2</th>\n",
       "      <td>11</td>\n",
       "      <td>531</td>\n",
       "      <td>20.00</td>\n",
       "      <td>24.750000</td>\n",
       "      <td>1</td>\n",
       "      <td>20.45</td>\n",
       "      <td>42220.0</td>\n",
       "      <td>0</td>\n",
       "      <td>0</td>\n",
       "      <td>0</td>\n",
       "      <td>...</td>\n",
       "      <td>0</td>\n",
       "      <td>0</td>\n",
       "      <td>1</td>\n",
       "      <td>0</td>\n",
       "      <td>0</td>\n",
       "      <td>0</td>\n",
       "      <td>0</td>\n",
       "      <td>0</td>\n",
       "      <td>0</td>\n",
       "      <td>0</td>\n",
       "    </tr>\n",
       "    <tr>\n",
       "      <th>3</th>\n",
       "      <td>11</td>\n",
       "      <td>839</td>\n",
       "      <td>21.25</td>\n",
       "      <td>26.500000</td>\n",
       "      <td>1</td>\n",
       "      <td>23.55</td>\n",
       "      <td>44450.0</td>\n",
       "      <td>0</td>\n",
       "      <td>0</td>\n",
       "      <td>0</td>\n",
       "      <td>...</td>\n",
       "      <td>0</td>\n",
       "      <td>0</td>\n",
       "      <td>1</td>\n",
       "      <td>0</td>\n",
       "      <td>0</td>\n",
       "      <td>0</td>\n",
       "      <td>0</td>\n",
       "      <td>0</td>\n",
       "      <td>0</td>\n",
       "      <td>0</td>\n",
       "    </tr>\n",
       "    <tr>\n",
       "      <th>4</th>\n",
       "      <td>11</td>\n",
       "      <td>544</td>\n",
       "      <td>17.15</td>\n",
       "      <td>6.666667</td>\n",
       "      <td>1</td>\n",
       "      <td>23.55</td>\n",
       "      <td>46690.0</td>\n",
       "      <td>0</td>\n",
       "      <td>0</td>\n",
       "      <td>0</td>\n",
       "      <td>...</td>\n",
       "      <td>0</td>\n",
       "      <td>0</td>\n",
       "      <td>1</td>\n",
       "      <td>0</td>\n",
       "      <td>0</td>\n",
       "      <td>0</td>\n",
       "      <td>0</td>\n",
       "      <td>0</td>\n",
       "      <td>0</td>\n",
       "      <td>0</td>\n",
       "    </tr>\n",
       "  </tbody>\n",
       "</table>\n",
       "<p>5 rows × 31 columns</p>\n",
       "</div>"
      ],
      "text/plain": [
       "   date  num_code  dep_time  time_taken  stop  arr_time    price  \\\n",
       "0    11       868     18.00    2.000000     0     20.00  25612.0   \n",
       "1    11       624     19.00    2.250000     0     21.15  25612.0   \n",
       "2    11       531     20.00   24.750000     1     20.45  42220.0   \n",
       "3    11       839     21.25   26.500000     1     23.55  44450.0   \n",
       "4    11       544     17.15    6.666667     1     23.55  46690.0   \n",
       "\n",
       "   airline_AirAsia  airline_GO FIRST  airline_Indigo  ...  to_Hyderabad  \\\n",
       "0                0                 0               0  ...             0   \n",
       "1                0                 0               0  ...             0   \n",
       "2                0                 0               0  ...             0   \n",
       "3                0                 0               0  ...             0   \n",
       "4                0                 0               0  ...             0   \n",
       "\n",
       "   to_Kolkata  to_Mumbai  class_economy  day_of_week_Monday  \\\n",
       "0           0          1              0                   0   \n",
       "1           0          1              0                   0   \n",
       "2           0          1              0                   0   \n",
       "3           0          1              0                   0   \n",
       "4           0          1              0                   0   \n",
       "\n",
       "   day_of_week_Saturday  day_of_week_Sunday  day_of_week_Thursday  \\\n",
       "0                     0                   0                     0   \n",
       "1                     0                   0                     0   \n",
       "2                     0                   0                     0   \n",
       "3                     0                   0                     0   \n",
       "4                     0                   0                     0   \n",
       "\n",
       "   day_of_week_Tuesday  day_of_week_Wednesday  \n",
       "0                    0                      0  \n",
       "1                    0                      0  \n",
       "2                    0                      0  \n",
       "3                    0                      0  \n",
       "4                    0                      0  \n",
       "\n",
       "[5 rows x 31 columns]"
      ]
     },
     "execution_count": 197,
     "metadata": {},
     "output_type": "execute_result"
    }
   ],
   "source": [
    "df_enc = pd.get_dummies(df_raw, drop_first=True, dtype='int')\n",
    "df_enc.head()"
   ]
  },
  {
   "cell_type": "code",
   "execution_count": 103,
   "id": "7a6a0414-5890-40cc-b160-2d6f51b0adf7",
   "metadata": {},
   "outputs": [
    {
     "data": {
      "text/html": [
       "<div>\n",
       "<style scoped>\n",
       "    .dataframe tbody tr th:only-of-type {\n",
       "        vertical-align: middle;\n",
       "    }\n",
       "\n",
       "    .dataframe tbody tr th {\n",
       "        vertical-align: top;\n",
       "    }\n",
       "\n",
       "    .dataframe thead th {\n",
       "        text-align: right;\n",
       "    }\n",
       "</style>\n",
       "<table border=\"1\" class=\"dataframe\">\n",
       "  <thead>\n",
       "    <tr style=\"text-align: right;\">\n",
       "      <th></th>\n",
       "      <th>date</th>\n",
       "      <th>num_code</th>\n",
       "      <th>dep_time</th>\n",
       "      <th>time_taken</th>\n",
       "      <th>stop</th>\n",
       "      <th>arr_time</th>\n",
       "      <th>price</th>\n",
       "      <th>airline_AirAsia</th>\n",
       "      <th>airline_GO FIRST</th>\n",
       "      <th>airline_Indigo</th>\n",
       "      <th>...</th>\n",
       "      <th>to_Hyderabad</th>\n",
       "      <th>to_Kolkata</th>\n",
       "      <th>to_Mumbai</th>\n",
       "      <th>class_economy</th>\n",
       "      <th>day_of_week_Monday</th>\n",
       "      <th>day_of_week_Saturday</th>\n",
       "      <th>day_of_week_Sunday</th>\n",
       "      <th>day_of_week_Thursday</th>\n",
       "      <th>day_of_week_Tuesday</th>\n",
       "      <th>day_of_week_Wednesday</th>\n",
       "    </tr>\n",
       "  </thead>\n",
       "  <tbody>\n",
       "    <tr>\n",
       "      <th>0</th>\n",
       "      <td>11</td>\n",
       "      <td>868</td>\n",
       "      <td>0.882712</td>\n",
       "      <td>-1.429372</td>\n",
       "      <td>0</td>\n",
       "      <td>0.738319</td>\n",
       "      <td>0.208503</td>\n",
       "      <td>0</td>\n",
       "      <td>0</td>\n",
       "      <td>0</td>\n",
       "      <td>...</td>\n",
       "      <td>0</td>\n",
       "      <td>0</td>\n",
       "      <td>1</td>\n",
       "      <td>0</td>\n",
       "      <td>0</td>\n",
       "      <td>0</td>\n",
       "      <td>0</td>\n",
       "      <td>0</td>\n",
       "      <td>0</td>\n",
       "      <td>0</td>\n",
       "    </tr>\n",
       "    <tr>\n",
       "      <th>1</th>\n",
       "      <td>11</td>\n",
       "      <td>624</td>\n",
       "      <td>1.068692</td>\n",
       "      <td>-1.394329</td>\n",
       "      <td>0</td>\n",
       "      <td>0.928429</td>\n",
       "      <td>0.208503</td>\n",
       "      <td>0</td>\n",
       "      <td>0</td>\n",
       "      <td>0</td>\n",
       "      <td>...</td>\n",
       "      <td>0</td>\n",
       "      <td>0</td>\n",
       "      <td>1</td>\n",
       "      <td>0</td>\n",
       "      <td>0</td>\n",
       "      <td>0</td>\n",
       "      <td>0</td>\n",
       "      <td>0</td>\n",
       "      <td>0</td>\n",
       "      <td>0</td>\n",
       "    </tr>\n",
       "    <tr>\n",
       "      <th>2</th>\n",
       "      <td>11</td>\n",
       "      <td>531</td>\n",
       "      <td>1.254672</td>\n",
       "      <td>1.759497</td>\n",
       "      <td>1</td>\n",
       "      <td>0.812710</td>\n",
       "      <td>0.940531</td>\n",
       "      <td>0</td>\n",
       "      <td>0</td>\n",
       "      <td>0</td>\n",
       "      <td>...</td>\n",
       "      <td>0</td>\n",
       "      <td>0</td>\n",
       "      <td>1</td>\n",
       "      <td>0</td>\n",
       "      <td>0</td>\n",
       "      <td>0</td>\n",
       "      <td>0</td>\n",
       "      <td>0</td>\n",
       "      <td>0</td>\n",
       "      <td>0</td>\n",
       "    </tr>\n",
       "    <tr>\n",
       "      <th>3</th>\n",
       "      <td>11</td>\n",
       "      <td>839</td>\n",
       "      <td>1.487147</td>\n",
       "      <td>2.004795</td>\n",
       "      <td>1</td>\n",
       "      <td>1.325181</td>\n",
       "      <td>1.038822</td>\n",
       "      <td>0</td>\n",
       "      <td>0</td>\n",
       "      <td>0</td>\n",
       "      <td>...</td>\n",
       "      <td>0</td>\n",
       "      <td>0</td>\n",
       "      <td>1</td>\n",
       "      <td>0</td>\n",
       "      <td>0</td>\n",
       "      <td>0</td>\n",
       "      <td>0</td>\n",
       "      <td>0</td>\n",
       "      <td>0</td>\n",
       "      <td>0</td>\n",
       "    </tr>\n",
       "    <tr>\n",
       "      <th>4</th>\n",
       "      <td>11</td>\n",
       "      <td>544</td>\n",
       "      <td>0.724629</td>\n",
       "      <td>-0.775245</td>\n",
       "      <td>1</td>\n",
       "      <td>1.325181</td>\n",
       "      <td>1.137555</td>\n",
       "      <td>0</td>\n",
       "      <td>0</td>\n",
       "      <td>0</td>\n",
       "      <td>...</td>\n",
       "      <td>0</td>\n",
       "      <td>0</td>\n",
       "      <td>1</td>\n",
       "      <td>0</td>\n",
       "      <td>0</td>\n",
       "      <td>0</td>\n",
       "      <td>0</td>\n",
       "      <td>0</td>\n",
       "      <td>0</td>\n",
       "      <td>0</td>\n",
       "    </tr>\n",
       "  </tbody>\n",
       "</table>\n",
       "<p>5 rows × 31 columns</p>\n",
       "</div>"
      ],
      "text/plain": [
       "   date  num_code  dep_time  time_taken  stop  arr_time     price  \\\n",
       "0    11       868  0.882712   -1.429372     0  0.738319  0.208503   \n",
       "1    11       624  1.068692   -1.394329     0  0.928429  0.208503   \n",
       "2    11       531  1.254672    1.759497     1  0.812710  0.940531   \n",
       "3    11       839  1.487147    2.004795     1  1.325181  1.038822   \n",
       "4    11       544  0.724629   -0.775245     1  1.325181  1.137555   \n",
       "\n",
       "   airline_AirAsia  airline_GO FIRST  airline_Indigo  ...  to_Hyderabad  \\\n",
       "0                0                 0               0  ...             0   \n",
       "1                0                 0               0  ...             0   \n",
       "2                0                 0               0  ...             0   \n",
       "3                0                 0               0  ...             0   \n",
       "4                0                 0               0  ...             0   \n",
       "\n",
       "   to_Kolkata  to_Mumbai  class_economy  day_of_week_Monday  \\\n",
       "0           0          1              0                   0   \n",
       "1           0          1              0                   0   \n",
       "2           0          1              0                   0   \n",
       "3           0          1              0                   0   \n",
       "4           0          1              0                   0   \n",
       "\n",
       "   day_of_week_Saturday  day_of_week_Sunday  day_of_week_Thursday  \\\n",
       "0                     0                   0                     0   \n",
       "1                     0                   0                     0   \n",
       "2                     0                   0                     0   \n",
       "3                     0                   0                     0   \n",
       "4                     0                   0                     0   \n",
       "\n",
       "   day_of_week_Tuesday  day_of_week_Wednesday  \n",
       "0                    0                      0  \n",
       "1                    0                      0  \n",
       "2                    0                      0  \n",
       "3                    0                      0  \n",
       "4                    0                      0  \n",
       "\n",
       "[5 rows x 31 columns]"
      ]
     },
     "execution_count": 103,
     "metadata": {},
     "output_type": "execute_result"
    }
   ],
   "source": [
    "num = ['dep_time','time_taken','arr_time','price']\n",
    "from sklearn.preprocessing import StandardScaler\n",
    "st = StandardScaler()\n",
    "df_enc[num] = st.fit_transform(df_enc[num])\n",
    "df_enc.head()"
   ]
  },
  {
   "cell_type": "code",
   "execution_count": 132,
   "id": "e70310b0-306b-448f-8a6c-476934266d8e",
   "metadata": {},
   "outputs": [],
   "source": [
    "from sklearn.linear_model import LinearRegression\n",
    "from sklearn.model_selection import train_test_split\n",
    "from sklearn.metrics import r2_score, accuracy_score, classification_report, f1_score,mean_absolute_percentage_error, root_mean_squared_error\n",
    "from sklearn.metrics import *\n",
    "import statsmodels.api as sma\n",
    "from sklearn.model_selection import GridSearchCV\n",
    "from sklearn.ensemble import RandomForestRegressor"
   ]
  },
  {
   "cell_type": "code",
   "execution_count": 105,
   "id": "84971c7f-fe61-4780-a283-068eb5a697a2",
   "metadata": {},
   "outputs": [],
   "source": [
    "X = df_enc.drop(['price'], axis = 1)\n",
    "y = df_enc['price']\n",
    "xtrain, xtest, ytrain, ytest = train_test_split(X, y, test_size=0.30, random_state=10)"
   ]
  },
  {
   "cell_type": "code",
   "execution_count": 106,
   "id": "8cbeb1f9-2ed8-4370-a4df-649088327ba1",
   "metadata": {},
   "outputs": [
    {
     "name": "stdout",
     "output_type": "stream",
     "text": [
      "(300259, 31)\n",
      "(210181, 30)\n",
      "(210181,)\n",
      "(90078, 30)\n",
      "(90078,)\n"
     ]
    }
   ],
   "source": [
    "print(df_enc.shape)\n",
    "print(xtrain.shape)\n",
    "print(ytrain.shape)\n",
    "print(xtest.shape)\n",
    "print(ytest.shape)"
   ]
  },
  {
   "cell_type": "code",
   "execution_count": 107,
   "id": "a22bcc72-436a-4aea-b112-a2c2b4b11f00",
   "metadata": {},
   "outputs": [
    {
     "name": "stdout",
     "output_type": "stream",
     "text": [
      "Selected Features: ['num_code', 'time_taken', 'arr_time', 'class_economy', 'stop', 'from_Kolkata', 'airline_AirAsia', 'to_Kolkata', 'airline_Vistara', 'to_Hyderabad', 'from_Hyderabad', 'from_Delhi', 'to_Delhi', 'airline_Indigo', 'airline_GO FIRST', 'airline_SpiceJet', 'day_of_week_Sunday', 'day_of_week_Saturday', 'to_Chennai', 'date', 'airline_StarAir', 'day_of_week_Tuesday', 'day_of_week_Thursday', 'day_of_week_Wednesday', 'day_of_week_Monday', 'from_Mumbai', 'from_Chennai', 'dep_time']\n"
     ]
    }
   ],
   "source": [
    "import statsmodels.api as sm\n",
    "import pandas as pd\n",
    "\n",
    "def forward_selection(x, y, significance_level=0.05):\n",
    "    initial_features = []\n",
    "    remaining_features = list(x.columns)\n",
    "    best_features = []\n",
    "    \n",
    "    while remaining_features:\n",
    "        p_values = []\n",
    "        for feature in remaining_features:\n",
    "            model = sm.OLS(y, sm.add_constant(x[initial_features + [feature]])).fit()\n",
    "            p_values.append((feature, model.pvalues[feature]))\n",
    "        \n",
    "        \n",
    "        p_values = pd.DataFrame(p_values, columns=['feature', 'p_value'])\n",
    "        p_values = p_values.sort_values(by='p_value')\n",
    "        \n",
    "        if p_values.iloc[0]['p_value'] < significance_level:\n",
    "            best_feature = p_values.iloc[0]['feature']\n",
    "            initial_features.append(best_feature)\n",
    "            remaining_features.remove(best_feature)\n",
    "            best_features = initial_features[:]\n",
    "        else:\n",
    "            break\n",
    "    \n",
    "    return best_features\n",
    "\n",
    "\n",
    "selected_features = forward_selection(X, y)\n",
    "print(\"Selected Features:\", selected_features)\n"
   ]
  },
  {
   "cell_type": "code",
   "execution_count": 108,
   "id": "60ea943d-68cd-4991-acf9-a6e23b043d31",
   "metadata": {},
   "outputs": [
    {
     "data": {
      "text/plain": [
       "28"
      ]
     },
     "execution_count": 108,
     "metadata": {},
     "output_type": "execute_result"
    }
   ],
   "source": [
    "selected_features = ['num_code', 'time_taken', 'arr_time', 'class_economy', 'stop', 'from_Kolkata', 'airline_AirAsia', \n",
    "                     'to_Kolkata', 'airline_Vistara', 'to_Hyderabad', 'from_Hyderabad', 'from_Delhi', 'to_Delhi', \n",
    "                     'airline_Indigo', 'airline_GO FIRST', 'airline_SpiceJet', 'day_of_week_Sunday', 'day_of_week_Saturday', \n",
    "                     'to_Chennai', 'date', 'airline_StarAir', 'day_of_week_Tuesday', 'day_of_week_Thursday', \n",
    "                     'day_of_week_Wednesday', 'day_of_week_Monday', 'from_Mumbai', 'from_Chennai', 'dep_time']\n",
    "len(selected_features)"
   ]
  },
  {
   "cell_type": "code",
   "execution_count": 109,
   "id": "485f3cf3-57cf-453e-b45b-caa126398f8e",
   "metadata": {},
   "outputs": [
    {
     "name": "stdout",
     "output_type": "stream",
     "text": [
      "(300259, 31)\n",
      "(210181, 28)\n",
      "(210181,)\n",
      "(90078, 28)\n",
      "(90078,)\n"
     ]
    }
   ],
   "source": [
    "X = df_enc[selected_features]\n",
    "y = df_enc['price']\n",
    "xtrain, xtest, ytrain, ytest = train_test_split(X, y, test_size=0.30, random_state=10)\n",
    "\n",
    "print(df_enc.shape)\n",
    "print(xtrain.shape)\n",
    "print(ytrain.shape)\n",
    "print(xtest.shape)\n",
    "print(ytest.shape)"
   ]
  },
  {
   "cell_type": "code",
   "execution_count": 110,
   "id": "1b20bb96-05eb-4908-ab6e-bb74fc94b119",
   "metadata": {},
   "outputs": [
    {
     "name": "stdout",
     "output_type": "stream",
     "text": [
      "Training r2 score: 0.9042799065856382\n",
      "Testing r2 score: 0.9040861297946238\n",
      "Train MAPE: 1.0909304399202284\n",
      "Test MAPE: 1.0164907544788406\n"
     ]
    }
   ],
   "source": [
    "lr = LinearRegression()\n",
    "model = lr.fit(xtrain, ytrain)\n",
    "ypred_train = model.predict(xtrain)\n",
    "ypred_test = model.predict(xtest)\n",
    "print(f'Training r2 score: {r2_score(ytrain, ypred_train)}')\n",
    "print(f'Testing r2 score: {r2_score(ytest, ypred_test)}')\n",
    "print(f'Train MAPE: {mean_absolute_percentage_error(ytrain, ypred_train)}')\n",
    "print(f'Test MAPE: {mean_absolute_percentage_error(ytest, ypred_test)}')"
   ]
  },
  {
   "cell_type": "raw",
   "id": "27508ce8-2886-41ca-bec2-88fe232ac171",
   "metadata": {},
   "source": [
    "from sklearn.feature_selection import SequentialFeatureSelector\n",
    "from sklearn.ensemble import GradientBoostingRegressor\n",
    "\n",
    "gb = GradientBoostingRegressor()\n",
    "sfs = SequentialFeatureSelector(gb, n_features_to_select=5, direction='forward', cv=2, n_jobs=10)\n",
    "sfs.fit(xtrain, ytrain)\n",
    "\n",
    "selected_features = xtrain.columns[sfs.support_]\n",
    "print(\"Selected features:\", selected_features)\n"
   ]
  },
  {
   "cell_type": "code",
   "execution_count": 111,
   "id": "59936810-6d29-49d5-961d-52dd90d78574",
   "metadata": {},
   "outputs": [
    {
     "name": "stdout",
     "output_type": "stream",
     "text": [
      "Training r2 score: 0.04530123660752372\n",
      "Testing r2 score: 0.04538870529577044\n",
      "Train MAPE: 1.0474411126587932\n",
      "Test MAPE: 1.050631822226348\n"
     ]
    }
   ],
   "source": [
    "from sklearn.linear_model import Lasso, Ridge, ElasticNet\n",
    "lasso = Lasso()\n",
    "model_lasso = lasso.fit(xtrain, ytrain)\n",
    "ypred_train = model_lasso.predict(xtrain)\n",
    "ypred_test = model_lasso.predict(xtest)\n",
    "print(f'Training r2 score: {r2_score(ytrain, ypred_train)}')\n",
    "print(f'Testing r2 score: {r2_score(ytest, ypred_test)}')\n",
    "print(f'Train MAPE: {mean_absolute_percentage_error(ytrain, ypred_train)}')\n",
    "print(f'Test MAPE: {mean_absolute_percentage_error(ytest, ypred_test)}')"
   ]
  },
  {
   "cell_type": "code",
   "execution_count": 112,
   "id": "01d6b188-fac3-469f-81f0-4e7cfc6a3c0f",
   "metadata": {},
   "outputs": [
    {
     "name": "stdout",
     "output_type": "stream",
     "text": [
      "Training r2 score: 0.9042798995472601\n",
      "Testing r2 score: 0.9040862076252054\n",
      "Train MAPE: 1.0909077936800586\n",
      "Test MAPE: 1.016470452234931\n"
     ]
    }
   ],
   "source": [
    "ridge = Ridge()\n",
    "model_ridge = ridge.fit(xtrain, ytrain)\n",
    "ypred_train = model_ridge.predict(xtrain)\n",
    "ypred_test = model_ridge.predict(xtest)\n",
    "print(f'Training r2 score: {r2_score(ytrain, ypred_train)}')\n",
    "print(f'Testing r2 score: {r2_score(ytest, ypred_test)}')\n",
    "print(f'Train MAPE: {mean_absolute_percentage_error(ytrain, ypred_train)}')\n",
    "print(f'Test MAPE: {mean_absolute_percentage_error(ytest, ypred_test)}')"
   ]
  },
  {
   "cell_type": "code",
   "execution_count": 113,
   "id": "681bb177-a8b4-40f3-bf4b-242081b307f9",
   "metadata": {},
   "outputs": [
    {
     "name": "stdout",
     "output_type": "stream",
     "text": [
      "Training r2 score: 0.045301428341799954\n",
      "Testing r2 score: 0.04538950063165559\n",
      "Train MAPE: 1.0475912777958958\n",
      "Test MAPE: 1.0507845263894073\n"
     ]
    }
   ],
   "source": [
    "en = ElasticNet()\n",
    "model_en = en.fit(xtrain, ytrain)\n",
    "ypred_train = model_en.predict(xtrain)\n",
    "ypred_test = model_en.predict(xtest)\n",
    "print(f'Training r2 score: {r2_score(ytrain, ypred_train)}')\n",
    "print(f'Testing r2 score: {r2_score(ytest, ypred_test)}')\n",
    "print(f'Train MAPE: {mean_absolute_percentage_error(ytrain, ypred_train)}')\n",
    "print(f'Test MAPE: {mean_absolute_percentage_error(ytest, ypred_test)}')"
   ]
  },
  {
   "cell_type": "raw",
   "id": "f8c8bf39-9686-4c72-b92f-afd556057622",
   "metadata": {},
   "source": [
    "from sklearn.ensemble import RandomForestRegressor\n",
    "rf = RandomForestRegressor()\n",
    "model_rf = rf.fit(xtrain, ytrain)\n",
    "ypred_train = model_rf.predict(xtrain)\n",
    "ypred_test = model_rf.predict(xtest)\n",
    "print(f'Training r2 score: {r2_score(ytrain, ypred_train)}')\n",
    "print(f'Testing r2 score: {r2_score(ytest, ypred_test)}')\n",
    "print(f'Train MAPE: {mean_absolute_percentage_error(ytrain, ypred_train)}')\n",
    "print(f'Test MAPE: {mean_absolute_percentage_error(ytest, ypred_test)}')"
   ]
  },
  {
   "cell_type": "code",
   "execution_count": null,
   "id": "5b63d09a-5b1a-4fd1-8d5e-db9bd21a6c9c",
   "metadata": {},
   "outputs": [],
   "source": []
  },
  {
   "cell_type": "code",
   "execution_count": 114,
   "id": "34bba78c-dda2-4ff3-b963-5a86feed01cb",
   "metadata": {},
   "outputs": [
    {
     "name": "stdout",
     "output_type": "stream",
     "text": [
      "Training r2 score: 0.9502457822309274\n",
      "Testing r2 score: 0.9492346776549618\n",
      "Train MAPE: 0.4754684705616277\n",
      "Test MAPE: 0.4528055035892454\n"
     ]
    }
   ],
   "source": [
    "from sklearn.ensemble import GradientBoostingRegressor\n",
    "gb = GradientBoostingRegressor()\n",
    "model_gb = gb.fit(xtrain, ytrain)\n",
    "ypred_train = model_gb.predict(xtrain)\n",
    "ypred_test = model_gb.predict(xtest)\n",
    "print(f'Training r2 score: {r2_score(ytrain, ypred_train)}')\n",
    "print(f'Testing r2 score: {r2_score(ytest, ypred_test)}')\n",
    "print(f'Train MAPE: {mean_absolute_percentage_error(ytrain, ypred_train)}')\n",
    "print(f'Test MAPE: {mean_absolute_percentage_error(ytest, ypred_test)}')"
   ]
  },
  {
   "cell_type": "code",
   "execution_count": 134,
   "id": "60e5f9c6-46af-45e4-bed1-fef248266706",
   "metadata": {},
   "outputs": [],
   "source": [
    "from sklearn.ensemble import AdaBoostRegressor\n",
    "from sklearn.tree import DecisionTreeRegressor"
   ]
  },
  {
   "cell_type": "code",
   "execution_count": 91,
   "id": "62225a06-39fe-4a4a-a4d1-785267c091b1",
   "metadata": {},
   "outputs": [
    {
     "name": "stdout",
     "output_type": "stream",
     "text": [
      "Training r2 score: 0.9107914370987606\n",
      "Testing r2 score: 0.9091121599807722\n",
      "0.6649540190559609\n",
      "0.6286198908409766\n"
     ]
    }
   ],
   "source": [
    "ada = AdaBoostRegressor()\n",
    "model_ada = ada.fit(xtrain, ytrain)\n",
    "ypred_train = model_ada.predict(xtrain)\n",
    "ypred_test = model_ada.predict(xtest)\n",
    "print(f'Training r2 score: {r2_score(ytrain, ypred_train)}')\n",
    "print(f'Testing r2 score: {r2_score(ytest, ypred_test)}')\n",
    "print(f'Train MAPE: {mean_absolute_percentage_error(ytrain, ypred_train)}')\n",
    "print(f'Test MAPE: {mean_absolute_percentage_error(ytest, ypred_test)}')"
   ]
  },
  {
   "cell_type": "code",
   "execution_count": 92,
   "id": "1382cf22-d567-496b-a1c8-dd5b9f9f06ca",
   "metadata": {},
   "outputs": [
    {
     "name": "stdout",
     "output_type": "stream",
     "text": [
      "Training r2 score: 0.8897658355457037\n",
      "Testing r2 score: 0.8877787776452655\n",
      "0.6818023036722222\n",
      "0.6499132503603591\n"
     ]
    }
   ],
   "source": [
    "dt = DecisionTreeRegressor()\n",
    "model_dt = ada.fit(xtrain, ytrain)\n",
    "ypred_train = model_dt.predict(xtrain)\n",
    "ypred_test = model_dt.predict(xtest)\n",
    "print(f'Training r2 score: {r2_score(ytrain, ypred_train)}')\n",
    "print(f'Testing r2 score: {r2_score(ytest, ypred_test)}')\n",
    "print(f'Train MAPE: {mean_absolute_percentage_error(ytrain, ypred_train)}')\n",
    "print(f'Test MAPE: {mean_absolute_percentage_error(ytest, ypred_test)}')"
   ]
  },
  {
   "cell_type": "code",
   "execution_count": 94,
   "id": "65152dda-fc2b-4d77-b447-e6888d0288e7",
   "metadata": {},
   "outputs": [
    {
     "name": "stdout",
     "output_type": "stream",
     "text": [
      "Training r2 score: 0.9771431558041429\n",
      "Testing r2 score: 0.9755530146455282\n",
      "Train MAPE: 0.35731385417771805\n",
      "Test MAPE: 0.3563270854663135\n"
     ]
    }
   ],
   "source": [
    "from xgboost import XGBRegressor\n",
    "xgb = XGBRegressor()\n",
    "model_xgb = xgb.fit(xtrain, ytrain)\n",
    "ypred_train = model_xgb.predict(xtrain)\n",
    "ypred_test = model_xgb.predict(xtest)\n",
    "print(f'Training r2 score: {r2_score(ytrain, ypred_train)}')\n",
    "print(f'Testing r2 score: {r2_score(ytest, ypred_test)}')\n",
    "print(f'Train MAPE: {mean_absolute_percentage_error(ytrain, ypred_train)}')\n",
    "print(f'Test MAPE: {mean_absolute_percentage_error(ytest, ypred_test)}')"
   ]
  },
  {
   "cell_type": "markdown",
   "id": "4db243f6-4140-4dfc-a3f4-40ab5683933a",
   "metadata": {},
   "source": [
    "#### scorecard:"
   ]
  },
  {
   "cell_type": "code",
   "execution_count": 115,
   "id": "197a7d5e-cad5-4965-be1d-9ff34004cc3a",
   "metadata": {},
   "outputs": [],
   "source": [
    "mod = []\n",
    "r_squared_train = []\n",
    "r_squared_test = []\n",
    "mse = []\n",
    "rmse = []\n",
    "mae = []\n",
    "mape = []\n",
    "\n",
    "def model_validation(model, xtrain, ytrain, xtest, ytest):\n",
    "    global scorecard\n",
    "    \n",
    "    # Fit the model\n",
    "    m = model\n",
    "    m.fit(xtrain, ytrain)\n",
    "    \n",
    "    # Predict values\n",
    "    y_pred_train = m.predict(xtrain)\n",
    "    y_pred_test = m.predict(xtest)\n",
    "\n",
    "    # Calculate metrics\n",
    "    print('R-Squared Train: ', r2_score(ytrain, y_pred_train))\n",
    "    print('R-Squared Test: ', r2_score(ytest, y_pred_test))\n",
    "    print('Mean squared error: ', mean_squared_error(ytest, y_pred_test))\n",
    "    print('Root mean squared error: ', mean_squared_error(ytest, y_pred_test)**0.5)\n",
    "    print('Mean absolute error: ', mean_absolute_error(ytest, y_pred_test))\n",
    "    print('Mean absolute percentage error: ', mean_absolute_percentage_error(ytest, y_pred_test))\n",
    "    \n",
    "    # Residuals plot\n",
    "    residuals = ytest - y_pred_test\n",
    "    plt.scatter(y_pred_test, residuals)\n",
    "    plt.axhline(0, color='r', linestyle='--')\n",
    "    plt.xlabel(\"Predicted Values\")\n",
    "    plt.ylabel(\"Residuals\")\n",
    "    plt.title(f'Residuals Plot')\n",
    "    plt.show()\n",
    "    \n",
    "    # Save results\n",
    "    ans = input('Do you want to save the result? Y/N: ')\n",
    "    if ans.lower() == 'y':\n",
    "        mod.append(str(model))\n",
    "        r_squared_train.append(r2_score(ytrain, y_pred_train))\n",
    "        r_squared_test.append(r2_score(ytest, y_pred_test))\n",
    "        mse.append(mean_squared_error(ytest, y_pred_test))\n",
    "        rmse.append(mean_squared_error(ytest, y_pred_test)**0.5)\n",
    "        mae.append(mean_absolute_error(ytest, y_pred_test))\n",
    "        mape.append(mean_absolute_percentage_error(ytest, y_pred_test))\n",
    "        scorecard = pd.DataFrame({\n",
    "            'Model': mod,\n",
    "            'R-squared Train': r_squared_train,\n",
    "            'R-squared Test': r_squared_test,\n",
    "            'MSE': mse,\n",
    "            'RMSE': rmse,\n",
    "            'MAE': mae,\n",
    "            'MAPE': mape\n",
    "        })\n",
    "    else:\n",
    "        return"
   ]
  },
  {
   "cell_type": "code",
   "execution_count": 116,
   "id": "ef763490-6453-4092-baa7-97e1ac00e042",
   "metadata": {},
   "outputs": [
    {
     "name": "stdout",
     "output_type": "stream",
     "text": [
      "R-Squared Train:  0.9042799065856382\n",
      "R-Squared Test:  0.9040861297946238\n",
      "Mean squared error:  0.09585032053655355\n",
      "Root mean squared error:  0.3095970292760471\n",
      "Mean absolute error:  0.2111735873965516\n",
      "Mean absolute percentage error:  1.0164907544788406\n"
     ]
    },
    {
     "data": {
      "image/png": "[encoded data removed]",
      "text/plain": [
       "<Figure size 800x400 with 1 Axes>"
      ]
     },
     "metadata": {},
     "output_type": "display_data"
    },
    {
     "name": "stdin",
     "output_type": "stream",
     "text": [
      "Do you want to save the result? Y/N:  y\n"
     ]
    }
   ],
   "source": [
    "model_validation(LinearRegression(), xtrain, ytrain, xtest, ytest)"
   ]
  },
  {
   "cell_type": "code",
   "execution_count": 122,
   "id": "606ed50b-2cb8-47ff-9ded-3536f0c611c3",
   "metadata": {},
   "outputs": [
    {
     "name": "stdout",
     "output_type": "stream",
     "text": [
      "R-Squared Train:  0.04530123660752372\n",
      "R-Squared Test:  0.04538870529577044\n",
      "Mean squared error:  0.9539787977410377\n",
      "Root mean squared error:  0.9767183820022216\n",
      "Mean absolute error:  0.8416954279684963\n",
      "Mean absolute percentage error:  1.050631822226348\n"
     ]
    },
    {
     "data": {
      "image/png": "[encoded data removed]",
      "text/plain": [
       "<Figure size 800x400 with 1 Axes>"
      ]
     },
     "metadata": {},
     "output_type": "display_data"
    },
    {
     "name": "stdin",
     "output_type": "stream",
     "text": [
      "Do you want to save the result? Y/N:  y\n"
     ]
    }
   ],
   "source": [
    "model_validation(Lasso(), xtrain, ytrain, xtest, ytest)"
   ]
  },
  {
   "cell_type": "code",
   "execution_count": 117,
   "id": "b15c73df-f4ca-494b-9335-0ed66ccce0f6",
   "metadata": {},
   "outputs": [
    {
     "data": {
      "text/plain": [
       "{'alpha': 0.0001, 'max_iter': 500}"
      ]
     },
     "execution_count": 117,
     "metadata": {},
     "output_type": "execute_result"
    }
   ],
   "source": [
    "parameters = {'alpha': [0.0001,0.001, 0.01, 0.1], \n",
    "              'max_iter': [500, 1000, 5000]}\n",
    "gridcv = GridSearchCV(estimator=Lasso(), param_grid= parameters, cv = 3, n_jobs= 8)\n",
    "\n",
    "gridcv.fit(xtrain, ytrain)\n",
    "\n",
    "gridcv.best_params_"
   ]
  },
  {
   "cell_type": "code",
   "execution_count": 123,
   "id": "10332863-cce5-4c82-aeea-c3b48abd7b9b",
   "metadata": {},
   "outputs": [
    {
     "name": "stdout",
     "output_type": "stream",
     "text": [
      "R-Squared Train:  0.904264234740851\n",
      "R-Squared Test:  0.9040783286882487\n",
      "Mean squared error:  0.09585811647414827\n",
      "Root mean squared error:  0.3096096194793506\n",
      "Mean absolute error:  0.2110006115431912\n",
      "Mean absolute percentage error:  1.0164312245644442\n"
     ]
    },
    {
     "data": {
      "image/png": "[encoded data removed]",
      "text/plain": [
       "<Figure size 800x400 with 1 Axes>"
      ]
     },
     "metadata": {},
     "output_type": "display_data"
    },
    {
     "name": "stdin",
     "output_type": "stream",
     "text": [
      "Do you want to save the result? Y/N:  y\n"
     ]
    }
   ],
   "source": [
    "model_validation(Lasso(alpha= 0.0001, max_iter= 500), xtrain, ytrain, xtest, ytest)"
   ]
  },
  {
   "cell_type": "code",
   "execution_count": 124,
   "id": "25cba384-21d2-4927-82c0-880aa284925c",
   "metadata": {},
   "outputs": [
    {
     "name": "stdout",
     "output_type": "stream",
     "text": [
      "R-Squared Train:  0.9042798995472601\n",
      "R-Squared Test:  0.9040862076252054\n",
      "Mean squared error:  0.09585024275754005\n",
      "Root mean squared error:  0.30959690366271436\n",
      "Mean absolute error:  0.21117229187000489\n",
      "Mean absolute percentage error:  1.016470452234931\n"
     ]
    },
    {
     "data": {
      "image/png": "[encoded data removed]",
      "text/plain": [
       "<Figure size 800x400 with 1 Axes>"
      ]
     },
     "metadata": {},
     "output_type": "display_data"
    },
    {
     "name": "stdin",
     "output_type": "stream",
     "text": [
      "Do you want to save the result? Y/N:  y\n"
     ]
    }
   ],
   "source": [
    "model_validation(Ridge(), xtrain, ytrain, xtest, ytest)"
   ]
  },
  {
   "cell_type": "code",
   "execution_count": 125,
   "id": "6200278d-03e0-4b37-9ee6-20389d34eba0",
   "metadata": {},
   "outputs": [
    {
     "data": {
      "text/plain": [
       "{'alpha': 0.1, 'max_iter': 500}"
      ]
     },
     "execution_count": 125,
     "metadata": {},
     "output_type": "execute_result"
    }
   ],
   "source": [
    "parameters = {'alpha': [0.0001,0.001, 0.01, 0.1], \n",
    "              'max_iter': [500, 1000, 5000]}\n",
    "gridcv = GridSearchCV(estimator=Ridge(), param_grid= parameters, cv = 3, n_jobs= 8)\n",
    "\n",
    "gridcv.fit(xtrain, ytrain)\n",
    "\n",
    "gridcv.best_params_"
   ]
  },
  {
   "cell_type": "code",
   "execution_count": 127,
   "id": "57143f10-f025-49dd-be58-926a895f59c4",
   "metadata": {},
   "outputs": [
    {
     "name": "stdout",
     "output_type": "stream",
     "text": [
      "R-Squared Train:  0.9042799065125429\n",
      "R-Squared Test:  0.9040861381699791\n",
      "Mean squared error:  0.09585031216674747\n",
      "Root mean squared error:  0.3095970157587884\n",
      "Mean absolute error:  0.21117343960149926\n",
      "Mean absolute percentage error:  1.0164887009860843\n"
     ]
    },
    {
     "data": {
      "image/png": "[encoded data removed]",
      "text/plain": [
       "<Figure size 800x400 with 1 Axes>"
      ]
     },
     "metadata": {},
     "output_type": "display_data"
    },
    {
     "name": "stdin",
     "output_type": "stream",
     "text": [
      "Do you want to save the result? Y/N:  n\n"
     ]
    }
   ],
   "source": [
    "model_validation(Ridge(alpha=0.1, max_iter= 500), xtrain, ytrain, xtest, ytest)"
   ]
  },
  {
   "cell_type": "code",
   "execution_count": 128,
   "id": "320fdc45-2d6a-4bfa-b513-ee6c854152f9",
   "metadata": {},
   "outputs": [
    {
     "name": "stdout",
     "output_type": "stream",
     "text": [
      "R-Squared Train:  0.045301428341799954\n",
      "R-Squared Test:  0.04538950063165559\n",
      "Mean squared error:  0.9539780029321183\n",
      "Root mean squared error:  0.9767179751249172\n",
      "Mean absolute error:  0.8417079998007378\n",
      "Mean absolute percentage error:  1.0507845263894073\n"
     ]
    },
    {
     "data": {
      "image/png": "[encoded data removed]",
      "text/plain": [
       "<Figure size 800x400 with 1 Axes>"
      ]
     },
     "metadata": {},
     "output_type": "display_data"
    },
    {
     "name": "stdin",
     "output_type": "stream",
     "text": [
      "Do you want to save the result? Y/N:  y\n"
     ]
    }
   ],
   "source": [
    "model_validation(ElasticNet(), xtrain, ytrain, xtest, ytest)"
   ]
  },
  {
   "cell_type": "code",
   "execution_count": 129,
   "id": "c28ddb01-d359-44a6-836b-64f0370a90e0",
   "metadata": {},
   "outputs": [
    {
     "data": {
      "text/plain": [
       "{'alpha': 0.0001, 'max_iter': 500}"
      ]
     },
     "execution_count": 129,
     "metadata": {},
     "output_type": "execute_result"
    }
   ],
   "source": [
    "parameters = {'alpha': [0.0001,0.001, 0.01, 0.1], \n",
    "              'max_iter': [500, 1000, 5000]}\n",
    "gridcv = GridSearchCV(estimator=ElasticNet(), param_grid= parameters, cv = 3, n_jobs= 8)\n",
    "\n",
    "gridcv.fit(xtrain, ytrain)\n",
    "\n",
    "gridcv.best_params_"
   ]
  },
  {
   "cell_type": "code",
   "execution_count": 130,
   "id": "2a3e8093-58c6-4f68-bb7b-420995648d89",
   "metadata": {},
   "outputs": [
    {
     "name": "stdout",
     "output_type": "stream",
     "text": [
      "R-Squared Train:  0.9042666092019742\n",
      "R-Squared Test:  0.9040776343185358\n",
      "Mean squared error:  0.09585881038379243\n",
      "Root mean squared error:  0.30961074009761425\n",
      "Mean absolute error:  0.21108813355526745\n",
      "Mean absolute percentage error:  1.0162941411720956\n"
     ]
    },
    {
     "data": {
      "image/png": "[encoded data removed]",
      "text/plain": [
       "<Figure size 800x400 with 1 Axes>"
      ]
     },
     "metadata": {},
     "output_type": "display_data"
    },
    {
     "name": "stdin",
     "output_type": "stream",
     "text": [
      "Do you want to save the result? Y/N:  y\n"
     ]
    }
   ],
   "source": [
    "model_validation(ElasticNet(alpha=0.0001, max_iter=500), xtrain, ytrain, xtest, ytest)"
   ]
  },
  {
   "cell_type": "code",
   "execution_count": 133,
   "id": "fe3fbd67-9a38-4ab5-8c8c-401cdfb63f15",
   "metadata": {},
   "outputs": [
    {
     "name": "stdout",
     "output_type": "stream",
     "text": [
      "R-Squared Train:  0.9917628770580864\n",
      "R-Squared Test:  0.9724173960387311\n",
      "Mean squared error:  0.027564328550806854\n",
      "Root mean squared error:  0.1660250841011889\n",
      "Mean absolute error:  0.09464620580037551\n",
      "Mean absolute percentage error:  0.33020048106548466\n"
     ]
    },
    {
     "data": {
      "image/png": "[encoded data removed]",
      "text/plain": [
       "<Figure size 800x400 with 1 Axes>"
      ]
     },
     "metadata": {},
     "output_type": "display_data"
    },
    {
     "name": "stdin",
     "output_type": "stream",
     "text": [
      "Do you want to save the result? Y/N:  y\n"
     ]
    }
   ],
   "source": [
    "model_validation(RandomForestRegressor(), xtrain, ytrain, xtest, ytest)"
   ]
  },
  {
   "cell_type": "raw",
   "id": "374d1d58-83ae-4459-ab54-a1c98809efba",
   "metadata": {},
   "source": [
    "parameters = {'n_estimators': [100, 200, 500], \n",
    "              'max_depth': [10, 20, 30],\n",
    "              'max_features': ['sqrt']}\n",
    "gridcv = GridSearchCV(estimator=RandomForestRegressor(), param_grid= parameters, cv = 3, n_jobs= 10)\n",
    "\n",
    "gridcv.fit(xtrain, ytrain)\n",
    "\n",
    "gridcv.best_params_"
   ]
  },
  {
   "cell_type": "raw",
   "id": "434ce74e-8dc4-4b34-84b8-56b7c55e5cfa",
   "metadata": {},
   "source": [
    "model_validation(RandomForestRegressor(), xtrain, ytrain, xtest, ytest)"
   ]
  },
  {
   "cell_type": "code",
   "execution_count": 135,
   "id": "9ae1c521-04b4-44cd-a8f3-080818aa9b12",
   "metadata": {},
   "outputs": [
    {
     "name": "stdout",
     "output_type": "stream",
     "text": [
      "R-Squared Train:  0.9266477328363238\n",
      "R-Squared Test:  0.9250124834924591\n",
      "Mean squared error:  0.0749378320163438\n",
      "Root mean squared error:  0.2737477525320414\n",
      "Mean absolute error:  0.18777658053399088\n",
      "Mean absolute percentage error:  0.6295150603365322\n"
     ]
    },
    {
     "data": {
      "image/png": "[encoded data removed]",
      "text/plain": [
       "<Figure size 800x400 with 1 Axes>"
      ]
     },
     "metadata": {},
     "output_type": "display_data"
    },
    {
     "name": "stdin",
     "output_type": "stream",
     "text": [
      "Do you want to save the result? Y/N:  y\n"
     ]
    }
   ],
   "source": [
    "model_validation(AdaBoostRegressor(), xtrain, ytrain, xtest, ytest)"
   ]
  },
  {
   "cell_type": "code",
   "execution_count": null,
   "id": "4a0cc945-d192-422b-b4e0-3bcbd3110fe7",
   "metadata": {},
   "outputs": [],
   "source": [
    "parameters = {'n_estimators': [100, 200, 500], \n",
    "              'learning_rate': [0.01, 0.05, 0.1]}\n",
    "gridcv = GridSearchCV(estimator=AdaBoostRegressor(), param_grid= parameters, cv = 3, n_jobs= -1)\n",
    "\n",
    "gridcv.fit(xtrain, ytrain)\n",
    "\n",
    "gridcv.best_params_"
   ]
  },
  {
   "cell_type": "code",
   "execution_count": null,
   "id": "125b7e5e-43d8-4157-8524-5771711fea23",
   "metadata": {},
   "outputs": [],
   "source": [
    "model_validation(GradientBoostingRegressor(), xtrain, ytrain, xtest, ytest)"
   ]
  },
  {
   "cell_type": "code",
   "execution_count": null,
   "id": "fab2fca8-9e84-4497-a392-20e1cdfb8c92",
   "metadata": {},
   "outputs": [],
   "source": [
    "parameters = {'n_estimators': [100, 200, 500], \n",
    "              'max_depth': [5, 10], \n",
    "              'min_samples_split': [5, 10], \n",
    "              'min_samples_leaf': [2, 5], \n",
    "              'max_features': ['sqrt', None]}\n",
    "\n",
    "gridcv = GridSearchCV(estimator=GradientBoostingRegressor(), param_grid= parameters, cv = 3, n_jobs= 6)\n",
    "\n",
    "gridcv.fit(xtrain, ytrain)\n",
    "\n",
    "gridcv.best_params_"
   ]
  },
  {
   "cell_type": "code",
   "execution_count": null,
   "id": "5434e37f-d094-4579-b3d9-aafd8fe839a1",
   "metadata": {},
   "outputs": [],
   "source": []
  }
 ],
 "metadata": {
  "kernelspec": {
   "display_name": "Python 3 (ipykernel)",
   "language": "python",
   "name": "python3"
  },
  "language_info": {
   "codemirror_mode": {
    "name": "ipython",
    "version": 3
   },
   "file_extension": ".py",
   "mimetype": "text/x-python",
   "name": "python",
   "nbconvert_exporter": "python",
   "pygments_lexer": "ipython3",
   "version": "3.12.4"
  }
 },
 "nbformat": 4,
 "nbformat_minor": 5
}
